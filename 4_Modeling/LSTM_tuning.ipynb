{
  "nbformat": 4,
  "nbformat_minor": 0,
  "metadata": {
    "colab": {
      "provenance": [],
      "collapsed_sections": [
        "DJiVA-R5OCDN",
        "SMC-8ZZgSdCB"
      ],
      "gpuType": "T4"
    },
    "kernelspec": {
      "name": "python3",
      "display_name": "Python 3"
    },
    "language_info": {
      "name": "python"
    },
    "accelerator": "GPU"
  },
  "cells": [
    {
      "cell_type": "code",
      "source": [
        "from google.colab import drive\n",
        "drive.mount('/content/drive')"
      ],
      "metadata": {
        "colab": {
          "base_uri": "https://localhost:8080/"
        },
        "id": "GteyOErQMw9x",
        "outputId": "a062e58b-62be-406b-b4d7-6ab43a0c9ad2"
      },
      "execution_count": 1,
      "outputs": [
        {
          "output_type": "stream",
          "name": "stdout",
          "text": [
            "Mounted at /content/drive\n"
          ]
        }
      ]
    },
    {
      "cell_type": "markdown",
      "source": [
        "### 데이터 불러오기"
      ],
      "metadata": {
        "id": "DJiVA-R5OCDN"
      }
    },
    {
      "cell_type": "code",
      "source": [
        "!pip install konlpy"
      ],
      "metadata": {
        "colab": {
          "base_uri": "https://localhost:8080/"
        },
        "collapsed": true,
        "id": "oKWjm48UPGl2",
        "outputId": "9288ebaa-65ae-43df-d644-4d8cc7c9cc94"
      },
      "execution_count": 2,
      "outputs": [
        {
          "output_type": "stream",
          "name": "stdout",
          "text": [
            "Collecting konlpy\n",
            "  Downloading konlpy-0.6.0-py2.py3-none-any.whl.metadata (1.9 kB)\n",
            "Collecting JPype1>=0.7.0 (from konlpy)\n",
            "  Downloading JPype1-1.5.0-cp310-cp310-manylinux_2_17_x86_64.manylinux2014_x86_64.whl.metadata (4.9 kB)\n",
            "Requirement already satisfied: lxml>=4.1.0 in /usr/local/lib/python3.10/dist-packages (from konlpy) (4.9.4)\n",
            "Requirement already satisfied: numpy>=1.6 in /usr/local/lib/python3.10/dist-packages (from konlpy) (1.26.4)\n",
            "Requirement already satisfied: packaging in /usr/local/lib/python3.10/dist-packages (from JPype1>=0.7.0->konlpy) (24.1)\n",
            "Downloading konlpy-0.6.0-py2.py3-none-any.whl (19.4 MB)\n",
            "\u001b[2K   \u001b[90m━━━━━━━━━━━━━━━━━━━━━━━━━━━━━━━━━━━━━━━━\u001b[0m \u001b[32m19.4/19.4 MB\u001b[0m \u001b[31m64.7 MB/s\u001b[0m eta \u001b[36m0:00:00\u001b[0m\n",
            "\u001b[?25hDownloading JPype1-1.5.0-cp310-cp310-manylinux_2_17_x86_64.manylinux2014_x86_64.whl (488 kB)\n",
            "\u001b[2K   \u001b[90m━━━━━━━━━━━━━━━━━━━━━━━━━━━━━━━━━━━━━━━━\u001b[0m \u001b[32m488.6/488.6 kB\u001b[0m \u001b[31m36.0 MB/s\u001b[0m eta \u001b[36m0:00:00\u001b[0m\n",
            "\u001b[?25hInstalling collected packages: JPype1, konlpy\n",
            "Successfully installed JPype1-1.5.0 konlpy-0.6.0\n"
          ]
        }
      ]
    },
    {
      "cell_type": "code",
      "execution_count": 3,
      "metadata": {
        "id": "p82wwOYFN_aC",
        "colab": {
          "base_uri": "https://localhost:8080/"
        },
        "outputId": "1af27c85-9cc5-4f1a-e8a1-559a7fe9201e"
      },
      "outputs": [
        {
          "output_type": "stream",
          "name": "stdout",
          "text": [
            "Selecting previously unselected package fonts-nanum.\n",
            "(Reading database ... 123594 files and directories currently installed.)\n",
            "Preparing to unpack .../fonts-nanum_20200506-1_all.deb ...\n",
            "Unpacking fonts-nanum (20200506-1) ...\n",
            "Setting up fonts-nanum (20200506-1) ...\n",
            "Processing triggers for fontconfig (2.13.1-4.2ubuntu5) ...\n"
          ]
        }
      ],
      "source": [
        "### 라이브러리\n",
        "import numpy as np\n",
        "import pandas as pd\n",
        "import matplotlib.pyplot as plt\n",
        "import seaborn as sns\n",
        "import pickle\n",
        "import re\n",
        "import urllib.request\n",
        "import random\n",
        "import torch\n",
        "import warnings\n",
        "warnings.filterwarnings('ignore')\n",
        "\n",
        "from sklearn.metrics import accuracy_score, f1_score, confusion_matrix\n",
        "from sklearn.model_selection import train_test_split\n",
        "from collections import Counter\n",
        "from tqdm import tqdm\n",
        "\n",
        "### 폰트 설정\n",
        "import matplotlib.font_manager as fm\n",
        "import matplotlib.pyplot as plt\n",
        "\n",
        "!apt-get install -qq fonts-nanum\n",
        "font_path = '/usr/share/fonts/truetype/nanum/NanumGothic.ttf'\n",
        "fm.fontManager.addfont(font_path)\n",
        "plt.rc('font', family='NanumGothic')"
      ]
    },
    {
      "cell_type": "code",
      "source": [
        "### 시드 고정\n",
        "random.seed(2024)\n",
        "np.random.seed(2024)\n",
        "torch.manual_seed(2024)\n",
        "torch.cuda.manual_seed(2024)\n",
        "torch.cuda.manual_seed_all(2024)\n",
        "torch.backends.cudnn.deterministic = True"
      ],
      "metadata": {
        "id": "8xSjHNnSHntJ"
      },
      "execution_count": 4,
      "outputs": []
    },
    {
      "cell_type": "code",
      "source": [
        "### 데이터\n",
        "%cd '/content/drive/MyDrive/[2024-1] EURON 6기/프로젝트'\n",
        "train = pd.read_csv('./review_train.csv', encoding='utf-8')\n",
        "test = pd.read_csv('./review_test.csv', encoding='utf-8')\n",
        "print(train.shape, test.shape)"
      ],
      "metadata": {
        "colab": {
          "base_uri": "https://localhost:8080/"
        },
        "id": "J38K-QXLOSOr",
        "outputId": "a7d206d6-3b54-41e3-de74-ed5842681ee9"
      },
      "execution_count": 6,
      "outputs": [
        {
          "output_type": "stream",
          "name": "stdout",
          "text": [
            "/content/drive/MyDrive/[2024-1] EURON 6기/프로젝트\n",
            "(2026, 2) (400, 2)\n"
          ]
        }
      ]
    },
    {
      "cell_type": "code",
      "source": [
        "### label encoding\n",
        "from sklearn.preprocessing import LabelEncoder\n",
        "n = train.shape[0]\n",
        "y = pd.concat([train,test])\n",
        "\n",
        "le = LabelEncoder()\n",
        "y['keyword2'] = le.fit_transform(y['keyword2'])\n",
        "train = y[:n]\n",
        "test = y[n:]"
      ],
      "metadata": {
        "id": "l3Rh-M9cRrTZ"
      },
      "execution_count": 7,
      "outputs": []
    },
    {
      "cell_type": "markdown",
      "source": [
        "### NLP"
      ],
      "metadata": {
        "id": "SMC-8ZZgSdCB"
      }
    },
    {
      "cell_type": "code",
      "source": [
        "### okt\n",
        "from konlpy.tag import Okt\n",
        "okt = Okt()\n",
        "train['okt'] = train['reviews'].apply(okt.morphs)\n",
        "test['okt'] = test['reviews'].apply(okt.morphs)"
      ],
      "metadata": {
        "id": "EbivPlyQSeT5"
      },
      "execution_count": 8,
      "outputs": []
    },
    {
      "cell_type": "code",
      "source": [
        "### 불용어 제거\n",
        "with open('./new_stopwords.txt', 'r', encoding='utf-8') as file:\n",
        "    stop_words = file.readlines()\n",
        "stop_words = [word.strip() for word in stop_words]\n",
        "\n",
        "\n",
        "def remove_stopwords(review):\n",
        "    return [word for word in review if word not in stop_words]\n",
        "\n",
        "\n",
        "train['okt'] = [remove_stopwords(review) for review in train['okt']]\n",
        "test['okt'] = [remove_stopwords(review) for review in test['okt']]"
      ],
      "metadata": {
        "id": "0eJrlN3XTAC0"
      },
      "execution_count": 9,
      "outputs": []
    },
    {
      "cell_type": "code",
      "source": [
        "### TF-IDF\n",
        "from sklearn.feature_extraction.text import TfidfVectorizer\n",
        "tfidf_okt = TfidfVectorizer(tokenizer=okt.morphs, ngram_range=(1,2), min_df=2,\n",
        "                            max_df=0.95, stop_words=stop_words)\n",
        "tfidf_okt_matrix = tfidf_okt.fit_transform(train['reviews'])\n",
        "tfidf_okt_matrix_test = tfidf_okt.transform(test['reviews'])\n",
        "\n",
        "vocab_size = tfidf_okt_matrix.shape[1]"
      ],
      "metadata": {
        "id": "D8VFH97RTJQ7"
      },
      "execution_count": 10,
      "outputs": []
    },
    {
      "cell_type": "code",
      "source": [
        "### X/y split\n",
        "X = tfidf_okt_matrix\n",
        "y = train['keyword2']\n",
        "X_test = tfidf_okt_matrix_test\n",
        "y_test = test['keyword2']\n",
        "\n",
        "### train/valid split\n",
        "X_train, X_valid, y_train, y_valid = train_test_split(\n",
        "    X, y, test_size=0.2, shuffle=True, random_state=2024\n",
        ")\n",
        "\n",
        "print(X_train.shape, X_valid.shape, X_test.shape)\n",
        "print(y_train.shape, y_valid.shape, y_test.shape)"
      ],
      "metadata": {
        "colab": {
          "base_uri": "https://localhost:8080/"
        },
        "id": "sYihdu1-TSah",
        "outputId": "ee8b8384-c85b-4490-8f35-425b37d114a7"
      },
      "execution_count": 11,
      "outputs": [
        {
          "output_type": "stream",
          "name": "stdout",
          "text": [
            "(1620, 92075) (406, 92075) (400, 92075)\n",
            "(1620,) (406,) (400,)\n"
          ]
        }
      ]
    },
    {
      "cell_type": "markdown",
      "source": [
        "### 7.1.2"
      ],
      "metadata": {
        "id": "NIdUf2KLgMKW"
      }
    },
    {
      "cell_type": "code",
      "source": [
        "### 라이브러리\n",
        "import torch\n",
        "import torch.nn as nn\n",
        "import torch.nn.functional as F\n",
        "import torch.optim as optim\n",
        "\n",
        "from tqdm import tqdm\n",
        "from torch.utils.data import DataLoader, TensorDataset\n",
        "from torch.nn.utils.rnn import pad_sequence\n",
        "from sklearn.model_selection import train_test_split\n",
        "\n",
        "\n",
        "### 장치 설정\n",
        "device = torch.device('cuda' if torch.cuda.is_available() else 'cpu')"
      ],
      "metadata": {
        "id": "ZQHW-R-HgM7b"
      },
      "execution_count": 12,
      "outputs": []
    },
    {
      "cell_type": "code",
      "source": [
        "### 베이스라인 LSTM 모델 구축\n",
        "class LSTMModel(nn.Module):\n",
        "  def __init__(self, input_dim, hidden_dim, output_dim, num_layers=1):\n",
        "    super(LSTMModel, self).__init__()\n",
        "    self.lstm = nn.LSTM(input_dim, hidden_dim, batch_first=True,\n",
        "                        dropout=0.4, bidirectional=False, num_layers=num_layers)\n",
        "    # self.layer_norm = nn.LayerNorm(hidden_dim)\n",
        "    self.tanh = nn.Tanh()\n",
        "    self.dropout = nn.Dropout(0.5)\n",
        "    self.fc = nn.Linear(hidden_dim, output_dim)\n",
        "\n",
        "  def _initialize_weights(self):\n",
        "        for name, param in self.named_parameters():\n",
        "            if 'weight' in name:\n",
        "                nn.init.xavier_uniform_(param.data)\n",
        "            elif 'bias' in name:\n",
        "                nn.init.constant_(param.data, 0)\n",
        "\n",
        "  def forward(self, x):\n",
        "    x, _ = self.lstm(x)\n",
        "    x = x[:, -1, :]\n",
        "    # x = self.layer_norm(x)\n",
        "    x = self.tanh(x)\n",
        "    x = self.dropout(x)\n",
        "    x = self.fc(x)\n",
        "    return x"
      ],
      "metadata": {
        "id": "C6PAAsFVnyEL"
      },
      "execution_count": 13,
      "outputs": []
    },
    {
      "cell_type": "code",
      "source": [
        "### 모델 훈련 함수\n",
        "def train(model, train_loader, criterion, optimizer, device):\n",
        "  model.train()\n",
        "  total_loss = 0\n",
        "  correct = 0\n",
        "\n",
        "  for X, y in tqdm(train_loader, desc='Training', leave=False):\n",
        "    X = X.unsqueeze(1)  # (batch_size, seq_length, input_dim)\n",
        "    X, y = X.to(device), y.to(device)\n",
        "    optimizer.zero_grad()\n",
        "    outputs = model(X)\n",
        "    loss = criterion(outputs, y)\n",
        "    loss.backward()\n",
        "    optimizer.step()\n",
        "    total_loss += loss.item()\n",
        "    _, predicted = torch.max(outputs, 1)\n",
        "    correct += (predicted == y).sum().item()\n",
        "\n",
        "  return total_loss / len(train_loader), correct / len(train_loader.dataset)\n",
        "\n",
        "### 모델 평가 함수\n",
        "def evaluate(model, test_loader, criterion, device):\n",
        "  model.eval()\n",
        "  total_loss = 0\n",
        "  correct = 0\n",
        "  with torch.no_grad():\n",
        "    for X, y in test_loader:\n",
        "      X = X.unsqueeze(1)  # (batch_size, seq_length, input_dim)\n",
        "      X, y = X.to(device), y.to(device)\n",
        "      outputs = model(X)\n",
        "      loss = criterion(outputs, y)\n",
        "      total_loss += loss.item()\n",
        "      _, predicted = torch.max(outputs, 1)\n",
        "      correct += (predicted == y).sum().item()\n",
        "\n",
        "  return total_loss / len(test_loader), correct / len(test_loader.dataset)"
      ],
      "metadata": {
        "id": "9q1SUG6ze1k3"
      },
      "execution_count": 14,
      "outputs": []
    },
    {
      "cell_type": "code",
      "source": [
        "X_tensor = torch.tensor(tfidf_okt_matrix.toarray(), dtype=torch.float32)\n",
        "y_tensor = torch.tensor(y.values, dtype=torch.long)\n",
        "\n",
        "### cross-validation\n",
        "from sklearn.model_selection import KFold\n",
        "kfold = KFold(n_splits=10, shuffle=True, random_state=2024)\n",
        "BATCH_SIZE = 32\n",
        "\n",
        "### 모델 설정\n",
        "input_dim = tfidf_okt_matrix.shape[1]\n",
        "hidden_dim = 64\n",
        "output_dim = 13\n",
        "lr = 0.001\n",
        "epochs = 10\n",
        "\n",
        "fold_val_loss = []\n",
        "fold_val_acc = []\n",
        "\n",
        "for fold, (train_indices, val_indices) in enumerate(kfold.split(X_tensor)):\n",
        "  print(f'Fold {fold+1}/{kfold.n_splits}')\n",
        "\n",
        "  train_dataset = TensorDataset(X_tensor[train_indices], y_tensor[train_indices])\n",
        "  valid_dataset = TensorDataset(X_tensor[val_indices], y_tensor[val_indices])\n",
        "\n",
        "  train_loader = DataLoader(train_dataset, batch_size=BATCH_SIZE, shuffle=True)\n",
        "  valid_loader = DataLoader(valid_dataset, batch_size=BATCH_SIZE, shuffle=False)\n",
        "\n",
        "  model = LSTMModel(input_dim, hidden_dim, output_dim)\n",
        "  model.to(device)\n",
        "\n",
        "  criterion = nn.CrossEntropyLoss()\n",
        "  optimizer = optim.AdamW(model.parameters(), lr=lr, weight_decay=1e-4)\n",
        "\n",
        "  for epoch in range(epochs):\n",
        "    train_loss, train_acc = train(model, train_loader, criterion, optimizer, device)\n",
        "    print(f\"[Training] Epoch {epoch+1}: Loss = {train_loss:.4f}, Accuracy = {train_acc:.4f}\")\n",
        "\n",
        "  valid_loss, valid_acc = evaluate(model, valid_loader, criterion, device)\n",
        "  print(f\"[Validation] Loss = {valid_loss:.4f}, Accuracy = {valid_acc:.4f}\")\n",
        "\n",
        "  fold_val_loss.append(valid_loss)\n",
        "  fold_val_acc.append(valid_acc)\n",
        "\n",
        "print(f'Average Validation Loss: {np.mean(fold_val_loss):.4f}')\n",
        "print(f'Average Validation Accuracy: {np.mean(fold_val_acc):.4f}')"
      ],
      "metadata": {
        "colab": {
          "base_uri": "https://localhost:8080/"
        },
        "id": "rZvwCTqpeT15",
        "outputId": "65e8a038-cb17-4ca4-c361-aae6f943fb4b"
      },
      "execution_count": 17,
      "outputs": [
        {
          "output_type": "stream",
          "name": "stdout",
          "text": [
            "Fold 1/10\n"
          ]
        },
        {
          "output_type": "stream",
          "name": "stderr",
          "text": []
        },
        {
          "output_type": "stream",
          "name": "stdout",
          "text": [
            "[Training] Epoch 1: Loss = 2.5298, Accuracy = 0.1201\n"
          ]
        },
        {
          "output_type": "stream",
          "name": "stderr",
          "text": []
        },
        {
          "output_type": "stream",
          "name": "stdout",
          "text": [
            "[Training] Epoch 2: Loss = 2.2604, Accuracy = 0.5118\n"
          ]
        },
        {
          "output_type": "stream",
          "name": "stderr",
          "text": []
        },
        {
          "output_type": "stream",
          "name": "stdout",
          "text": [
            "[Training] Epoch 3: Loss = 1.5697, Accuracy = 0.8031\n"
          ]
        },
        {
          "output_type": "stream",
          "name": "stderr",
          "text": []
        },
        {
          "output_type": "stream",
          "name": "stdout",
          "text": [
            "[Training] Epoch 4: Loss = 0.8763, Accuracy = 0.9457\n"
          ]
        },
        {
          "output_type": "stream",
          "name": "stderr",
          "text": []
        },
        {
          "output_type": "stream",
          "name": "stdout",
          "text": [
            "[Training] Epoch 5: Loss = 0.4597, Accuracy = 0.9890\n"
          ]
        },
        {
          "output_type": "stream",
          "name": "stderr",
          "text": []
        },
        {
          "output_type": "stream",
          "name": "stdout",
          "text": [
            "[Training] Epoch 6: Loss = 0.2450, Accuracy = 0.9967\n"
          ]
        },
        {
          "output_type": "stream",
          "name": "stderr",
          "text": []
        },
        {
          "output_type": "stream",
          "name": "stdout",
          "text": [
            "[Training] Epoch 7: Loss = 0.1424, Accuracy = 0.9989\n"
          ]
        },
        {
          "output_type": "stream",
          "name": "stderr",
          "text": []
        },
        {
          "output_type": "stream",
          "name": "stdout",
          "text": [
            "[Training] Epoch 8: Loss = 0.0883, Accuracy = 0.9989\n"
          ]
        },
        {
          "output_type": "stream",
          "name": "stderr",
          "text": []
        },
        {
          "output_type": "stream",
          "name": "stdout",
          "text": [
            "[Training] Epoch 9: Loss = 0.0637, Accuracy = 1.0000\n"
          ]
        },
        {
          "output_type": "stream",
          "name": "stderr",
          "text": []
        },
        {
          "output_type": "stream",
          "name": "stdout",
          "text": [
            "[Training] Epoch 10: Loss = 0.0460, Accuracy = 1.0000\n",
            "[Validation] Loss = 0.1842, Accuracy = 0.9704\n",
            "Fold 2/10\n"
          ]
        },
        {
          "output_type": "stream",
          "name": "stderr",
          "text": []
        },
        {
          "output_type": "stream",
          "name": "stdout",
          "text": [
            "[Training] Epoch 1: Loss = 2.5346, Accuracy = 0.1651\n"
          ]
        },
        {
          "output_type": "stream",
          "name": "stderr",
          "text": []
        },
        {
          "output_type": "stream",
          "name": "stdout",
          "text": [
            "[Training] Epoch 2: Loss = 2.2755, Accuracy = 0.5837\n"
          ]
        },
        {
          "output_type": "stream",
          "name": "stderr",
          "text": []
        },
        {
          "output_type": "stream",
          "name": "stdout",
          "text": [
            "[Training] Epoch 3: Loss = 1.5702, Accuracy = 0.8683\n"
          ]
        },
        {
          "output_type": "stream",
          "name": "stderr",
          "text": []
        },
        {
          "output_type": "stream",
          "name": "stdout",
          "text": [
            "[Training] Epoch 4: Loss = 0.8583, Accuracy = 0.9781\n"
          ]
        },
        {
          "output_type": "stream",
          "name": "stderr",
          "text": []
        },
        {
          "output_type": "stream",
          "name": "stdout",
          "text": [
            "[Training] Epoch 5: Loss = 0.4492, Accuracy = 0.9912\n"
          ]
        },
        {
          "output_type": "stream",
          "name": "stderr",
          "text": []
        },
        {
          "output_type": "stream",
          "name": "stdout",
          "text": [
            "[Training] Epoch 6: Loss = 0.2387, Accuracy = 0.9978\n"
          ]
        },
        {
          "output_type": "stream",
          "name": "stderr",
          "text": []
        },
        {
          "output_type": "stream",
          "name": "stdout",
          "text": [
            "[Training] Epoch 7: Loss = 0.1407, Accuracy = 0.9978\n"
          ]
        },
        {
          "output_type": "stream",
          "name": "stderr",
          "text": []
        },
        {
          "output_type": "stream",
          "name": "stdout",
          "text": [
            "[Training] Epoch 8: Loss = 0.0932, Accuracy = 0.9984\n"
          ]
        },
        {
          "output_type": "stream",
          "name": "stderr",
          "text": []
        },
        {
          "output_type": "stream",
          "name": "stdout",
          "text": [
            "[Training] Epoch 9: Loss = 0.0608, Accuracy = 1.0000\n"
          ]
        },
        {
          "output_type": "stream",
          "name": "stderr",
          "text": []
        },
        {
          "output_type": "stream",
          "name": "stdout",
          "text": [
            "[Training] Epoch 10: Loss = 0.0477, Accuracy = 1.0000\n",
            "[Validation] Loss = 0.2482, Accuracy = 0.9360\n",
            "Fold 3/10\n"
          ]
        },
        {
          "output_type": "stream",
          "name": "stderr",
          "text": []
        },
        {
          "output_type": "stream",
          "name": "stdout",
          "text": [
            "[Training] Epoch 1: Loss = 2.5346, Accuracy = 0.1744\n"
          ]
        },
        {
          "output_type": "stream",
          "name": "stderr",
          "text": []
        },
        {
          "output_type": "stream",
          "name": "stdout",
          "text": [
            "[Training] Epoch 2: Loss = 2.2790, Accuracy = 0.6018\n"
          ]
        },
        {
          "output_type": "stream",
          "name": "stderr",
          "text": []
        },
        {
          "output_type": "stream",
          "name": "stdout",
          "text": [
            "[Training] Epoch 3: Loss = 1.5973, Accuracy = 0.8459\n"
          ]
        },
        {
          "output_type": "stream",
          "name": "stderr",
          "text": []
        },
        {
          "output_type": "stream",
          "name": "stdout",
          "text": [
            "[Training] Epoch 4: Loss = 0.8923, Accuracy = 0.9654\n"
          ]
        },
        {
          "output_type": "stream",
          "name": "stderr",
          "text": []
        },
        {
          "output_type": "stream",
          "name": "stdout",
          "text": [
            "[Training] Epoch 5: Loss = 0.4785, Accuracy = 0.9901\n"
          ]
        },
        {
          "output_type": "stream",
          "name": "stderr",
          "text": []
        },
        {
          "output_type": "stream",
          "name": "stdout",
          "text": [
            "[Training] Epoch 6: Loss = 0.2505, Accuracy = 0.9978\n"
          ]
        },
        {
          "output_type": "stream",
          "name": "stderr",
          "text": []
        },
        {
          "output_type": "stream",
          "name": "stdout",
          "text": [
            "[Training] Epoch 7: Loss = 0.1434, Accuracy = 0.9995\n"
          ]
        },
        {
          "output_type": "stream",
          "name": "stderr",
          "text": []
        },
        {
          "output_type": "stream",
          "name": "stdout",
          "text": [
            "[Training] Epoch 8: Loss = 0.0894, Accuracy = 1.0000\n"
          ]
        },
        {
          "output_type": "stream",
          "name": "stderr",
          "text": []
        },
        {
          "output_type": "stream",
          "name": "stdout",
          "text": [
            "[Training] Epoch 9: Loss = 0.0633, Accuracy = 1.0000\n"
          ]
        },
        {
          "output_type": "stream",
          "name": "stderr",
          "text": []
        },
        {
          "output_type": "stream",
          "name": "stdout",
          "text": [
            "[Training] Epoch 10: Loss = 0.0492, Accuracy = 1.0000\n",
            "[Validation] Loss = 0.2488, Accuracy = 0.9507\n",
            "Fold 4/10\n"
          ]
        },
        {
          "output_type": "stream",
          "name": "stderr",
          "text": []
        },
        {
          "output_type": "stream",
          "name": "stdout",
          "text": [
            "[Training] Epoch 1: Loss = 2.5305, Accuracy = 0.1739\n"
          ]
        },
        {
          "output_type": "stream",
          "name": "stderr",
          "text": []
        },
        {
          "output_type": "stream",
          "name": "stdout",
          "text": [
            "[Training] Epoch 2: Loss = 2.2763, Accuracy = 0.5963\n"
          ]
        },
        {
          "output_type": "stream",
          "name": "stderr",
          "text": []
        },
        {
          "output_type": "stream",
          "name": "stdout",
          "text": [
            "[Training] Epoch 3: Loss = 1.6146, Accuracy = 0.7855\n"
          ]
        },
        {
          "output_type": "stream",
          "name": "stderr",
          "text": []
        },
        {
          "output_type": "stream",
          "name": "stdout",
          "text": [
            "[Training] Epoch 4: Loss = 0.9187, Accuracy = 0.9748\n"
          ]
        },
        {
          "output_type": "stream",
          "name": "stderr",
          "text": []
        },
        {
          "output_type": "stream",
          "name": "stdout",
          "text": [
            "[Training] Epoch 5: Loss = 0.4781, Accuracy = 0.9962\n"
          ]
        },
        {
          "output_type": "stream",
          "name": "stderr",
          "text": []
        },
        {
          "output_type": "stream",
          "name": "stdout",
          "text": [
            "[Training] Epoch 6: Loss = 0.2430, Accuracy = 0.9989\n"
          ]
        },
        {
          "output_type": "stream",
          "name": "stderr",
          "text": []
        },
        {
          "output_type": "stream",
          "name": "stdout",
          "text": [
            "[Training] Epoch 7: Loss = 0.1364, Accuracy = 0.9989\n"
          ]
        },
        {
          "output_type": "stream",
          "name": "stderr",
          "text": []
        },
        {
          "output_type": "stream",
          "name": "stdout",
          "text": [
            "[Training] Epoch 8: Loss = 0.0878, Accuracy = 0.9995\n"
          ]
        },
        {
          "output_type": "stream",
          "name": "stderr",
          "text": []
        },
        {
          "output_type": "stream",
          "name": "stdout",
          "text": [
            "[Training] Epoch 9: Loss = 0.0585, Accuracy = 0.9989\n"
          ]
        },
        {
          "output_type": "stream",
          "name": "stderr",
          "text": []
        },
        {
          "output_type": "stream",
          "name": "stdout",
          "text": [
            "[Training] Epoch 10: Loss = 0.0450, Accuracy = 0.9995\n",
            "[Validation] Loss = 0.2318, Accuracy = 0.9655\n",
            "Fold 5/10\n"
          ]
        },
        {
          "output_type": "stream",
          "name": "stderr",
          "text": []
        },
        {
          "output_type": "stream",
          "name": "stdout",
          "text": [
            "[Training] Epoch 1: Loss = 2.5301, Accuracy = 0.1876\n"
          ]
        },
        {
          "output_type": "stream",
          "name": "stderr",
          "text": []
        },
        {
          "output_type": "stream",
          "name": "stdout",
          "text": [
            "[Training] Epoch 2: Loss = 2.2719, Accuracy = 0.5507\n"
          ]
        },
        {
          "output_type": "stream",
          "name": "stderr",
          "text": []
        },
        {
          "output_type": "stream",
          "name": "stdout",
          "text": [
            "[Training] Epoch 3: Loss = 1.5841, Accuracy = 0.8256\n"
          ]
        },
        {
          "output_type": "stream",
          "name": "stderr",
          "text": []
        },
        {
          "output_type": "stream",
          "name": "stdout",
          "text": [
            "[Training] Epoch 4: Loss = 0.8855, Accuracy = 0.9556\n"
          ]
        },
        {
          "output_type": "stream",
          "name": "stderr",
          "text": []
        },
        {
          "output_type": "stream",
          "name": "stdout",
          "text": [
            "[Training] Epoch 5: Loss = 0.4609, Accuracy = 0.9918\n"
          ]
        },
        {
          "output_type": "stream",
          "name": "stderr",
          "text": []
        },
        {
          "output_type": "stream",
          "name": "stdout",
          "text": [
            "[Training] Epoch 6: Loss = 0.2426, Accuracy = 0.9995\n"
          ]
        },
        {
          "output_type": "stream",
          "name": "stderr",
          "text": []
        },
        {
          "output_type": "stream",
          "name": "stdout",
          "text": [
            "[Training] Epoch 7: Loss = 0.1397, Accuracy = 0.9989\n"
          ]
        },
        {
          "output_type": "stream",
          "name": "stderr",
          "text": []
        },
        {
          "output_type": "stream",
          "name": "stdout",
          "text": [
            "[Training] Epoch 8: Loss = 0.0877, Accuracy = 1.0000\n"
          ]
        },
        {
          "output_type": "stream",
          "name": "stderr",
          "text": []
        },
        {
          "output_type": "stream",
          "name": "stdout",
          "text": [
            "[Training] Epoch 9: Loss = 0.0634, Accuracy = 0.9995\n"
          ]
        },
        {
          "output_type": "stream",
          "name": "stderr",
          "text": []
        },
        {
          "output_type": "stream",
          "name": "stdout",
          "text": [
            "[Training] Epoch 10: Loss = 0.0451, Accuracy = 0.9995\n",
            "[Validation] Loss = 0.2598, Accuracy = 0.9310\n",
            "Fold 6/10\n"
          ]
        },
        {
          "output_type": "stream",
          "name": "stderr",
          "text": []
        },
        {
          "output_type": "stream",
          "name": "stdout",
          "text": [
            "[Training] Epoch 1: Loss = 2.5304, Accuracy = 0.2457\n"
          ]
        },
        {
          "output_type": "stream",
          "name": "stderr",
          "text": []
        },
        {
          "output_type": "stream",
          "name": "stdout",
          "text": [
            "[Training] Epoch 2: Loss = 2.2606, Accuracy = 0.6506\n"
          ]
        },
        {
          "output_type": "stream",
          "name": "stderr",
          "text": []
        },
        {
          "output_type": "stream",
          "name": "stdout",
          "text": [
            "[Training] Epoch 3: Loss = 1.5765, Accuracy = 0.8415\n"
          ]
        },
        {
          "output_type": "stream",
          "name": "stderr",
          "text": []
        },
        {
          "output_type": "stream",
          "name": "stdout",
          "text": [
            "[Training] Epoch 4: Loss = 0.8798, Accuracy = 0.9753\n"
          ]
        },
        {
          "output_type": "stream",
          "name": "stderr",
          "text": []
        },
        {
          "output_type": "stream",
          "name": "stdout",
          "text": [
            "[Training] Epoch 5: Loss = 0.4505, Accuracy = 0.9967\n"
          ]
        },
        {
          "output_type": "stream",
          "name": "stderr",
          "text": []
        },
        {
          "output_type": "stream",
          "name": "stdout",
          "text": [
            "[Training] Epoch 6: Loss = 0.2366, Accuracy = 0.9967\n"
          ]
        },
        {
          "output_type": "stream",
          "name": "stderr",
          "text": []
        },
        {
          "output_type": "stream",
          "name": "stdout",
          "text": [
            "[Training] Epoch 7: Loss = 0.1344, Accuracy = 0.9984\n"
          ]
        },
        {
          "output_type": "stream",
          "name": "stderr",
          "text": []
        },
        {
          "output_type": "stream",
          "name": "stdout",
          "text": [
            "[Training] Epoch 8: Loss = 0.0860, Accuracy = 0.9995\n"
          ]
        },
        {
          "output_type": "stream",
          "name": "stderr",
          "text": []
        },
        {
          "output_type": "stream",
          "name": "stdout",
          "text": [
            "[Training] Epoch 9: Loss = 0.0607, Accuracy = 1.0000\n"
          ]
        },
        {
          "output_type": "stream",
          "name": "stderr",
          "text": []
        },
        {
          "output_type": "stream",
          "name": "stdout",
          "text": [
            "[Training] Epoch 10: Loss = 0.0444, Accuracy = 1.0000\n",
            "[Validation] Loss = 0.2746, Accuracy = 0.9458\n",
            "Fold 7/10\n"
          ]
        },
        {
          "output_type": "stream",
          "name": "stderr",
          "text": []
        },
        {
          "output_type": "stream",
          "name": "stdout",
          "text": [
            "[Training] Epoch 1: Loss = 2.5330, Accuracy = 0.1678\n"
          ]
        },
        {
          "output_type": "stream",
          "name": "stderr",
          "text": []
        },
        {
          "output_type": "stream",
          "name": "stdout",
          "text": [
            "[Training] Epoch 2: Loss = 2.2734, Accuracy = 0.5554\n"
          ]
        },
        {
          "output_type": "stream",
          "name": "stderr",
          "text": []
        },
        {
          "output_type": "stream",
          "name": "stdout",
          "text": [
            "[Training] Epoch 3: Loss = 1.5811, Accuracy = 0.8311\n"
          ]
        },
        {
          "output_type": "stream",
          "name": "stderr",
          "text": []
        },
        {
          "output_type": "stream",
          "name": "stdout",
          "text": [
            "[Training] Epoch 4: Loss = 0.8758, Accuracy = 0.9698\n"
          ]
        },
        {
          "output_type": "stream",
          "name": "stderr",
          "text": []
        },
        {
          "output_type": "stream",
          "name": "stdout",
          "text": [
            "[Training] Epoch 5: Loss = 0.4686, Accuracy = 0.9940\n"
          ]
        },
        {
          "output_type": "stream",
          "name": "stderr",
          "text": []
        },
        {
          "output_type": "stream",
          "name": "stdout",
          "text": [
            "[Training] Epoch 6: Loss = 0.2460, Accuracy = 0.9973\n"
          ]
        },
        {
          "output_type": "stream",
          "name": "stderr",
          "text": []
        },
        {
          "output_type": "stream",
          "name": "stdout",
          "text": [
            "[Training] Epoch 7: Loss = 0.1405, Accuracy = 0.9995\n"
          ]
        },
        {
          "output_type": "stream",
          "name": "stderr",
          "text": []
        },
        {
          "output_type": "stream",
          "name": "stdout",
          "text": [
            "[Training] Epoch 8: Loss = 0.0930, Accuracy = 0.9989\n"
          ]
        },
        {
          "output_type": "stream",
          "name": "stderr",
          "text": []
        },
        {
          "output_type": "stream",
          "name": "stdout",
          "text": [
            "[Training] Epoch 9: Loss = 0.0646, Accuracy = 0.9995\n"
          ]
        },
        {
          "output_type": "stream",
          "name": "stderr",
          "text": []
        },
        {
          "output_type": "stream",
          "name": "stdout",
          "text": [
            "[Training] Epoch 10: Loss = 0.0479, Accuracy = 1.0000\n",
            "[Validation] Loss = 0.2691, Accuracy = 0.9455\n",
            "Fold 8/10\n"
          ]
        },
        {
          "output_type": "stream",
          "name": "stderr",
          "text": []
        },
        {
          "output_type": "stream",
          "name": "stdout",
          "text": [
            "[Training] Epoch 1: Loss = 2.5342, Accuracy = 0.1656\n"
          ]
        },
        {
          "output_type": "stream",
          "name": "stderr",
          "text": []
        },
        {
          "output_type": "stream",
          "name": "stdout",
          "text": [
            "[Training] Epoch 2: Loss = 2.2753, Accuracy = 0.5970\n"
          ]
        },
        {
          "output_type": "stream",
          "name": "stderr",
          "text": []
        },
        {
          "output_type": "stream",
          "name": "stdout",
          "text": [
            "[Training] Epoch 3: Loss = 1.5840, Accuracy = 0.8525\n"
          ]
        },
        {
          "output_type": "stream",
          "name": "stderr",
          "text": []
        },
        {
          "output_type": "stream",
          "name": "stdout",
          "text": [
            "[Training] Epoch 4: Loss = 0.8899, Accuracy = 0.9808\n"
          ]
        },
        {
          "output_type": "stream",
          "name": "stderr",
          "text": []
        },
        {
          "output_type": "stream",
          "name": "stdout",
          "text": [
            "[Training] Epoch 5: Loss = 0.4511, Accuracy = 0.9967\n"
          ]
        },
        {
          "output_type": "stream",
          "name": "stderr",
          "text": []
        },
        {
          "output_type": "stream",
          "name": "stdout",
          "text": [
            "[Training] Epoch 6: Loss = 0.2404, Accuracy = 0.9989\n"
          ]
        },
        {
          "output_type": "stream",
          "name": "stderr",
          "text": []
        },
        {
          "output_type": "stream",
          "name": "stdout",
          "text": [
            "[Training] Epoch 7: Loss = 0.1323, Accuracy = 0.9989\n"
          ]
        },
        {
          "output_type": "stream",
          "name": "stderr",
          "text": []
        },
        {
          "output_type": "stream",
          "name": "stdout",
          "text": [
            "[Training] Epoch 8: Loss = 0.0881, Accuracy = 0.9995\n"
          ]
        },
        {
          "output_type": "stream",
          "name": "stderr",
          "text": []
        },
        {
          "output_type": "stream",
          "name": "stdout",
          "text": [
            "[Training] Epoch 9: Loss = 0.0623, Accuracy = 0.9995\n"
          ]
        },
        {
          "output_type": "stream",
          "name": "stderr",
          "text": []
        },
        {
          "output_type": "stream",
          "name": "stdout",
          "text": [
            "[Training] Epoch 10: Loss = 0.0441, Accuracy = 0.9995\n",
            "[Validation] Loss = 0.2047, Accuracy = 0.9505\n",
            "Fold 9/10\n"
          ]
        },
        {
          "output_type": "stream",
          "name": "stderr",
          "text": []
        },
        {
          "output_type": "stream",
          "name": "stdout",
          "text": [
            "[Training] Epoch 1: Loss = 2.5283, Accuracy = 0.2029\n"
          ]
        },
        {
          "output_type": "stream",
          "name": "stderr",
          "text": []
        },
        {
          "output_type": "stream",
          "name": "stdout",
          "text": [
            "[Training] Epoch 2: Loss = 2.2597, Accuracy = 0.5312\n"
          ]
        },
        {
          "output_type": "stream",
          "name": "stderr",
          "text": []
        },
        {
          "output_type": "stream",
          "name": "stdout",
          "text": [
            "[Training] Epoch 3: Loss = 1.5640, Accuracy = 0.8333\n"
          ]
        },
        {
          "output_type": "stream",
          "name": "stderr",
          "text": []
        },
        {
          "output_type": "stream",
          "name": "stdout",
          "text": [
            "[Training] Epoch 4: Loss = 0.8576, Accuracy = 0.9764\n"
          ]
        },
        {
          "output_type": "stream",
          "name": "stderr",
          "text": []
        },
        {
          "output_type": "stream",
          "name": "stdout",
          "text": [
            "[Training] Epoch 5: Loss = 0.4471, Accuracy = 0.9956\n"
          ]
        },
        {
          "output_type": "stream",
          "name": "stderr",
          "text": []
        },
        {
          "output_type": "stream",
          "name": "stdout",
          "text": [
            "[Training] Epoch 6: Loss = 0.2354, Accuracy = 0.9978\n"
          ]
        },
        {
          "output_type": "stream",
          "name": "stderr",
          "text": []
        },
        {
          "output_type": "stream",
          "name": "stdout",
          "text": [
            "[Training] Epoch 7: Loss = 0.1383, Accuracy = 0.9973\n"
          ]
        },
        {
          "output_type": "stream",
          "name": "stderr",
          "text": []
        },
        {
          "output_type": "stream",
          "name": "stdout",
          "text": [
            "[Training] Epoch 8: Loss = 0.0882, Accuracy = 0.9984\n"
          ]
        },
        {
          "output_type": "stream",
          "name": "stderr",
          "text": []
        },
        {
          "output_type": "stream",
          "name": "stdout",
          "text": [
            "[Training] Epoch 9: Loss = 0.0625, Accuracy = 1.0000\n"
          ]
        },
        {
          "output_type": "stream",
          "name": "stderr",
          "text": []
        },
        {
          "output_type": "stream",
          "name": "stdout",
          "text": [
            "[Training] Epoch 10: Loss = 0.0443, Accuracy = 1.0000\n",
            "[Validation] Loss = 0.1951, Accuracy = 0.9901\n",
            "Fold 10/10\n"
          ]
        },
        {
          "output_type": "stream",
          "name": "stderr",
          "text": []
        },
        {
          "output_type": "stream",
          "name": "stdout",
          "text": [
            "[Training] Epoch 1: Loss = 2.5286, Accuracy = 0.2368\n"
          ]
        },
        {
          "output_type": "stream",
          "name": "stderr",
          "text": []
        },
        {
          "output_type": "stream",
          "name": "stdout",
          "text": [
            "[Training] Epoch 2: Loss = 2.2572, Accuracy = 0.6124\n"
          ]
        },
        {
          "output_type": "stream",
          "name": "stderr",
          "text": []
        },
        {
          "output_type": "stream",
          "name": "stdout",
          "text": [
            "[Training] Epoch 3: Loss = 1.5621, Accuracy = 0.8580\n"
          ]
        },
        {
          "output_type": "stream",
          "name": "stderr",
          "text": []
        },
        {
          "output_type": "stream",
          "name": "stdout",
          "text": [
            "[Training] Epoch 4: Loss = 0.8726, Accuracy = 0.9775\n"
          ]
        },
        {
          "output_type": "stream",
          "name": "stderr",
          "text": []
        },
        {
          "output_type": "stream",
          "name": "stdout",
          "text": [
            "[Training] Epoch 5: Loss = 0.4592, Accuracy = 0.9929\n"
          ]
        },
        {
          "output_type": "stream",
          "name": "stderr",
          "text": []
        },
        {
          "output_type": "stream",
          "name": "stdout",
          "text": [
            "[Training] Epoch 6: Loss = 0.2449, Accuracy = 0.9973\n"
          ]
        },
        {
          "output_type": "stream",
          "name": "stderr",
          "text": []
        },
        {
          "output_type": "stream",
          "name": "stdout",
          "text": [
            "[Training] Epoch 7: Loss = 0.1352, Accuracy = 0.9995\n"
          ]
        },
        {
          "output_type": "stream",
          "name": "stderr",
          "text": []
        },
        {
          "output_type": "stream",
          "name": "stdout",
          "text": [
            "[Training] Epoch 8: Loss = 0.0926, Accuracy = 0.9989\n"
          ]
        },
        {
          "output_type": "stream",
          "name": "stderr",
          "text": []
        },
        {
          "output_type": "stream",
          "name": "stdout",
          "text": [
            "[Training] Epoch 9: Loss = 0.0648, Accuracy = 0.9995\n"
          ]
        },
        {
          "output_type": "stream",
          "name": "stderr",
          "text": []
        },
        {
          "output_type": "stream",
          "name": "stdout",
          "text": [
            "[Training] Epoch 10: Loss = 0.0490, Accuracy = 1.0000\n",
            "[Validation] Loss = 0.2221, Accuracy = 0.9604\n",
            "Average Validation Loss: 0.2338\n",
            "Average Validation Accuracy: 0.9546\n"
          ]
        }
      ]
    },
    {
      "cell_type": "code",
      "source": [
        "### 모델 평가\n",
        "y_test = torch.tensor(np.array(y_test), dtype=torch.long)\n",
        "test_dataset = torch.utils.data.TensorDataset(torch.tensor(X_test.toarray(), dtype=torch.float32), y_test)\n",
        "test_loader = torch.utils.data.DataLoader(test_dataset, shuffle=False, batch_size=BATCH_SIZE)\n",
        "\n",
        "test_loss, test_acc = evaluate(model, test_loader, criterion, device)\n",
        "print(f\"[Test] Loss = {test_loss:.4f}, Accuracy = {test_acc:.4f}\")"
      ],
      "metadata": {
        "id": "BmLV08mumGy3",
        "colab": {
          "base_uri": "https://localhost:8080/"
        },
        "outputId": "62be53c3-f93f-456c-f7a2-2aa7c17039e0"
      },
      "execution_count": 18,
      "outputs": [
        {
          "output_type": "stream",
          "name": "stdout",
          "text": [
            "[Test] Loss = 1.7499, Accuracy = 0.3775\n"
          ]
        }
      ]
    },
    {
      "cell_type": "code",
      "source": [],
      "metadata": {
        "id": "ns92M2ygrUtm"
      },
      "execution_count": null,
      "outputs": []
    }
  ]
}