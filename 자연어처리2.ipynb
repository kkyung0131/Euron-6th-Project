{
  "nbformat": 4,
  "nbformat_minor": 0,
  "metadata": {
    "colab": {
      "provenance": [],
      "authorship_tag": "ABX9TyNb/ARg6m7Tr3fYvoNimPA7",
      "include_colab_link": true
    },
    "kernelspec": {
      "name": "python3",
      "display_name": "Python 3"
    },
    "language_info": {
      "name": "python"
    },
    "widgets": {
      "application/vnd.jupyter.widget-state+json": {
        "c58aa2f1d208417486498891a330c83a": {
          "model_module": "@jupyter-widgets/controls",
          "model_name": "HBoxModel",
          "model_module_version": "1.5.0",
          "state": {
            "_dom_classes": [],
            "_model_module": "@jupyter-widgets/controls",
            "_model_module_version": "1.5.0",
            "_model_name": "HBoxModel",
            "_view_count": null,
            "_view_module": "@jupyter-widgets/controls",
            "_view_module_version": "1.5.0",
            "_view_name": "HBoxView",
            "box_style": "",
            "children": [
              "IPY_MODEL_84e6d927fc254975bae34d324c0081f2",
              "IPY_MODEL_316ff77a75304901a85e7e7fd6ddb813",
              "IPY_MODEL_196e7f5d203a4c04abbaaabe4a9dd834"
            ],
            "layout": "IPY_MODEL_6e42240f58e644daa6b54c17e460ba35"
          }
        },
        "84e6d927fc254975bae34d324c0081f2": {
          "model_module": "@jupyter-widgets/controls",
          "model_name": "HTMLModel",
          "model_module_version": "1.5.0",
          "state": {
            "_dom_classes": [],
            "_model_module": "@jupyter-widgets/controls",
            "_model_module_version": "1.5.0",
            "_model_name": "HTMLModel",
            "_view_count": null,
            "_view_module": "@jupyter-widgets/controls",
            "_view_module_version": "1.5.0",
            "_view_name": "HTMLView",
            "description": "",
            "description_tooltip": null,
            "layout": "IPY_MODEL_92d540cc90fe4d18a7563158d4808393",
            "placeholder": "​",
            "style": "IPY_MODEL_0bb876f90ded4be495f3f6b760a2abdb",
            "value": "tokenizer_config.json: 100%"
          }
        },
        "316ff77a75304901a85e7e7fd6ddb813": {
          "model_module": "@jupyter-widgets/controls",
          "model_name": "FloatProgressModel",
          "model_module_version": "1.5.0",
          "state": {
            "_dom_classes": [],
            "_model_module": "@jupyter-widgets/controls",
            "_model_module_version": "1.5.0",
            "_model_name": "FloatProgressModel",
            "_view_count": null,
            "_view_module": "@jupyter-widgets/controls",
            "_view_module_version": "1.5.0",
            "_view_name": "ProgressView",
            "bar_style": "success",
            "description": "",
            "description_tooltip": null,
            "layout": "IPY_MODEL_754a8d1e472b418aa9b0f386f23f3f3a",
            "max": 51,
            "min": 0,
            "orientation": "horizontal",
            "style": "IPY_MODEL_d9d7bdd81df44ecd95ecb17f435a6f1f",
            "value": 51
          }
        },
        "196e7f5d203a4c04abbaaabe4a9dd834": {
          "model_module": "@jupyter-widgets/controls",
          "model_name": "HTMLModel",
          "model_module_version": "1.5.0",
          "state": {
            "_dom_classes": [],
            "_model_module": "@jupyter-widgets/controls",
            "_model_module_version": "1.5.0",
            "_model_name": "HTMLModel",
            "_view_count": null,
            "_view_module": "@jupyter-widgets/controls",
            "_view_module_version": "1.5.0",
            "_view_name": "HTMLView",
            "description": "",
            "description_tooltip": null,
            "layout": "IPY_MODEL_8581b159a52f4479a844f293f836ac44",
            "placeholder": "​",
            "style": "IPY_MODEL_e85ec4535a2049ec8f1df833f46d85a1",
            "value": " 51.0/51.0 [00:00&lt;00:00, 712B/s]"
          }
        },
        "6e42240f58e644daa6b54c17e460ba35": {
          "model_module": "@jupyter-widgets/base",
          "model_name": "LayoutModel",
          "model_module_version": "1.2.0",
          "state": {
            "_model_module": "@jupyter-widgets/base",
            "_model_module_version": "1.2.0",
            "_model_name": "LayoutModel",
            "_view_count": null,
            "_view_module": "@jupyter-widgets/base",
            "_view_module_version": "1.2.0",
            "_view_name": "LayoutView",
            "align_content": null,
            "align_items": null,
            "align_self": null,
            "border": null,
            "bottom": null,
            "display": null,
            "flex": null,
            "flex_flow": null,
            "grid_area": null,
            "grid_auto_columns": null,
            "grid_auto_flow": null,
            "grid_auto_rows": null,
            "grid_column": null,
            "grid_gap": null,
            "grid_row": null,
            "grid_template_areas": null,
            "grid_template_columns": null,
            "grid_template_rows": null,
            "height": null,
            "justify_content": null,
            "justify_items": null,
            "left": null,
            "margin": null,
            "max_height": null,
            "max_width": null,
            "min_height": null,
            "min_width": null,
            "object_fit": null,
            "object_position": null,
            "order": null,
            "overflow": null,
            "overflow_x": null,
            "overflow_y": null,
            "padding": null,
            "right": null,
            "top": null,
            "visibility": null,
            "width": null
          }
        },
        "92d540cc90fe4d18a7563158d4808393": {
          "model_module": "@jupyter-widgets/base",
          "model_name": "LayoutModel",
          "model_module_version": "1.2.0",
          "state": {
            "_model_module": "@jupyter-widgets/base",
            "_model_module_version": "1.2.0",
            "_model_name": "LayoutModel",
            "_view_count": null,
            "_view_module": "@jupyter-widgets/base",
            "_view_module_version": "1.2.0",
            "_view_name": "LayoutView",
            "align_content": null,
            "align_items": null,
            "align_self": null,
            "border": null,
            "bottom": null,
            "display": null,
            "flex": null,
            "flex_flow": null,
            "grid_area": null,
            "grid_auto_columns": null,
            "grid_auto_flow": null,
            "grid_auto_rows": null,
            "grid_column": null,
            "grid_gap": null,
            "grid_row": null,
            "grid_template_areas": null,
            "grid_template_columns": null,
            "grid_template_rows": null,
            "height": null,
            "justify_content": null,
            "justify_items": null,
            "left": null,
            "margin": null,
            "max_height": null,
            "max_width": null,
            "min_height": null,
            "min_width": null,
            "object_fit": null,
            "object_position": null,
            "order": null,
            "overflow": null,
            "overflow_x": null,
            "overflow_y": null,
            "padding": null,
            "right": null,
            "top": null,
            "visibility": null,
            "width": null
          }
        },
        "0bb876f90ded4be495f3f6b760a2abdb": {
          "model_module": "@jupyter-widgets/controls",
          "model_name": "DescriptionStyleModel",
          "model_module_version": "1.5.0",
          "state": {
            "_model_module": "@jupyter-widgets/controls",
            "_model_module_version": "1.5.0",
            "_model_name": "DescriptionStyleModel",
            "_view_count": null,
            "_view_module": "@jupyter-widgets/base",
            "_view_module_version": "1.2.0",
            "_view_name": "StyleView",
            "description_width": ""
          }
        },
        "754a8d1e472b418aa9b0f386f23f3f3a": {
          "model_module": "@jupyter-widgets/base",
          "model_name": "LayoutModel",
          "model_module_version": "1.2.0",
          "state": {
            "_model_module": "@jupyter-widgets/base",
            "_model_module_version": "1.2.0",
            "_model_name": "LayoutModel",
            "_view_count": null,
            "_view_module": "@jupyter-widgets/base",
            "_view_module_version": "1.2.0",
            "_view_name": "LayoutView",
            "align_content": null,
            "align_items": null,
            "align_self": null,
            "border": null,
            "bottom": null,
            "display": null,
            "flex": null,
            "flex_flow": null,
            "grid_area": null,
            "grid_auto_columns": null,
            "grid_auto_flow": null,
            "grid_auto_rows": null,
            "grid_column": null,
            "grid_gap": null,
            "grid_row": null,
            "grid_template_areas": null,
            "grid_template_columns": null,
            "grid_template_rows": null,
            "height": null,
            "justify_content": null,
            "justify_items": null,
            "left": null,
            "margin": null,
            "max_height": null,
            "max_width": null,
            "min_height": null,
            "min_width": null,
            "object_fit": null,
            "object_position": null,
            "order": null,
            "overflow": null,
            "overflow_x": null,
            "overflow_y": null,
            "padding": null,
            "right": null,
            "top": null,
            "visibility": null,
            "width": null
          }
        },
        "d9d7bdd81df44ecd95ecb17f435a6f1f": {
          "model_module": "@jupyter-widgets/controls",
          "model_name": "ProgressStyleModel",
          "model_module_version": "1.5.0",
          "state": {
            "_model_module": "@jupyter-widgets/controls",
            "_model_module_version": "1.5.0",
            "_model_name": "ProgressStyleModel",
            "_view_count": null,
            "_view_module": "@jupyter-widgets/base",
            "_view_module_version": "1.2.0",
            "_view_name": "StyleView",
            "bar_color": null,
            "description_width": ""
          }
        },
        "8581b159a52f4479a844f293f836ac44": {
          "model_module": "@jupyter-widgets/base",
          "model_name": "LayoutModel",
          "model_module_version": "1.2.0",
          "state": {
            "_model_module": "@jupyter-widgets/base",
            "_model_module_version": "1.2.0",
            "_model_name": "LayoutModel",
            "_view_count": null,
            "_view_module": "@jupyter-widgets/base",
            "_view_module_version": "1.2.0",
            "_view_name": "LayoutView",
            "align_content": null,
            "align_items": null,
            "align_self": null,
            "border": null,
            "bottom": null,
            "display": null,
            "flex": null,
            "flex_flow": null,
            "grid_area": null,
            "grid_auto_columns": null,
            "grid_auto_flow": null,
            "grid_auto_rows": null,
            "grid_column": null,
            "grid_gap": null,
            "grid_row": null,
            "grid_template_areas": null,
            "grid_template_columns": null,
            "grid_template_rows": null,
            "height": null,
            "justify_content": null,
            "justify_items": null,
            "left": null,
            "margin": null,
            "max_height": null,
            "max_width": null,
            "min_height": null,
            "min_width": null,
            "object_fit": null,
            "object_position": null,
            "order": null,
            "overflow": null,
            "overflow_x": null,
            "overflow_y": null,
            "padding": null,
            "right": null,
            "top": null,
            "visibility": null,
            "width": null
          }
        },
        "e85ec4535a2049ec8f1df833f46d85a1": {
          "model_module": "@jupyter-widgets/controls",
          "model_name": "DescriptionStyleModel",
          "model_module_version": "1.5.0",
          "state": {
            "_model_module": "@jupyter-widgets/controls",
            "_model_module_version": "1.5.0",
            "_model_name": "DescriptionStyleModel",
            "_view_count": null,
            "_view_module": "@jupyter-widgets/base",
            "_view_module_version": "1.2.0",
            "_view_name": "StyleView",
            "description_width": ""
          }
        },
        "b16e5f7025704fd181463393ab1ce84e": {
          "model_module": "@jupyter-widgets/controls",
          "model_name": "HBoxModel",
          "model_module_version": "1.5.0",
          "state": {
            "_dom_classes": [],
            "_model_module": "@jupyter-widgets/controls",
            "_model_module_version": "1.5.0",
            "_model_name": "HBoxModel",
            "_view_count": null,
            "_view_module": "@jupyter-widgets/controls",
            "_view_module_version": "1.5.0",
            "_view_name": "HBoxView",
            "box_style": "",
            "children": [
              "IPY_MODEL_4c5f9b9f99854b0e8b342fe5cbda0df3",
              "IPY_MODEL_9d8d7ef3cbf14acf88898dcd3918fe77",
              "IPY_MODEL_674971f885da4a3f8d0ffd1572dde429"
            ],
            "layout": "IPY_MODEL_9e6a37968e624fc69589848ad0f0925f"
          }
        },
        "4c5f9b9f99854b0e8b342fe5cbda0df3": {
          "model_module": "@jupyter-widgets/controls",
          "model_name": "HTMLModel",
          "model_module_version": "1.5.0",
          "state": {
            "_dom_classes": [],
            "_model_module": "@jupyter-widgets/controls",
            "_model_module_version": "1.5.0",
            "_model_name": "HTMLModel",
            "_view_count": null,
            "_view_module": "@jupyter-widgets/controls",
            "_view_module_version": "1.5.0",
            "_view_name": "HTMLView",
            "description": "",
            "description_tooltip": null,
            "layout": "IPY_MODEL_5ed085fb268d4dd58c6003f113053b5e",
            "placeholder": "​",
            "style": "IPY_MODEL_5485c93556c144108e7e6dd330d7794a",
            "value": "vocab.txt: 100%"
          }
        },
        "9d8d7ef3cbf14acf88898dcd3918fe77": {
          "model_module": "@jupyter-widgets/controls",
          "model_name": "FloatProgressModel",
          "model_module_version": "1.5.0",
          "state": {
            "_dom_classes": [],
            "_model_module": "@jupyter-widgets/controls",
            "_model_module_version": "1.5.0",
            "_model_name": "FloatProgressModel",
            "_view_count": null,
            "_view_module": "@jupyter-widgets/controls",
            "_view_module_version": "1.5.0",
            "_view_name": "ProgressView",
            "bar_style": "success",
            "description": "",
            "description_tooltip": null,
            "layout": "IPY_MODEL_9bf728a041b54379926e66b16e1cad2e",
            "max": 77779,
            "min": 0,
            "orientation": "horizontal",
            "style": "IPY_MODEL_42c62835e5084aef9ce3830a3c28f0eb",
            "value": 77779
          }
        },
        "674971f885da4a3f8d0ffd1572dde429": {
          "model_module": "@jupyter-widgets/controls",
          "model_name": "HTMLModel",
          "model_module_version": "1.5.0",
          "state": {
            "_dom_classes": [],
            "_model_module": "@jupyter-widgets/controls",
            "_model_module_version": "1.5.0",
            "_model_name": "HTMLModel",
            "_view_count": null,
            "_view_module": "@jupyter-widgets/controls",
            "_view_module_version": "1.5.0",
            "_view_name": "HTMLView",
            "description": "",
            "description_tooltip": null,
            "layout": "IPY_MODEL_e38eed4ee7f04d37b43138f44a379567",
            "placeholder": "​",
            "style": "IPY_MODEL_97155bd9a9a54132a41b9e74450f8b09",
            "value": " 77.8k/77.8k [00:00&lt;00:00, 1.78MB/s]"
          }
        },
        "9e6a37968e624fc69589848ad0f0925f": {
          "model_module": "@jupyter-widgets/base",
          "model_name": "LayoutModel",
          "model_module_version": "1.2.0",
          "state": {
            "_model_module": "@jupyter-widgets/base",
            "_model_module_version": "1.2.0",
            "_model_name": "LayoutModel",
            "_view_count": null,
            "_view_module": "@jupyter-widgets/base",
            "_view_module_version": "1.2.0",
            "_view_name": "LayoutView",
            "align_content": null,
            "align_items": null,
            "align_self": null,
            "border": null,
            "bottom": null,
            "display": null,
            "flex": null,
            "flex_flow": null,
            "grid_area": null,
            "grid_auto_columns": null,
            "grid_auto_flow": null,
            "grid_auto_rows": null,
            "grid_column": null,
            "grid_gap": null,
            "grid_row": null,
            "grid_template_areas": null,
            "grid_template_columns": null,
            "grid_template_rows": null,
            "height": null,
            "justify_content": null,
            "justify_items": null,
            "left": null,
            "margin": null,
            "max_height": null,
            "max_width": null,
            "min_height": null,
            "min_width": null,
            "object_fit": null,
            "object_position": null,
            "order": null,
            "overflow": null,
            "overflow_x": null,
            "overflow_y": null,
            "padding": null,
            "right": null,
            "top": null,
            "visibility": null,
            "width": null
          }
        },
        "5ed085fb268d4dd58c6003f113053b5e": {
          "model_module": "@jupyter-widgets/base",
          "model_name": "LayoutModel",
          "model_module_version": "1.2.0",
          "state": {
            "_model_module": "@jupyter-widgets/base",
            "_model_module_version": "1.2.0",
            "_model_name": "LayoutModel",
            "_view_count": null,
            "_view_module": "@jupyter-widgets/base",
            "_view_module_version": "1.2.0",
            "_view_name": "LayoutView",
            "align_content": null,
            "align_items": null,
            "align_self": null,
            "border": null,
            "bottom": null,
            "display": null,
            "flex": null,
            "flex_flow": null,
            "grid_area": null,
            "grid_auto_columns": null,
            "grid_auto_flow": null,
            "grid_auto_rows": null,
            "grid_column": null,
            "grid_gap": null,
            "grid_row": null,
            "grid_template_areas": null,
            "grid_template_columns": null,
            "grid_template_rows": null,
            "height": null,
            "justify_content": null,
            "justify_items": null,
            "left": null,
            "margin": null,
            "max_height": null,
            "max_width": null,
            "min_height": null,
            "min_width": null,
            "object_fit": null,
            "object_position": null,
            "order": null,
            "overflow": null,
            "overflow_x": null,
            "overflow_y": null,
            "padding": null,
            "right": null,
            "top": null,
            "visibility": null,
            "width": null
          }
        },
        "5485c93556c144108e7e6dd330d7794a": {
          "model_module": "@jupyter-widgets/controls",
          "model_name": "DescriptionStyleModel",
          "model_module_version": "1.5.0",
          "state": {
            "_model_module": "@jupyter-widgets/controls",
            "_model_module_version": "1.5.0",
            "_model_name": "DescriptionStyleModel",
            "_view_count": null,
            "_view_module": "@jupyter-widgets/base",
            "_view_module_version": "1.2.0",
            "_view_name": "StyleView",
            "description_width": ""
          }
        },
        "9bf728a041b54379926e66b16e1cad2e": {
          "model_module": "@jupyter-widgets/base",
          "model_name": "LayoutModel",
          "model_module_version": "1.2.0",
          "state": {
            "_model_module": "@jupyter-widgets/base",
            "_model_module_version": "1.2.0",
            "_model_name": "LayoutModel",
            "_view_count": null,
            "_view_module": "@jupyter-widgets/base",
            "_view_module_version": "1.2.0",
            "_view_name": "LayoutView",
            "align_content": null,
            "align_items": null,
            "align_self": null,
            "border": null,
            "bottom": null,
            "display": null,
            "flex": null,
            "flex_flow": null,
            "grid_area": null,
            "grid_auto_columns": null,
            "grid_auto_flow": null,
            "grid_auto_rows": null,
            "grid_column": null,
            "grid_gap": null,
            "grid_row": null,
            "grid_template_areas": null,
            "grid_template_columns": null,
            "grid_template_rows": null,
            "height": null,
            "justify_content": null,
            "justify_items": null,
            "left": null,
            "margin": null,
            "max_height": null,
            "max_width": null,
            "min_height": null,
            "min_width": null,
            "object_fit": null,
            "object_position": null,
            "order": null,
            "overflow": null,
            "overflow_x": null,
            "overflow_y": null,
            "padding": null,
            "right": null,
            "top": null,
            "visibility": null,
            "width": null
          }
        },
        "42c62835e5084aef9ce3830a3c28f0eb": {
          "model_module": "@jupyter-widgets/controls",
          "model_name": "ProgressStyleModel",
          "model_module_version": "1.5.0",
          "state": {
            "_model_module": "@jupyter-widgets/controls",
            "_model_module_version": "1.5.0",
            "_model_name": "ProgressStyleModel",
            "_view_count": null,
            "_view_module": "@jupyter-widgets/base",
            "_view_module_version": "1.2.0",
            "_view_name": "StyleView",
            "bar_color": null,
            "description_width": ""
          }
        },
        "e38eed4ee7f04d37b43138f44a379567": {
          "model_module": "@jupyter-widgets/base",
          "model_name": "LayoutModel",
          "model_module_version": "1.2.0",
          "state": {
            "_model_module": "@jupyter-widgets/base",
            "_model_module_version": "1.2.0",
            "_model_name": "LayoutModel",
            "_view_count": null,
            "_view_module": "@jupyter-widgets/base",
            "_view_module_version": "1.2.0",
            "_view_name": "LayoutView",
            "align_content": null,
            "align_items": null,
            "align_self": null,
            "border": null,
            "bottom": null,
            "display": null,
            "flex": null,
            "flex_flow": null,
            "grid_area": null,
            "grid_auto_columns": null,
            "grid_auto_flow": null,
            "grid_auto_rows": null,
            "grid_column": null,
            "grid_gap": null,
            "grid_row": null,
            "grid_template_areas": null,
            "grid_template_columns": null,
            "grid_template_rows": null,
            "height": null,
            "justify_content": null,
            "justify_items": null,
            "left": null,
            "margin": null,
            "max_height": null,
            "max_width": null,
            "min_height": null,
            "min_width": null,
            "object_fit": null,
            "object_position": null,
            "order": null,
            "overflow": null,
            "overflow_x": null,
            "overflow_y": null,
            "padding": null,
            "right": null,
            "top": null,
            "visibility": null,
            "width": null
          }
        },
        "97155bd9a9a54132a41b9e74450f8b09": {
          "model_module": "@jupyter-widgets/controls",
          "model_name": "DescriptionStyleModel",
          "model_module_version": "1.5.0",
          "state": {
            "_model_module": "@jupyter-widgets/controls",
            "_model_module_version": "1.5.0",
            "_model_name": "DescriptionStyleModel",
            "_view_count": null,
            "_view_module": "@jupyter-widgets/base",
            "_view_module_version": "1.2.0",
            "_view_name": "StyleView",
            "description_width": ""
          }
        },
        "d31090b1f58c409db0836e13a19b8745": {
          "model_module": "@jupyter-widgets/controls",
          "model_name": "HBoxModel",
          "model_module_version": "1.5.0",
          "state": {
            "_dom_classes": [],
            "_model_module": "@jupyter-widgets/controls",
            "_model_module_version": "1.5.0",
            "_model_name": "HBoxModel",
            "_view_count": null,
            "_view_module": "@jupyter-widgets/controls",
            "_view_module_version": "1.5.0",
            "_view_name": "HBoxView",
            "box_style": "",
            "children": [
              "IPY_MODEL_38d6ecfb30434a079d465a795609c347",
              "IPY_MODEL_e9ab28549cbd4efb90a44eaf03ed722e",
              "IPY_MODEL_6c593ca2387d403f91296ec6cda9b2b9"
            ],
            "layout": "IPY_MODEL_59ffbe5bba0e42909724cf05ea91cb0d"
          }
        },
        "38d6ecfb30434a079d465a795609c347": {
          "model_module": "@jupyter-widgets/controls",
          "model_name": "HTMLModel",
          "model_module_version": "1.5.0",
          "state": {
            "_dom_classes": [],
            "_model_module": "@jupyter-widgets/controls",
            "_model_module_version": "1.5.0",
            "_model_name": "HTMLModel",
            "_view_count": null,
            "_view_module": "@jupyter-widgets/controls",
            "_view_module_version": "1.5.0",
            "_view_name": "HTMLView",
            "description": "",
            "description_tooltip": null,
            "layout": "IPY_MODEL_72d52f3276cb42b1a2cdc3b05c585c0a",
            "placeholder": "​",
            "style": "IPY_MODEL_723bb4572e164cfbafdda7fa8c56c104",
            "value": "config.json: 100%"
          }
        },
        "e9ab28549cbd4efb90a44eaf03ed722e": {
          "model_module": "@jupyter-widgets/controls",
          "model_name": "FloatProgressModel",
          "model_module_version": "1.5.0",
          "state": {
            "_dom_classes": [],
            "_model_module": "@jupyter-widgets/controls",
            "_model_module_version": "1.5.0",
            "_model_name": "FloatProgressModel",
            "_view_count": null,
            "_view_module": "@jupyter-widgets/controls",
            "_view_module_version": "1.5.0",
            "_view_name": "ProgressView",
            "bar_style": "success",
            "description": "",
            "description_tooltip": null,
            "layout": "IPY_MODEL_4a11f6c264914f6693450df69b07feb7",
            "max": 426,
            "min": 0,
            "orientation": "horizontal",
            "style": "IPY_MODEL_d7c1620ef8f049cb8ffa5e92bfcbfa5d",
            "value": 426
          }
        },
        "6c593ca2387d403f91296ec6cda9b2b9": {
          "model_module": "@jupyter-widgets/controls",
          "model_name": "HTMLModel",
          "model_module_version": "1.5.0",
          "state": {
            "_dom_classes": [],
            "_model_module": "@jupyter-widgets/controls",
            "_model_module_version": "1.5.0",
            "_model_name": "HTMLModel",
            "_view_count": null,
            "_view_module": "@jupyter-widgets/controls",
            "_view_module_version": "1.5.0",
            "_view_name": "HTMLView",
            "description": "",
            "description_tooltip": null,
            "layout": "IPY_MODEL_f564175241104fb984a6a68946a74179",
            "placeholder": "​",
            "style": "IPY_MODEL_2aacaab7923249f5be9d8f5511885d0d",
            "value": " 426/426 [00:00&lt;00:00, 11.1kB/s]"
          }
        },
        "59ffbe5bba0e42909724cf05ea91cb0d": {
          "model_module": "@jupyter-widgets/base",
          "model_name": "LayoutModel",
          "model_module_version": "1.2.0",
          "state": {
            "_model_module": "@jupyter-widgets/base",
            "_model_module_version": "1.2.0",
            "_model_name": "LayoutModel",
            "_view_count": null,
            "_view_module": "@jupyter-widgets/base",
            "_view_module_version": "1.2.0",
            "_view_name": "LayoutView",
            "align_content": null,
            "align_items": null,
            "align_self": null,
            "border": null,
            "bottom": null,
            "display": null,
            "flex": null,
            "flex_flow": null,
            "grid_area": null,
            "grid_auto_columns": null,
            "grid_auto_flow": null,
            "grid_auto_rows": null,
            "grid_column": null,
            "grid_gap": null,
            "grid_row": null,
            "grid_template_areas": null,
            "grid_template_columns": null,
            "grid_template_rows": null,
            "height": null,
            "justify_content": null,
            "justify_items": null,
            "left": null,
            "margin": null,
            "max_height": null,
            "max_width": null,
            "min_height": null,
            "min_width": null,
            "object_fit": null,
            "object_position": null,
            "order": null,
            "overflow": null,
            "overflow_x": null,
            "overflow_y": null,
            "padding": null,
            "right": null,
            "top": null,
            "visibility": null,
            "width": null
          }
        },
        "72d52f3276cb42b1a2cdc3b05c585c0a": {
          "model_module": "@jupyter-widgets/base",
          "model_name": "LayoutModel",
          "model_module_version": "1.2.0",
          "state": {
            "_model_module": "@jupyter-widgets/base",
            "_model_module_version": "1.2.0",
            "_model_name": "LayoutModel",
            "_view_count": null,
            "_view_module": "@jupyter-widgets/base",
            "_view_module_version": "1.2.0",
            "_view_name": "LayoutView",
            "align_content": null,
            "align_items": null,
            "align_self": null,
            "border": null,
            "bottom": null,
            "display": null,
            "flex": null,
            "flex_flow": null,
            "grid_area": null,
            "grid_auto_columns": null,
            "grid_auto_flow": null,
            "grid_auto_rows": null,
            "grid_column": null,
            "grid_gap": null,
            "grid_row": null,
            "grid_template_areas": null,
            "grid_template_columns": null,
            "grid_template_rows": null,
            "height": null,
            "justify_content": null,
            "justify_items": null,
            "left": null,
            "margin": null,
            "max_height": null,
            "max_width": null,
            "min_height": null,
            "min_width": null,
            "object_fit": null,
            "object_position": null,
            "order": null,
            "overflow": null,
            "overflow_x": null,
            "overflow_y": null,
            "padding": null,
            "right": null,
            "top": null,
            "visibility": null,
            "width": null
          }
        },
        "723bb4572e164cfbafdda7fa8c56c104": {
          "model_module": "@jupyter-widgets/controls",
          "model_name": "DescriptionStyleModel",
          "model_module_version": "1.5.0",
          "state": {
            "_model_module": "@jupyter-widgets/controls",
            "_model_module_version": "1.5.0",
            "_model_name": "DescriptionStyleModel",
            "_view_count": null,
            "_view_module": "@jupyter-widgets/base",
            "_view_module_version": "1.2.0",
            "_view_name": "StyleView",
            "description_width": ""
          }
        },
        "4a11f6c264914f6693450df69b07feb7": {
          "model_module": "@jupyter-widgets/base",
          "model_name": "LayoutModel",
          "model_module_version": "1.2.0",
          "state": {
            "_model_module": "@jupyter-widgets/base",
            "_model_module_version": "1.2.0",
            "_model_name": "LayoutModel",
            "_view_count": null,
            "_view_module": "@jupyter-widgets/base",
            "_view_module_version": "1.2.0",
            "_view_name": "LayoutView",
            "align_content": null,
            "align_items": null,
            "align_self": null,
            "border": null,
            "bottom": null,
            "display": null,
            "flex": null,
            "flex_flow": null,
            "grid_area": null,
            "grid_auto_columns": null,
            "grid_auto_flow": null,
            "grid_auto_rows": null,
            "grid_column": null,
            "grid_gap": null,
            "grid_row": null,
            "grid_template_areas": null,
            "grid_template_columns": null,
            "grid_template_rows": null,
            "height": null,
            "justify_content": null,
            "justify_items": null,
            "left": null,
            "margin": null,
            "max_height": null,
            "max_width": null,
            "min_height": null,
            "min_width": null,
            "object_fit": null,
            "object_position": null,
            "order": null,
            "overflow": null,
            "overflow_x": null,
            "overflow_y": null,
            "padding": null,
            "right": null,
            "top": null,
            "visibility": null,
            "width": null
          }
        },
        "d7c1620ef8f049cb8ffa5e92bfcbfa5d": {
          "model_module": "@jupyter-widgets/controls",
          "model_name": "ProgressStyleModel",
          "model_module_version": "1.5.0",
          "state": {
            "_model_module": "@jupyter-widgets/controls",
            "_model_module_version": "1.5.0",
            "_model_name": "ProgressStyleModel",
            "_view_count": null,
            "_view_module": "@jupyter-widgets/base",
            "_view_module_version": "1.2.0",
            "_view_name": "StyleView",
            "bar_color": null,
            "description_width": ""
          }
        },
        "f564175241104fb984a6a68946a74179": {
          "model_module": "@jupyter-widgets/base",
          "model_name": "LayoutModel",
          "model_module_version": "1.2.0",
          "state": {
            "_model_module": "@jupyter-widgets/base",
            "_model_module_version": "1.2.0",
            "_model_name": "LayoutModel",
            "_view_count": null,
            "_view_module": "@jupyter-widgets/base",
            "_view_module_version": "1.2.0",
            "_view_name": "LayoutView",
            "align_content": null,
            "align_items": null,
            "align_self": null,
            "border": null,
            "bottom": null,
            "display": null,
            "flex": null,
            "flex_flow": null,
            "grid_area": null,
            "grid_auto_columns": null,
            "grid_auto_flow": null,
            "grid_auto_rows": null,
            "grid_column": null,
            "grid_gap": null,
            "grid_row": null,
            "grid_template_areas": null,
            "grid_template_columns": null,
            "grid_template_rows": null,
            "height": null,
            "justify_content": null,
            "justify_items": null,
            "left": null,
            "margin": null,
            "max_height": null,
            "max_width": null,
            "min_height": null,
            "min_width": null,
            "object_fit": null,
            "object_position": null,
            "order": null,
            "overflow": null,
            "overflow_x": null,
            "overflow_y": null,
            "padding": null,
            "right": null,
            "top": null,
            "visibility": null,
            "width": null
          }
        },
        "2aacaab7923249f5be9d8f5511885d0d": {
          "model_module": "@jupyter-widgets/controls",
          "model_name": "DescriptionStyleModel",
          "model_module_version": "1.5.0",
          "state": {
            "_model_module": "@jupyter-widgets/controls",
            "_model_module_version": "1.5.0",
            "_model_name": "DescriptionStyleModel",
            "_view_count": null,
            "_view_module": "@jupyter-widgets/base",
            "_view_module_version": "1.2.0",
            "_view_name": "StyleView",
            "description_width": ""
          }
        },
        "ec587b2562c1443f92754ef6b91fb0b1": {
          "model_module": "@jupyter-widgets/controls",
          "model_name": "HBoxModel",
          "model_module_version": "1.5.0",
          "state": {
            "_dom_classes": [],
            "_model_module": "@jupyter-widgets/controls",
            "_model_module_version": "1.5.0",
            "_model_name": "HBoxModel",
            "_view_count": null,
            "_view_module": "@jupyter-widgets/controls",
            "_view_module_version": "1.5.0",
            "_view_name": "HBoxView",
            "box_style": "",
            "children": [
              "IPY_MODEL_66475632d44a4145ba43f1183531adcd",
              "IPY_MODEL_9ed15d3d92a04efaa75ae192b388dc02",
              "IPY_MODEL_7a951a51946948ebbde79786ed7c61aa"
            ],
            "layout": "IPY_MODEL_152c4fc8606d4a47b23f7c3683281f4d"
          }
        },
        "66475632d44a4145ba43f1183531adcd": {
          "model_module": "@jupyter-widgets/controls",
          "model_name": "HTMLModel",
          "model_module_version": "1.5.0",
          "state": {
            "_dom_classes": [],
            "_model_module": "@jupyter-widgets/controls",
            "_model_module_version": "1.5.0",
            "_model_name": "HTMLModel",
            "_view_count": null,
            "_view_module": "@jupyter-widgets/controls",
            "_view_module_version": "1.5.0",
            "_view_name": "HTMLView",
            "description": "",
            "description_tooltip": null,
            "layout": "IPY_MODEL_6493ef543cf5451095393f21fe0d37a2",
            "placeholder": "​",
            "style": "IPY_MODEL_140a562c515b44079dc5b987dd372699",
            "value": "model.safetensors: 100%"
          }
        },
        "9ed15d3d92a04efaa75ae192b388dc02": {
          "model_module": "@jupyter-widgets/controls",
          "model_name": "FloatProgressModel",
          "model_module_version": "1.5.0",
          "state": {
            "_dom_classes": [],
            "_model_module": "@jupyter-widgets/controls",
            "_model_module_version": "1.5.0",
            "_model_name": "FloatProgressModel",
            "_view_count": null,
            "_view_module": "@jupyter-widgets/controls",
            "_view_module_version": "1.5.0",
            "_view_name": "ProgressView",
            "bar_style": "success",
            "description": "",
            "description_tooltip": null,
            "layout": "IPY_MODEL_0fd2e855a2d44e02be6d0355ec309c34",
            "max": 368769812,
            "min": 0,
            "orientation": "horizontal",
            "style": "IPY_MODEL_e121a826ded7498894c9a65e68faeb91",
            "value": 368769812
          }
        },
        "7a951a51946948ebbde79786ed7c61aa": {
          "model_module": "@jupyter-widgets/controls",
          "model_name": "HTMLModel",
          "model_module_version": "1.5.0",
          "state": {
            "_dom_classes": [],
            "_model_module": "@jupyter-widgets/controls",
            "_model_module_version": "1.5.0",
            "_model_name": "HTMLModel",
            "_view_count": null,
            "_view_module": "@jupyter-widgets/controls",
            "_view_module_version": "1.5.0",
            "_view_name": "HTMLView",
            "description": "",
            "description_tooltip": null,
            "layout": "IPY_MODEL_d380bb2a9bc0475e8e54ecfce755cbca",
            "placeholder": "​",
            "style": "IPY_MODEL_e704b2c0ca6749c5b274584a45147197",
            "value": " 369M/369M [00:06&lt;00:00, 61.2MB/s]"
          }
        },
        "152c4fc8606d4a47b23f7c3683281f4d": {
          "model_module": "@jupyter-widgets/base",
          "model_name": "LayoutModel",
          "model_module_version": "1.2.0",
          "state": {
            "_model_module": "@jupyter-widgets/base",
            "_model_module_version": "1.2.0",
            "_model_name": "LayoutModel",
            "_view_count": null,
            "_view_module": "@jupyter-widgets/base",
            "_view_module_version": "1.2.0",
            "_view_name": "LayoutView",
            "align_content": null,
            "align_items": null,
            "align_self": null,
            "border": null,
            "bottom": null,
            "display": null,
            "flex": null,
            "flex_flow": null,
            "grid_area": null,
            "grid_auto_columns": null,
            "grid_auto_flow": null,
            "grid_auto_rows": null,
            "grid_column": null,
            "grid_gap": null,
            "grid_row": null,
            "grid_template_areas": null,
            "grid_template_columns": null,
            "grid_template_rows": null,
            "height": null,
            "justify_content": null,
            "justify_items": null,
            "left": null,
            "margin": null,
            "max_height": null,
            "max_width": null,
            "min_height": null,
            "min_width": null,
            "object_fit": null,
            "object_position": null,
            "order": null,
            "overflow": null,
            "overflow_x": null,
            "overflow_y": null,
            "padding": null,
            "right": null,
            "top": null,
            "visibility": null,
            "width": null
          }
        },
        "6493ef543cf5451095393f21fe0d37a2": {
          "model_module": "@jupyter-widgets/base",
          "model_name": "LayoutModel",
          "model_module_version": "1.2.0",
          "state": {
            "_model_module": "@jupyter-widgets/base",
            "_model_module_version": "1.2.0",
            "_model_name": "LayoutModel",
            "_view_count": null,
            "_view_module": "@jupyter-widgets/base",
            "_view_module_version": "1.2.0",
            "_view_name": "LayoutView",
            "align_content": null,
            "align_items": null,
            "align_self": null,
            "border": null,
            "bottom": null,
            "display": null,
            "flex": null,
            "flex_flow": null,
            "grid_area": null,
            "grid_auto_columns": null,
            "grid_auto_flow": null,
            "grid_auto_rows": null,
            "grid_column": null,
            "grid_gap": null,
            "grid_row": null,
            "grid_template_areas": null,
            "grid_template_columns": null,
            "grid_template_rows": null,
            "height": null,
            "justify_content": null,
            "justify_items": null,
            "left": null,
            "margin": null,
            "max_height": null,
            "max_width": null,
            "min_height": null,
            "min_width": null,
            "object_fit": null,
            "object_position": null,
            "order": null,
            "overflow": null,
            "overflow_x": null,
            "overflow_y": null,
            "padding": null,
            "right": null,
            "top": null,
            "visibility": null,
            "width": null
          }
        },
        "140a562c515b44079dc5b987dd372699": {
          "model_module": "@jupyter-widgets/controls",
          "model_name": "DescriptionStyleModel",
          "model_module_version": "1.5.0",
          "state": {
            "_model_module": "@jupyter-widgets/controls",
            "_model_module_version": "1.5.0",
            "_model_name": "DescriptionStyleModel",
            "_view_count": null,
            "_view_module": "@jupyter-widgets/base",
            "_view_module_version": "1.2.0",
            "_view_name": "StyleView",
            "description_width": ""
          }
        },
        "0fd2e855a2d44e02be6d0355ec309c34": {
          "model_module": "@jupyter-widgets/base",
          "model_name": "LayoutModel",
          "model_module_version": "1.2.0",
          "state": {
            "_model_module": "@jupyter-widgets/base",
            "_model_module_version": "1.2.0",
            "_model_name": "LayoutModel",
            "_view_count": null,
            "_view_module": "@jupyter-widgets/base",
            "_view_module_version": "1.2.0",
            "_view_name": "LayoutView",
            "align_content": null,
            "align_items": null,
            "align_self": null,
            "border": null,
            "bottom": null,
            "display": null,
            "flex": null,
            "flex_flow": null,
            "grid_area": null,
            "grid_auto_columns": null,
            "grid_auto_flow": null,
            "grid_auto_rows": null,
            "grid_column": null,
            "grid_gap": null,
            "grid_row": null,
            "grid_template_areas": null,
            "grid_template_columns": null,
            "grid_template_rows": null,
            "height": null,
            "justify_content": null,
            "justify_items": null,
            "left": null,
            "margin": null,
            "max_height": null,
            "max_width": null,
            "min_height": null,
            "min_width": null,
            "object_fit": null,
            "object_position": null,
            "order": null,
            "overflow": null,
            "overflow_x": null,
            "overflow_y": null,
            "padding": null,
            "right": null,
            "top": null,
            "visibility": null,
            "width": null
          }
        },
        "e121a826ded7498894c9a65e68faeb91": {
          "model_module": "@jupyter-widgets/controls",
          "model_name": "ProgressStyleModel",
          "model_module_version": "1.5.0",
          "state": {
            "_model_module": "@jupyter-widgets/controls",
            "_model_module_version": "1.5.0",
            "_model_name": "ProgressStyleModel",
            "_view_count": null,
            "_view_module": "@jupyter-widgets/base",
            "_view_module_version": "1.2.0",
            "_view_name": "StyleView",
            "bar_color": null,
            "description_width": ""
          }
        },
        "d380bb2a9bc0475e8e54ecfce755cbca": {
          "model_module": "@jupyter-widgets/base",
          "model_name": "LayoutModel",
          "model_module_version": "1.2.0",
          "state": {
            "_model_module": "@jupyter-widgets/base",
            "_model_module_version": "1.2.0",
            "_model_name": "LayoutModel",
            "_view_count": null,
            "_view_module": "@jupyter-widgets/base",
            "_view_module_version": "1.2.0",
            "_view_name": "LayoutView",
            "align_content": null,
            "align_items": null,
            "align_self": null,
            "border": null,
            "bottom": null,
            "display": null,
            "flex": null,
            "flex_flow": null,
            "grid_area": null,
            "grid_auto_columns": null,
            "grid_auto_flow": null,
            "grid_auto_rows": null,
            "grid_column": null,
            "grid_gap": null,
            "grid_row": null,
            "grid_template_areas": null,
            "grid_template_columns": null,
            "grid_template_rows": null,
            "height": null,
            "justify_content": null,
            "justify_items": null,
            "left": null,
            "margin": null,
            "max_height": null,
            "max_width": null,
            "min_height": null,
            "min_width": null,
            "object_fit": null,
            "object_position": null,
            "order": null,
            "overflow": null,
            "overflow_x": null,
            "overflow_y": null,
            "padding": null,
            "right": null,
            "top": null,
            "visibility": null,
            "width": null
          }
        },
        "e704b2c0ca6749c5b274584a45147197": {
          "model_module": "@jupyter-widgets/controls",
          "model_name": "DescriptionStyleModel",
          "model_module_version": "1.5.0",
          "state": {
            "_model_module": "@jupyter-widgets/controls",
            "_model_module_version": "1.5.0",
            "_model_name": "DescriptionStyleModel",
            "_view_count": null,
            "_view_module": "@jupyter-widgets/base",
            "_view_module_version": "1.2.0",
            "_view_name": "StyleView",
            "description_width": ""
          }
        }
      }
    }
  },
  "cells": [
    {
      "cell_type": "markdown",
      "metadata": {
        "id": "view-in-github",
        "colab_type": "text"
      },
      "source": [
        "<a href=\"https://colab.research.google.com/github/kkyung0131/Euron-6th-Project/blob/%EC%A1%B0%EC%8A%B9%EC%97%B0/%EC%9E%90%EC%97%B0%EC%96%B4%EC%B2%98%EB%A6%AC2.ipynb\" target=\"_parent\"><img src=\"https://colab.research.google.com/assets/colab-badge.svg\" alt=\"Open In Colab\"/></a>"
      ]
    },
    {
      "cell_type": "markdown",
      "source": [
        "# 데이터 불러오기 + 기타 전처리"
      ],
      "metadata": {
        "id": "TNFEYXW22pRp"
      }
    },
    {
      "cell_type": "code",
      "source": [
        "!pip install konlpy"
      ],
      "metadata": {
        "colab": {
          "base_uri": "https://localhost:8080/"
        },
        "id": "Bb-1isweCxox",
        "outputId": "a2ae1106-3642-44c4-ae35-7306640d9829"
      },
      "execution_count": 1,
      "outputs": [
        {
          "output_type": "stream",
          "name": "stdout",
          "text": [
            "Collecting konlpy\n",
            "  Downloading konlpy-0.6.0-py2.py3-none-any.whl.metadata (1.9 kB)\n",
            "Collecting JPype1>=0.7.0 (from konlpy)\n",
            "  Downloading JPype1-1.5.0-cp310-cp310-manylinux_2_17_x86_64.manylinux2014_x86_64.whl.metadata (4.9 kB)\n",
            "Requirement already satisfied: lxml>=4.1.0 in /usr/local/lib/python3.10/dist-packages (from konlpy) (4.9.4)\n",
            "Requirement already satisfied: numpy>=1.6 in /usr/local/lib/python3.10/dist-packages (from konlpy) (1.25.2)\n",
            "Requirement already satisfied: packaging in /usr/local/lib/python3.10/dist-packages (from JPype1>=0.7.0->konlpy) (24.1)\n",
            "Downloading konlpy-0.6.0-py2.py3-none-any.whl (19.4 MB)\n",
            "\u001b[2K   \u001b[90m━━━━━━━━━━━━━━━━━━━━━━━━━━━━━━━━━━━━━━━━\u001b[0m \u001b[32m19.4/19.4 MB\u001b[0m \u001b[31m25.7 MB/s\u001b[0m eta \u001b[36m0:00:00\u001b[0m\n",
            "\u001b[?25hDownloading JPype1-1.5.0-cp310-cp310-manylinux_2_17_x86_64.manylinux2014_x86_64.whl (488 kB)\n",
            "\u001b[2K   \u001b[90m━━━━━━━━━━━━━━━━━━━━━━━━━━━━━━━━━━━━━━━━\u001b[0m \u001b[32m488.6/488.6 kB\u001b[0m \u001b[31m20.8 MB/s\u001b[0m eta \u001b[36m0:00:00\u001b[0m\n",
            "\u001b[?25hInstalling collected packages: JPype1, konlpy\n",
            "Successfully installed JPype1-1.5.0 konlpy-0.6.0\n"
          ]
        }
      ]
    },
    {
      "cell_type": "code",
      "source": [
        "from google.colab import drive\n",
        "drive.mount('/content/gdrive/')\n",
        "\n",
        "\n",
        "file_path =  \"/content/gdrive/My Drive/EuronData/\""
      ],
      "metadata": {
        "colab": {
          "base_uri": "https://localhost:8080/"
        },
        "id": "aitmxS1v3Yx1",
        "outputId": "0857b972-5720-4133-9b3d-ccda4ab2d1a4"
      },
      "execution_count": 75,
      "outputs": [
        {
          "output_type": "stream",
          "name": "stdout",
          "text": [
            "Drive already mounted at /content/gdrive/; to attempt to forcibly remount, call drive.mount(\"/content/gdrive/\", force_remount=True).\n"
          ]
        }
      ]
    },
    {
      "cell_type": "code",
      "source": [
        "import pandas as pd\n",
        "import numpy as np\n",
        "\n",
        "import matplotlib.pyplot as plt\n",
        "import seaborn as sns\n",
        "\n",
        "from sklearn.preprocessing import LabelEncoder\n",
        "from sklearn.model_selection import train_test_split\n",
        "from sklearn.ensemble import RandomForestClassifier\n",
        "from sklearn.metrics import accuracy_score\n",
        "\n",
        "\n",
        "from konlpy.tag import Okt, Komoran, Hannanum, Kkma, Mecab\n",
        "from tqdm import tqdm\n",
        "from tensorflow.keras.preprocessing.text import Tokenizer\n",
        "from tensorflow.keras.preprocessing.sequence import pad_sequences\n",
        "\n",
        "import re"
      ],
      "metadata": {
        "id": "4vOp4U8hETTN"
      },
      "execution_count": 9,
      "outputs": []
    },
    {
      "cell_type": "code",
      "execution_count": 4,
      "metadata": {
        "colab": {
          "base_uri": "https://localhost:8080/",
          "height": 206
        },
        "id": "uaI1Q8PfCgSO",
        "outputId": "1b516c33-32c9-457e-e815-a2b4d5a4a1ae"
      },
      "outputs": [
        {
          "output_type": "execute_result",
          "data": {
            "text/plain": [
              "  category                                            reviews  keyword1  \\\n",
              "0    해산물요리  노포식당요즘 인기있는곳이래서 왔어요 주꾸미 삼겹 꽃게새우사리추가해서먹었는데요 양념맛...  음식이 맛있어요   \n",
              "1     고기요리  지나가는데 너무 예뻐서 술집인 줄 알았는데 알고 보니까 신촌 삼겹살 맛집이더라구요 ...  음식이 맛있어요   \n",
              "2      중식당  협력사들과 회의 끝내고 오찬 같이했네요 간만에 오니 새로운 메뉴도 생기고 사람이 많...  음식이 맛있어요   \n",
              "3     고기요리  이 리뷰는 업체로부터 무료 이용권을 제공 받은 대가로 작성한 솔직 후기입니다  우연...  음식이 맛있어요   \n",
              "4       한식  생방송투데이와 맛의 승부사에도 방영될 정도로 검증된 유명한 핫플매장이더라구요 테라스...  음식이 맛있어요   \n",
              "\n",
              "    keyword2     keyword3  \n",
              "0       친절해요    인테리어가 멋져요  \n",
              "1  고기 질이 좋아요         친절해요  \n",
              "2  인테리어가 멋져요  특별한 메뉴가 있어요  \n",
              "3     양이 많아요         친절해요  \n",
              "4     양이 많아요     재료가 신선해요  "
            ],
            "text/html": [
              "\n",
              "  <div id=\"df-1bdb4e55-01ce-4b0a-834e-33b9b3c12cf1\" class=\"colab-df-container\">\n",
              "    <div>\n",
              "<style scoped>\n",
              "    .dataframe tbody tr th:only-of-type {\n",
              "        vertical-align: middle;\n",
              "    }\n",
              "\n",
              "    .dataframe tbody tr th {\n",
              "        vertical-align: top;\n",
              "    }\n",
              "\n",
              "    .dataframe thead th {\n",
              "        text-align: right;\n",
              "    }\n",
              "</style>\n",
              "<table border=\"1\" class=\"dataframe\">\n",
              "  <thead>\n",
              "    <tr style=\"text-align: right;\">\n",
              "      <th></th>\n",
              "      <th>category</th>\n",
              "      <th>reviews</th>\n",
              "      <th>keyword1</th>\n",
              "      <th>keyword2</th>\n",
              "      <th>keyword3</th>\n",
              "    </tr>\n",
              "  </thead>\n",
              "  <tbody>\n",
              "    <tr>\n",
              "      <th>0</th>\n",
              "      <td>해산물요리</td>\n",
              "      <td>노포식당요즘 인기있는곳이래서 왔어요 주꾸미 삼겹 꽃게새우사리추가해서먹었는데요 양념맛...</td>\n",
              "      <td>음식이 맛있어요</td>\n",
              "      <td>친절해요</td>\n",
              "      <td>인테리어가 멋져요</td>\n",
              "    </tr>\n",
              "    <tr>\n",
              "      <th>1</th>\n",
              "      <td>고기요리</td>\n",
              "      <td>지나가는데 너무 예뻐서 술집인 줄 알았는데 알고 보니까 신촌 삼겹살 맛집이더라구요 ...</td>\n",
              "      <td>음식이 맛있어요</td>\n",
              "      <td>고기 질이 좋아요</td>\n",
              "      <td>친절해요</td>\n",
              "    </tr>\n",
              "    <tr>\n",
              "      <th>2</th>\n",
              "      <td>중식당</td>\n",
              "      <td>협력사들과 회의 끝내고 오찬 같이했네요 간만에 오니 새로운 메뉴도 생기고 사람이 많...</td>\n",
              "      <td>음식이 맛있어요</td>\n",
              "      <td>인테리어가 멋져요</td>\n",
              "      <td>특별한 메뉴가 있어요</td>\n",
              "    </tr>\n",
              "    <tr>\n",
              "      <th>3</th>\n",
              "      <td>고기요리</td>\n",
              "      <td>이 리뷰는 업체로부터 무료 이용권을 제공 받은 대가로 작성한 솔직 후기입니다  우연...</td>\n",
              "      <td>음식이 맛있어요</td>\n",
              "      <td>양이 많아요</td>\n",
              "      <td>친절해요</td>\n",
              "    </tr>\n",
              "    <tr>\n",
              "      <th>4</th>\n",
              "      <td>한식</td>\n",
              "      <td>생방송투데이와 맛의 승부사에도 방영될 정도로 검증된 유명한 핫플매장이더라구요 테라스...</td>\n",
              "      <td>음식이 맛있어요</td>\n",
              "      <td>양이 많아요</td>\n",
              "      <td>재료가 신선해요</td>\n",
              "    </tr>\n",
              "  </tbody>\n",
              "</table>\n",
              "</div>\n",
              "    <div class=\"colab-df-buttons\">\n",
              "\n",
              "  <div class=\"colab-df-container\">\n",
              "    <button class=\"colab-df-convert\" onclick=\"convertToInteractive('df-1bdb4e55-01ce-4b0a-834e-33b9b3c12cf1')\"\n",
              "            title=\"Convert this dataframe to an interactive table.\"\n",
              "            style=\"display:none;\">\n",
              "\n",
              "  <svg xmlns=\"http://www.w3.org/2000/svg\" height=\"24px\" viewBox=\"0 -960 960 960\">\n",
              "    <path d=\"M120-120v-720h720v720H120Zm60-500h600v-160H180v160Zm220 220h160v-160H400v160Zm0 220h160v-160H400v160ZM180-400h160v-160H180v160Zm440 0h160v-160H620v160ZM180-180h160v-160H180v160Zm440 0h160v-160H620v160Z\"/>\n",
              "  </svg>\n",
              "    </button>\n",
              "\n",
              "  <style>\n",
              "    .colab-df-container {\n",
              "      display:flex;\n",
              "      gap: 12px;\n",
              "    }\n",
              "\n",
              "    .colab-df-convert {\n",
              "      background-color: #E8F0FE;\n",
              "      border: none;\n",
              "      border-radius: 50%;\n",
              "      cursor: pointer;\n",
              "      display: none;\n",
              "      fill: #1967D2;\n",
              "      height: 32px;\n",
              "      padding: 0 0 0 0;\n",
              "      width: 32px;\n",
              "    }\n",
              "\n",
              "    .colab-df-convert:hover {\n",
              "      background-color: #E2EBFA;\n",
              "      box-shadow: 0px 1px 2px rgba(60, 64, 67, 0.3), 0px 1px 3px 1px rgba(60, 64, 67, 0.15);\n",
              "      fill: #174EA6;\n",
              "    }\n",
              "\n",
              "    .colab-df-buttons div {\n",
              "      margin-bottom: 4px;\n",
              "    }\n",
              "\n",
              "    [theme=dark] .colab-df-convert {\n",
              "      background-color: #3B4455;\n",
              "      fill: #D2E3FC;\n",
              "    }\n",
              "\n",
              "    [theme=dark] .colab-df-convert:hover {\n",
              "      background-color: #434B5C;\n",
              "      box-shadow: 0px 1px 3px 1px rgba(0, 0, 0, 0.15);\n",
              "      filter: drop-shadow(0px 1px 2px rgba(0, 0, 0, 0.3));\n",
              "      fill: #FFFFFF;\n",
              "    }\n",
              "  </style>\n",
              "\n",
              "    <script>\n",
              "      const buttonEl =\n",
              "        document.querySelector('#df-1bdb4e55-01ce-4b0a-834e-33b9b3c12cf1 button.colab-df-convert');\n",
              "      buttonEl.style.display =\n",
              "        google.colab.kernel.accessAllowed ? 'block' : 'none';\n",
              "\n",
              "      async function convertToInteractive(key) {\n",
              "        const element = document.querySelector('#df-1bdb4e55-01ce-4b0a-834e-33b9b3c12cf1');\n",
              "        const dataTable =\n",
              "          await google.colab.kernel.invokeFunction('convertToInteractive',\n",
              "                                                    [key], {});\n",
              "        if (!dataTable) return;\n",
              "\n",
              "        const docLinkHtml = 'Like what you see? Visit the ' +\n",
              "          '<a target=\"_blank\" href=https://colab.research.google.com/notebooks/data_table.ipynb>data table notebook</a>'\n",
              "          + ' to learn more about interactive tables.';\n",
              "        element.innerHTML = '';\n",
              "        dataTable['output_type'] = 'display_data';\n",
              "        await google.colab.output.renderOutput(dataTable, element);\n",
              "        const docLink = document.createElement('div');\n",
              "        docLink.innerHTML = docLinkHtml;\n",
              "        element.appendChild(docLink);\n",
              "      }\n",
              "    </script>\n",
              "  </div>\n",
              "\n",
              "\n",
              "<div id=\"df-b73016cf-682d-4f26-93fb-20c49398f3b3\">\n",
              "  <button class=\"colab-df-quickchart\" onclick=\"quickchart('df-b73016cf-682d-4f26-93fb-20c49398f3b3')\"\n",
              "            title=\"Suggest charts\"\n",
              "            style=\"display:none;\">\n",
              "\n",
              "<svg xmlns=\"http://www.w3.org/2000/svg\" height=\"24px\"viewBox=\"0 0 24 24\"\n",
              "     width=\"24px\">\n",
              "    <g>\n",
              "        <path d=\"M19 3H5c-1.1 0-2 .9-2 2v14c0 1.1.9 2 2 2h14c1.1 0 2-.9 2-2V5c0-1.1-.9-2-2-2zM9 17H7v-7h2v7zm4 0h-2V7h2v10zm4 0h-2v-4h2v4z\"/>\n",
              "    </g>\n",
              "</svg>\n",
              "  </button>\n",
              "\n",
              "<style>\n",
              "  .colab-df-quickchart {\n",
              "      --bg-color: #E8F0FE;\n",
              "      --fill-color: #1967D2;\n",
              "      --hover-bg-color: #E2EBFA;\n",
              "      --hover-fill-color: #174EA6;\n",
              "      --disabled-fill-color: #AAA;\n",
              "      --disabled-bg-color: #DDD;\n",
              "  }\n",
              "\n",
              "  [theme=dark] .colab-df-quickchart {\n",
              "      --bg-color: #3B4455;\n",
              "      --fill-color: #D2E3FC;\n",
              "      --hover-bg-color: #434B5C;\n",
              "      --hover-fill-color: #FFFFFF;\n",
              "      --disabled-bg-color: #3B4455;\n",
              "      --disabled-fill-color: #666;\n",
              "  }\n",
              "\n",
              "  .colab-df-quickchart {\n",
              "    background-color: var(--bg-color);\n",
              "    border: none;\n",
              "    border-radius: 50%;\n",
              "    cursor: pointer;\n",
              "    display: none;\n",
              "    fill: var(--fill-color);\n",
              "    height: 32px;\n",
              "    padding: 0;\n",
              "    width: 32px;\n",
              "  }\n",
              "\n",
              "  .colab-df-quickchart:hover {\n",
              "    background-color: var(--hover-bg-color);\n",
              "    box-shadow: 0 1px 2px rgba(60, 64, 67, 0.3), 0 1px 3px 1px rgba(60, 64, 67, 0.15);\n",
              "    fill: var(--button-hover-fill-color);\n",
              "  }\n",
              "\n",
              "  .colab-df-quickchart-complete:disabled,\n",
              "  .colab-df-quickchart-complete:disabled:hover {\n",
              "    background-color: var(--disabled-bg-color);\n",
              "    fill: var(--disabled-fill-color);\n",
              "    box-shadow: none;\n",
              "  }\n",
              "\n",
              "  .colab-df-spinner {\n",
              "    border: 2px solid var(--fill-color);\n",
              "    border-color: transparent;\n",
              "    border-bottom-color: var(--fill-color);\n",
              "    animation:\n",
              "      spin 1s steps(1) infinite;\n",
              "  }\n",
              "\n",
              "  @keyframes spin {\n",
              "    0% {\n",
              "      border-color: transparent;\n",
              "      border-bottom-color: var(--fill-color);\n",
              "      border-left-color: var(--fill-color);\n",
              "    }\n",
              "    20% {\n",
              "      border-color: transparent;\n",
              "      border-left-color: var(--fill-color);\n",
              "      border-top-color: var(--fill-color);\n",
              "    }\n",
              "    30% {\n",
              "      border-color: transparent;\n",
              "      border-left-color: var(--fill-color);\n",
              "      border-top-color: var(--fill-color);\n",
              "      border-right-color: var(--fill-color);\n",
              "    }\n",
              "    40% {\n",
              "      border-color: transparent;\n",
              "      border-right-color: var(--fill-color);\n",
              "      border-top-color: var(--fill-color);\n",
              "    }\n",
              "    60% {\n",
              "      border-color: transparent;\n",
              "      border-right-color: var(--fill-color);\n",
              "    }\n",
              "    80% {\n",
              "      border-color: transparent;\n",
              "      border-right-color: var(--fill-color);\n",
              "      border-bottom-color: var(--fill-color);\n",
              "    }\n",
              "    90% {\n",
              "      border-color: transparent;\n",
              "      border-bottom-color: var(--fill-color);\n",
              "    }\n",
              "  }\n",
              "</style>\n",
              "\n",
              "  <script>\n",
              "    async function quickchart(key) {\n",
              "      const quickchartButtonEl =\n",
              "        document.querySelector('#' + key + ' button');\n",
              "      quickchartButtonEl.disabled = true;  // To prevent multiple clicks.\n",
              "      quickchartButtonEl.classList.add('colab-df-spinner');\n",
              "      try {\n",
              "        const charts = await google.colab.kernel.invokeFunction(\n",
              "            'suggestCharts', [key], {});\n",
              "      } catch (error) {\n",
              "        console.error('Error during call to suggestCharts:', error);\n",
              "      }\n",
              "      quickchartButtonEl.classList.remove('colab-df-spinner');\n",
              "      quickchartButtonEl.classList.add('colab-df-quickchart-complete');\n",
              "    }\n",
              "    (() => {\n",
              "      let quickchartButtonEl =\n",
              "        document.querySelector('#df-b73016cf-682d-4f26-93fb-20c49398f3b3 button');\n",
              "      quickchartButtonEl.style.display =\n",
              "        google.colab.kernel.accessAllowed ? 'block' : 'none';\n",
              "    })();\n",
              "  </script>\n",
              "</div>\n",
              "\n",
              "    </div>\n",
              "  </div>\n"
            ],
            "application/vnd.google.colaboratory.intrinsic+json": {
              "type": "dataframe",
              "variable_name": "df",
              "summary": "{\n  \"name\": \"df\",\n  \"rows\": 670,\n  \"fields\": [\n    {\n      \"column\": \"category\",\n      \"properties\": {\n        \"dtype\": \"category\",\n        \"num_unique_values\": 11,\n        \"samples\": [\n          \"\\uae30\\ud0c0\\uc544\\uc2dc\\uc544\\uc74c\\uc2dd\",\n          \"\\ud574\\uc0b0\\ubb3c\\uc694\\ub9ac\",\n          \"\\ud328\\uc2a4\\ud2b8\\ud478\\ub4dc\\ubc0f\\ubd84\\uc2dd\"\n        ],\n        \"semantic_type\": \"\",\n        \"description\": \"\"\n      }\n    },\n    {\n      \"column\": \"reviews\",\n      \"properties\": {\n        \"dtype\": \"string\",\n        \"num_unique_values\": 670,\n        \"samples\": [\n          \"\\uc774\\ub300\\uc5d0 \\uc774\\ub7f0 \\uacf3\\uc774 \\uc0dd\\uae30\\ub2e4\\ub2c8 \\uc74c\\uc2dd\\ub3c4 \\ub9db\\uc788\\uace0 \\uac00\\uaca9\\ub3c4 \\ud569\\ub9ac\\uc801\\uc774\\uc5d0\\uc694 \\ubd84\\uc704\\uae30\\ub3c4 \\uc88b\\uace0 \\uc608\\uc57d\\ub3c4 \\uac00\\ub2a5\\ud574\\uc11c \\uc88b\\uc558\\uc2b5\\ub2c8\\ub2e4 \\ucf5c\\ud0a4\\uc9c0\\ub294 \\ud55c\\ubcd1\\uae4c\\uc9c0 \\ubb34\\ub8cc 2\\ubcd1\\ubd80\\ud130\\ub294 \\ubcd1\\ub2f9 2\\ub9cc\\uc6d0\\uc774\\uace0 \\ucf00\\uc775\\uc740 \\ubc18\\uc785\\uc740 \\uac00\\ub2a5\\ud558\\uc9c0\\ub9cc \\ucde8\\uc2dd\\uc740 \\uc548\\ub41c\\ub2e4\\uace0 \\ud569\\ub2c8\\ub2f9 \\ud30c\\uc774\\ub864\\uacfc \\uc0d0\\ub7ec\\ub4dc \\ubc84\\uc12f\\ud30c\\uc2a4\\ud0c0\\uac00 \\uc778\\uc0c1\\uc801\\uc774\\uc5c8\\uc5b4\\uc694 \\ub3fc\\uc9c0\\uc548\\uc2ec\\uc2a4\\ud14c\\uc774\\ud06c\\ub3c4 \\ubd80\\ub4dc\\ub7ec\\uc6e0\\uc2b5\\ub2c8\\ub2e4\\uac00\\uc131\\ube44\\uc9f1 \\uc77c\\ud558\\ub294 \\uc9c1\\uc6d0\\ubd84 \\uc218\\uac00 \\uc801\\ub2e4\\ubcf4\\ub2c8 \\ud14c\\uc774\\ube14\\uc704 \\ud734\\uc9c0 \\ub4f1 \\uc815\\ub9ac \\uc55e\\uc811\\uc2dc \\uad50\\uccb4 \\ub4f1\\uc758 \\uc11c\\ube44\\uc2a4\\uae4c\\uc9c0 \\uae30\\ub300\\ud558\\uae30\\ub294 \\uc0b4\\uc9dd \\uc5b4\\ub835\\uc9c0\\ub9cc \\uc8fc\\ubb38\\ud55c \\uba54\\ub274 \\ud558\\ub098\\uac00 \\uc798\\ubabb\\ub098\\uc624\\uae30\\ub3c4 \\ud588\\uc9c0\\ub9cc \\ub9db\\uc788\\uc5b4\\uc11c \\uc624\\ud788\\ub824 \\uc88b\\uc558\\u2026 \\uc774 \\ub9db\\uc5d0 \\uc774 \\uac00\\uaca9\\uc774\\ub77c\\ub2c8 \\uc55e\\uc73c\\ub85c\\ub3c4 \\uc7ac\\ubc29\\ubb38\\ud560 \\uac83 \\uac19\\uc544\\uc694 \\uc2dd\\uc804\\ube75\\ub3c4 \\ub9db\\uc788\\uace0 \\ub9ac\\ubdf0\\uc6a9 \\ubd80\\uc26c\\ub9e8\\ube75\\ub3c4 \\uac10\\uc0ac\\ud569\\ub2c8\\ub2e4 \\uce5c\\uad6c\\ucd94\\ucc9c\\uc73c\\ub85c \\uc654\\ub294\\ub370 \\uc5ec\\uae30 \\uba3c\\ub370 \\uba38\\uc57c \\uc678\\uc2dd\\uc778\\uc0dd \\ud1b5\\ud2c0\\uc5b4 \\uc190\\uaf3d\\ud798 \\ud4e8\\uc804\\uc2a4\\ud0c0\\uc77c\\uc758 \\ucca8 \\ubcf4\\ub294 \\ud2b9\\uc0c9\\uc788\\ub294 \\uba54\\ub274\\ub4e4 \\uc591\\uc2dd\\uc778\\ub370 \\uac74\\uac15\\ud55c \\ub290\\ub08c\\uc5d0 \\ub290\\ub07c\\ud558\\uc9c0\\ub3c4 \\uc54a\\uace0 \\ubd84\\uc704\\uae30\\ub3c4 \\uc88b\\uace0 \\uce5c\\uc808\\ud558\\uace0 \\uc2dd\\uc804\\ube75\\uc740 \\ub610 \\uc664\\ucf00 \\ucee4 \\uac19\\uc774 \\ub098\\uc624\\ub294 \\uc2a4\\ud504\\ub808\\ub4dc\\ub294 \\uc664\\ucf00 \\uac00\\ubccd\\uace0 \\ub9db\\uc788\\uc9c0 \\uac00\\uae4c\\uc774 \\uc788\\uc5c8\\uc73c\\uba74 \\uc8fc\\uae30\\uc801\\uc73c\\ub85c \\uac00\\uac8c \\ub410\\uc744\\ub4ef \\uc544 \\uc9c4\\uc9dc \\ub3c8 \\uc544\\uae5d\\uc9c0 \\uc54a\\uc740 \\uc678\\uc2dd\\uc774\\uc5c8\\uc2b5\\ub2c8\\ub2e4 \\ub2e4\\ub978 \\uba54\\ub274\\ub3c4 \\uba39\\uc5b4\\ubcf4\\uace0 \\uc2f6\\uc5b4\\uc11c \\ub610 \\ubc29\\ubb38\\ud558\\uace0 \\uc2f6\\ub124\\uc694 \\uc0dd\\uc77c \\uae30\\ub150 \\ubc29\\ubb38\\ud588\\ub294\\ub370 \\uc815\\ub9d0 \\ucd5c\\uace0\\uc758 \\uc120\\ud0dd \\ubd84\\uc704\\uae30\\ub3c4 \\uc88b\\uace0 \\uc77c\\ub2e8 \\ubaa8\\ub4e0 \\uc74c\\uc2dd\\uc774 \\uac4d \\ub2e4 \\ub9db\\uc788\\uc5b4\\uc694 \\ud2b9\\ud788 \\uc2ec\\ud50c\\ud30c\\uc774\\ub864 \\uc9c4\\uc9dc \\uaf2c\\uc625 \\uc2dc\\ucf1c\\ub4dc\\uc138\\uc694 \\uadf8\\uac70 \\uba39\\uc73c\\ub7ec \\ub610 \\uac08 \\uc608\\uc815\\uc785\\ub2c8\\ub2e4 \\uacc4\\uc18d \\uc0dd\\uac01\\ub098\\ub294 \\ub9db\\uc774\\uace0 \\ubd84\\uc704\\uae30\\ub3c4 \\ucd5c\\uace0\\uace0 \\uc608\\uc57d \\ub418\\ub294 \\uc810\\ub3c4 \\ub118 \\uc88b\\uc544\\uc694  \\uc0dd\\uc77c \\uae30\\ub150 \\ubfd0\\ub9cc \\uc544\\ub2c8\\ub77c \\uc18c\\uac1c\\ud305\\uc774\\ub098 \\ub370\\uc774\\ud2b8 \\uc7a5\\uc18c\\ub85c\\ub3c4 \\uc9f1\\uc77c \\ub4ef\\ud569\\ub2c8\\ub2e4 \\uc644\\uc83c \\uc774\\ub300 \\uc5ed \\ub9db\\uc9d1\\uc73c\\ub85c \\ucd94\\ucc9c \\ucd5c\\uadfc \\uc678\\uc2dd \\uacbd\\ud5d8\\uc911 \\ucd5c\\uace0\\uc600\\uc5b4\\uc694  \\uc2dd\\uc804\\ube75 \\ub9dd\\uace0 \\uc2a4\\ud504\\ub808\\ub4dc \\uc5d0\\ud53c\\ud0c0\\uc774\\uc800\\ub85c \\ub098\\uc628 \\uc2dd\\uc804\\ube75\\uc740 \\uba54\\uc778 \\uba39\\uc744 \\ub54c \\ubc30\\ubd80\\ub97c\\uae4c\\ubd10 \\uc6d0\\ub798 \\ub2e4 \\uc548\\uba39\\ub294\\ub370 \\uc2a4\\ud504\\ub808\\ub4dc\\ub791 \\ube75\\uc774 \\ub108\\ubb34 \\ub9db\\uc788\\uc5b4\\uc11c \\ub2e4 \\uba39\\uc5b4\\ubc84\\ub838\\uc5b4\\uc694 \\uc548\\uc2ec \\ub3fc\\uc9c0\\uace0\\uae30\\uc778\\uac8c \\ubbff\\uae30\\uc9c0 \\uc54a\\uc744 \\uc815\\ub3c4\\ub85c \\uc57c\\ub4e4\\uc57c\\ub4e4\\ud558\\uace0 \\uc18c\\uc2a4 \\uc591\\ud30c\\uc808\\uc784 \\uc228\\uc5b4\\uc788\\ub294 \\uace0\\uad6c\\ub9c8 \\uac00\\ub2c8\\uc2dc\\uae4c\\uc9c0 \\ub108\\ubb34 \\uc870\\ud569\\uc774 \\uc88b\\uc558\\uc5b4\\uc694 \\uc18c\\uace0\\uae30\\ubc84\\uc12f\\ud2b8\\ub7ec\\ud50c\\ud30c\\uc2a4\\ud0c0 \\ubc84\\uc12f\\uc744 \\uad6c\\uc6cc\\uc11c \\uc8fc\\uc154\\uc11c \\ub354\\uc6b1 \\ud48d\\ubbf8\\uac00 \\uc88b\\uace0 \\ud2b8\\ub7ec\\ud50c\\ud5a5\\ub3c4 \\uc194\\uc194 \\uac10\\uce60\\ub9db \\ubfdc\\ubfdc \\uc2ec\\ud50c\\ud30c\\uc774\\uc624\\ub9ac\\uc9c0\\ub110 \\uac89\\uba74 \\ud398\\uc774\\uc2a4\\uce04\\ub9ac\\ub97c \\ucf70\\uc0ad \\uc539\\ub294 \\uc21c\\uac04 \\uac10\\ub3d9 \\uac19\\uc774 \\uc8fc\\uc2e0 \\ub9e4\\ucf64\\ud55c \\uc18c\\uc2a4\\uc640\\ub3c4 \\uc798 \\uc5b4\\uc6b8\\ub824\\uc11c \\uc5f4\\ubb34 \\uac00\\ub2c8\\uc2dc \\ubc18\\ucc2c\\ucc98\\ub7fc \\uc8fc\\uc2e0 \\uc0c1\\ud07c\\ud55c \\uae54\\ub054\\ud55c \\uc0b4\\uc9dd \\ub2ec\\uc9dd\\uc9c0\\uadfc\\ud55c \\uc5f4\\ubb34\\uac00 \\uc785\\ub9db\\uc744 \\ub9ac\\ud504\\ub808\\uc2dc \\ud574\\uc8fc\\uba74\\uc11c \\uc2dd\\uc0ac\\uc758 \\ud0a5\\uc774\\uc5c8\\uc5b4\\uc694 \\uc608\\uc05c \\uc778\\ud14c\\ub9ac\\uc5b4\\ub85c \\uc2dc\\uc791\\ud574\\uc11c \\uc74c\\uc2dd\\ub4e4\\uae4c\\uc9c0 \\ud589\\ubcf5\\ud55c \\uc2dd\\uc0ac\\uc600\\uc2b5\\ub2c8\\ub2f9 \\uc774\\ub300\\uc5d0 \\uc774\\ub7f0 \\uace0\\uae09\\uc2a4\\ub7ec\\uc6b4 \\ub9db\\uc9d1\\uc774 \\uc2dd\\uc804\\ube75\\uc774 \\uc9c4\\u2026\\uc9dc \\ub9db\\uc788\\uc5b4\\uc694 \\ub9ac\\ud544 \\ubb34\\uc870\\uac74\\u2026 \\ud30c\\uc2a4\\ud0c0 \\uc138\\uc885\\ub958 \\uba39\\uc5b4\\ubd24\\ub294\\ub370 \\uc0dd\\uba74\\uc774\\ub77c \\uadf8\\ub7f0\\uc9c0 \\uba74\\uc774 \\ubd80\\ub4dc\\ub7fd\\uace0 \\ucac4\\uae43\\ud574\\uc694 \\uac20\\uc801\\uc73c\\ub85c \\ubc84\\uc12f\\ud30c\\uc2a4\\ud0c0\\uac00 \\ud5a5\\uc774 \\ucc10\\ud558\\uba74\\uc11c \\ub9db\\uc788\\uc5c8\\uc5b4\\uc694 \\ubd84\\uc704\\uae30\\ub3c4 \\uc88b\\uc544\\uc694 \\uc7ac\\ubc29\\ubb38 \\uac01 \\uad6c\\uc6b4 \\ucc44\\uc18c\\uac00 \\ub4e4\\uc5b4\\uac04 \\ud6c4\\ubb34\\uc2a4 \\uc0d0\\ub7ec\\ub4dc \\uc624\\ub9ac\\uc9c0\\ub110 \\ud30c\\uc774\\ub864 \\uba39\\uc5c8\\ub294\\ub370\\uc694 \\uc0d0\\ub7ec\\ub4dc\\ub294 \\uc2dd\\uac10\\ub3c4 \\uc7ac\\ubc0c\\uace0 \\ud6c4\\ubb34\\uc2a4 \\uc544\\ub798\\ub85c \\uac01\\uc885 \\ucc44\\uc18c\\uac00 \\uad6c\\uc6cc\\uc11c \\ub5a0\\uba39\\ub294 \\ud615\\ud0dc\\ub85c \\ud50c\\ub808\\uc774\\ud305 \\ub418\\uc11c \\ub098\\uc635\\ub2c8\\ub2e4 \\ubc30\\uace0\\ud320\\ub294\\ub370\\ub3c4 \\ub2e4 \\uba39\\uace0\\ub098\\ub2c8 \\uc740\\uadfc \\ubc30\\ubd88\\ub800\\uc5b4\\uc694 \\uc695\\uc2ec \\ub0b4\\uc11c \\ud30c\\uc774\\ub864\\ub3c4 \\uc2dc\\ucf30\\ub294\\ub370 \\ub2e4 \\ubabb \\uba39\\uace0 \\ud3ec\\uc7a5\\ud588\\uc2b5\\ub2c8\\ub2e4 \\ub2e4\\uc74c\\uc5d0 \\ub610 \\uc7ac\\ubc29\\ubb38 \\uc758\\uc0ac \\uc788\\uad6c\\uc694 \\ub9ac\\ubdf0\\uc4f0\\uba74 \\ube75\\ub3c4 \\uc8fc\\ub294 \\uc774\\ubca4\\ud2b8 \\uc911\\uc774\\ub77c \\ud30c\\uc774\\ub864\\uc5d0 \\uacc1\\ub4e4\\uc5b4\\uba39\\uc744\\ub824\\uace0\\uc694 \\uc2ec\\ud50c\\ud558\\uace0 \\uae4a\\uc740 \\ub9db \\ucd94\\ucc9c\\ubc1b\\uc544 \\uac14\\ub294\\ub370 \\ub4e4\\uc5b4\\uac00\\uc790\\ub9c8\\uc790 \\uc778\\ud14c\\ub9ac\\uc5b4\\uac00 \\ud799\\uc564\\uc2ec\\ud50c\\uc774\\ub77c\\uc11c \\uc88b\\uc558\\uc5b4\\uc694 \\ubb54\\uac00 \\ucee4\\ud53c\\uac00 \\ub9db\\uc788\\uc744\\uac70 \\uac19\\uc740 \\ub290\\ub08c\\uc758 \\uc778\\ud14c\\ub9ac\\uc5b4 \\uc544\\uc2dc\\uc8e0 \\u314e\\u314e \\uc74c\\uc2dd\\uc740 \\uc815\\ub9d0 \\uba54\\ub274\\ub9c8\\ub2e4 \\ub04c\\ub824\\uc11c 3\\uba85\\uc774 5\\uac1c \\uc2dc\\ucf30\\ub294\\ub370 \\ub9db\\uc774 \\uc815\\ub9d0 \\ub180\\ub77c\\uc6e0\\uc5b4\\uc694 \\ube75\\ub3c4 \\uc815\\ub9d0 \\ubd80\\ub4dc\\ub7fd\\uace0 \\uc18c\\uc2a4\\ub3c4 \\ub2e4 \\uacfc\\ud558\\uc9c0 \\uc54a\\uc740\\ub370 \\ub9db\\uc774 \\uc88b\\uc544\\uc11c \\ub9ce\\uc774 \\uba39\\uc5c8\\uc2b5\\ub2c8\\ub2e4 \\uad49\\uc7a5\\ud788 \\uc88b\\uc740 \\ub300\\uc811 \\ubc1b\\uc558\\uad6c\\ub098 \\uc2f6\\uc5c8\\uace0 \\uac00\\uaca9\\ub3c4 \\ud6cc\\ub96d\\ud574\\uc11c \\ub610 \\uac00\\uace0 \\uc2f6\\uc5b4\\uc694  \\ubc18\\uc11c\\uc6b8\\ub54c\\ubd80\\ud130 \\ub290\\uaf08\\ub294\\ub370 \\uc548\\uc2ec\\uc774 \\uc9c4\\uc9dc \\ub108\\ubb34\\ub108\\ubb34 \\ub9db\\uc788\\uc5b4\\uc694 \\uba39\\uc5b4\\ubcf8 \\uc548\\uc2ec \\uc2a4\\ud14c\\uc774\\ud06c \\uc911\\uc5d0 \\uc81c\\uc77c \\ub9db\\uc788\\ub294 \\uac83 \\uac19\\uc544\\uc694 \\uce60\\ub9ac\\uc5d0\\uadf8\\ub294 \\ucc98\\uc74c \\uba39\\uc5b4\\ubcf4\\ub294 \\ub9db\\uc774\\uc5c8\\ub294\\ub370 \\ub118 \\ub9db\\uc788\\uac8c \\uc798 \\uba39\\uc5c8\\uc2b5\\ub2c8\\ub2e4 \\ud2b9\\ud788 \\uce58\\uc988\\uac00 \\uc5c4\\uccad \\ub9ce\\uc544\\uc11c \\uc88b\\uc558\\uc5b4\\uc694 \\ub9ac\\uce58\\uc5d0\\uc774\\ub4dc\\ub791 \\uc2dd\\uc804\\ube75\\ub3c4 \\ucd5c\\uace0\\uc600\\uc5b4\\uc694 \\uc774\\ub300\\uc5d0\\uc11c \\ubd84\\uc704\\uae30 \\uc88b\\uc740 \\ub808\\uc2a4\\ud1a0\\ub791 \\ucc3e\\ub294\\ub2e4\\uba74 \\uc544\\ubb3b\\ub530 \\uc2ec\\ud50c\\ub9ac\\uc2a4\\ud2b8\\uac00 \\uc815\\ub2f5\\uc785\\ub2c8\\ub2e4 \\uc77c\\ub2e8 \\uc2dd\\ub2f9 \\ub0b4\\ubd80 \\uc778\\ud14c\\ub9ac\\uc5b4\\uac00 \\uc815\\ub9d0 \\ub108\\uc5b4\\uc5b4\\uc5b4\\ubb34 \\uc608\\uc058\\uad6c\\uc694 \\ud2c0\\uc5b4\\uc8fc\\uc2dc\\ub294 \\ub178\\ub798\\ub3c4 \\ub2e4 \\ub108\\ubb34 \\uc88b\\uc740\\ub370 \\uc74c\\uc2dd \\ub9db\\ub3c4 \\uc644\\ubcbd\\ud588\\uc5b4\\uc694\\u315c \\ub355\\ubd84\\uc5d0 \\uce90\\ub098\\ub2e4\\uc5d0\\uc11c \\uc628 \\uc9c0\\uc778\\ud558\\uace0 \\uba87\\ub144\\ub9cc\\uc5d0 \\ub9cc\\ub098\\ub294 \\uc911\\uc694\\ud55c \\uc790\\ub9ac\\uc600\\ub294\\ub370 \\uc9c4\\uc2ec\\uc73c\\ub85c \\ub9cc\\uc871\\uc2a4\\ub7fd\\uac8c \\uc2dd\\uc0ac\\ud558\\uace0 \\ub098\\uc654\\uc2b5\\ub2c8\\ub2e4 \\uc0ac\\uc7a5\\ub2d8 \\ud765\\ud558\\uc138\\uc5ff 1 \\ubd84\\uc704\\uae30 \\uc88b\\uc740 \\uc774\\ub300\\ub808\\uc2a4\\ud1a0\\ub791 \\ucc3e\\uc73c\\uc2dc\\ub294 \\ubd84\\ub4e4 2 \\uc774\\ub300\\uc591\\uc2dd \\ub9db\\uc9d1 \\ud639\\uc740 \\uc774\\ub300\\ud30c\\uc2a4\\ud0c0 \\ub9db\\uc9d1 \\ucc3e\\uc73c\\uc2dc\\ub294 \\ubd84\\ub4e4 3 \\uc774\\ub300 \\ucabd\\uc5d0\\uc11c \\uc5f0\\uc778\\uacfc \\ub370\\uc774\\ud2b8 \\ud560 \\uc2dd\\ub2f9 \\ucc3e\\uc73c\\uc2dc\\ub294 \\ubd84\\ub4e4 \\uc774\\ub7f0 \\ubd84\\ub4e4\\uaed8 \\uc2ec\\ud50c\\ub9ac\\uc2a4\\ud2b8 \\uc801\\uadf9 \\ucd94\\ucc9c\\ub4dc\\ub9bd\\ub2c8\\ub2e4 \\ucc98\\uc74c \\ubc29\\ubb38\\ud55c \\uacf3\\uc778\\ub370 \\ubd84\\uc704\\uae30\\ub3c4 \\ub108\\ubb34 \\uc88b\\uace0 \\uc74c\\uc2dd\\ub3c4 \\ub3c5\\ud2b9\\ud558\\uace0 \\ub108\\ubb34 \\ub9db\\uc788\\uc5c8\\uc5b4\\uc694 \\ub370\\uc774\\ud2b8 \\ud558\\ub7ec \\uc640\\ub3c4 \\ub108\\ubb34 \\uc88b\\uc744 \\uac83 \\uac19\\uc544\\uc694 \\uadf8\\ub9ac\\uace0 \\uc9c1\\uc6d0\\ubd84\\ub4e4\\uc774 \\uce5c\\uc808\\ud558\\uc154\\uc11c \\ub354 \\uc88b\\uc558\\uc2b5\\ub2c8\\ub2e4 \\ub2e4\\uc74c\\uc5d0 \\uc7ac\\ubc29\\ubb38\\ud558\\ub824\\uad6c\\uc694 \\uadf8\\ub9ac\\uace0 \\ub9e5\\uc8fc\\ub3c4 \\uc9c4\\uc9dc \\ub9db\\uc788\\uc5b4\\uc694 \\uafc0\\uaebd \\uaf2d \\ub4dc\\uc154\\ubcf4\\uc138\\uc694\",\n          \"\\uc2e0\\ucd0c\\uc5d0\\uc11c \\uc81c\\uc77c \\uc88b\\uc544\\ud558\\ub294 \\uc220\\uc9d1 \\uc911 \\ud55c \\uacf3\\uc785\\ub2c8\\ub2e4 \\uc778\\ud14c\\ub9ac\\uc5b4\\ub3c4 \\uc608\\uc058\\uc9c0\\ub9cc \\uc218\\uc81c \\ub9e5\\uc8fc\\uac00 \\uc815\\ub9d0 \\ub9db\\uc788\\uc2b5\\ub2c8\\ub2e4 ipa\\ub97c \\uc88b\\uc544\\ud558\\ub294\\ub370 \\uc885\\ub958\\ub3c4 \\ub9ce\\uace0 \\ub9db\\uc788\\ub294 \\uac83\\ub4e4\\ub3c4 \\ub9ce\\uad6c\\uc694 \\uc548\\uc8fc\\ub3c4 \\ub9db\\uc788\\ub294\\ub370 \\uc774\\ubc88\\uc5d0\\ub294 \\ucc98\\uc74c\\uc73c\\ub85c \\ubc84\\uac70\\ub3c4 \\uc2dc\\ucf1c \\uba39\\uc5b4\\ubd24\\uc2b5\\ub2c8\\ub2e4 \\ud328\\ud2f0\\uac00 \\ub450\\ubc30\\ub85c \\ub4e4\\uc5b4\\uac00 \\uc788\\ub294 \\ub274\\ud0c0\\uc6b4 \\ub354\\ube14 \\ubc84\\uac70\\ub85c \\uc2dc\\ucf30\\uace0 \\ub9e5\\uc8fc\\uae4c\\uc9c0\\ud574\\uc11c \\uba39\\uc73c\\ub2c8 \\ucc38 \\ub9db\\uc788\\uc5c8\\uc2b5\\ub2c8\\ub2e4 \\uace0\\ud5a5\\uc5d0\\uc11c \\uce5c\\uad6c\\uac00 \\uc654\\uc744\\ub54c \\uc5ec\\uae30\\ub97c \\ub370\\ub9ac\\uace0 \\uc624\\uae30\\ub3c4 \\ud588\\uc744 \\ub9cc\\ud07c \\uc88b\\uc740 \\ub9e5\\uc8fc\\uc9d1\\uc785\\ub2c8\\ub2e4 \\uc774\\ub7f0 \\ub9e5\\uc8fc\\ub4e4\\uc744 \\uc0dd\\ub9e5\\uc73c\\ub85c \\uc990\\uae38\\uc218 \\uc788\\ub2e4\\ub2c8 \\ub108\\ubb34 \\ud589\\ubcf5\\ud569\\ub2c8\\ub2e4 \\ub9e5\\ub355\\uc5d0\\uac8c\\ub294 \\uc131\\uc9c0 \\uac19\\uc740 \\uacf3 \\ub9e5\\uc8fc\\uac00 \\ube44\\uc2f8\\uae34 \\ud558\\uc9c0\\ub9cc \\uac00\\uce58\\uac00\\uc788\\uc2b5\\ub2c8\\ub2e4 \\uadf8\\ub9ac\\uace0 \\uce58\\ud0a8\\uc774 \\uc9c4\\uc9dc \\ub9db\\uc788\\uc2b5\\ub2c8\\ub2e4 \\uc61b\\ub0a0 \\ube44\\ube44\\ud050 \\ud669\\uc62c \\ub290\\ub08c\\uc774\\ub77c\\uc11c \\uae30\\ub984\\uc774 \\uc815\\ub9d0 \\uace0\\uc18c\\ud558\\uace0 \\ub9db\\uc788\\uc5b4\\uc694 \\uc9c0\\uc778\\ud55c\\ud14c \\ucd94\\ucc9c\\ubc1b\\uace0 \\ubc29\\ubb38\\ud588\\uc2b5\\ub2c8\\ub2e4 \\ubd84\\uc704\\uae30 \\uba54\\ub274 \\ud68c\\uc7a5\\uc2e4\\uae4c\\uc9c0 \\uc2e0\\ucd0c\\uc5d0\\uc11c \\uc18c\\uac1c\\ud305\\ud558\\uae30\\uc5d0\\ub294 \\ucd5c\\uc801\\uc758 \\uc7a5\\uc18c\\uac00 \\uc544\\ub2cc\\uac00 \\uc2f6\\ub124\\uc694 \\uc804 \\ub9e5\\uc8fc \\uc798 \\ubab0\\ub77c\\uc11c \\uc9c1\\uc6d0\\ubd84\\uaed8 \\ucd94\\ucc9c \\ubc1b\\uc558\\ub294\\ub370 \\uc5c4\\uccad \\uc804\\ubb38\\uc801\\uc774\\uc168\\uc2b5\\ub2c8\\ub2e4 \\uba54\\ub274 \\ud0dc\\ube14\\ub9bf\\uc758 \\uc2a4\\ud06c\\ub9b0\\uc138\\uc774\\ubc84 \\uace0\\uc591\\uc774\\uac00 \\uadc0\\uc5fd\\uc2b5\\ub2c8\\ub2e4 \\uc2e0\\ucd0c\\uc5d0 \\uc774\\ub7f0 \\ubcf4\\uc11d\\uac19\\uc740 \\uc220\\uc9d1\\uc774 \\uc788\\uc5c8\\ub2e4\\ub2c8 \\uce5c\\uad6c\\ub4e4\\uc5d0\\uac8c \\uc54c\\ub824\\uc8fc\\uace0\\uc2f6\\uc740 \\ub9db\\uc9d1\\uc774\\uc5d0\\uc694 \\uc885\\ub958\\uac00 28\\uac00\\uc9c0\\ub098 \\ub418\\ub294\\ub370 \\uc81c \\ubc30\\uc5d0 \\uba87\\uc794 \\ubc16\\uc5d0 \\ubabb\\ub4e4\\uc5b4\\uac00\\ub294\\uac8c \\uc544\\uc26c\\uc6cc\\uc694\\u3160\\u3160\\u3160 \\ud55c\\uad6d \\ube44\\uc5b4\\uc18c\\ubbc8\\ub9ac\\uc5d0 \\ucc54\\ud53c\\uc5b8\\ubd84\\ub4e4\\uc774 \\uc6b4\\uc601\\ud558\\uc154\\uc11c \\uadf8\\ub7f0\\uc9c0 \\uc5c4\\uc120\\ub41c \\ub9e5\\uc8fc\\ub9cc \\ud310\\ub9e4\\ud558\\uc138\\uc694 \\ub9e5\\uc8fc\\ub3c4 \\uc804\\ubd80 \\ub9db\\uc788\\uc9c0\\ub9cc \\uc5ec\\uae30 \\uc218\\uc81c \\ubc84\\uac70\\uc640 \\ub9e5\\uc564\\uce58\\uc988\\ub294 \\uaf2d \\ub4dc\\uc154\\ubcf4\\uc154\\uc57c\\ud558\\ub294 \\uba54\\ub274 \\uc785\\ub2c8\\ub2e4 \\ub9e5\\uc8fc\\uc640 \\uc798\\uc5b4\\uc6b8\\ub9ac\\ub294 \\uba54\\uc778\\ub514\\uc26c\\ub4e4\\uc774\\uc5d0\\uc694 \\ub2e4\\uc74c\\uc5d0 \\ubc29\\ubb38\\ud558\\uace0 \\uce5c\\uad6c\\ub4e4\\uc5d0\\uac8c \\ub110\\ub9ac \\uc54c\\ub9ac\\uace0 \\uc2f6\\uc740 \\ucc10\\ucc10\\ub9db\\uc9d1\\uc785\\ub2c8\\ub2e4\\u3160 \\uc2e0\\ucd0c \\uc218\\uc81c\\ub9e5\\uc8fc \\uc218\\uc785\\ub9e5\\uc8fc \\ub4f1 \\ub9e5\\uc8fc\\uc5d0 \\uc9c4\\uc2ec\\uc778 \\ub9db\\uc9d1 \\ub9e5\\uc8fc\\ub7ec\\ubc84\\ub4e4\\uc740 \\uc5ec\\uae30 \\ud55c\\ubc88\\uc73c\\ub85c\\ub294 \\uc808\\ub300 \\uc548\\ub3fc\\uc694 \\uc800\\ub3c4 \\uadf8 \\ub9db\\uc744 \\ubabb\\uc78a\\uc5b4 \\ub610 \\uc654\\ub294\\ub370 \\ub9e5\\uc8fc \\uc885\\ub958\\uac00 \\ubabb\\ubcf4\\ub358\\uac83\\uae4c\\uc9c0 \\uc0dd\\uaca8 \\uc5ec\\uae30\\ub294 \\ub04a\\uc744 \\uc218 \\uc5c6\\uad6c\\ub098 \\uc2f6\\uc5c8\\uc5b4\\uc694\\u314e\\u314e \\uc774\\ubc88\\uc5d0\\ub294 \\uad6c\\ub374\\uce74\\ub97c\\ub8e8\\uc2a4 \\ud2b8\\ub9ac\\ud3a0\\uacfc \\ubbf8\\ubbf8\\uc0ac\\uc6cc\\ub97c \\ub9c8\\uc168\\ub294\\ub370 \\ud655\\uc2e4\\ud788 \\uae30\\uc874 \\ub9e5\\uc8fc\\uc640\\ub294 \\ub2e4\\ub978 \\ubb35\\uc9c1\\ud568\\uad6c\\ub374\\uce74\\ub97c\\ub85c\\uc2a4\\uacfc \\uc0b0\\ub73b\\ud568\\ubbf8\\ubbf8\\uc0ac\\uc6cc\\uc744 \\ub290\\ub084 \\uc218 \\uc788\\uc5c8\\uc5b4\\uc694 \\uc548\\uc8fc\\ub294 \\ub9d0\\ud574\\ubb50\\ud574\\ub85c \\ub9db\\uc788\\uc5c8\\ub294\\ub370 \\uc77c\\ub2e8 \\uc5ec\\uae30 \\uce60\\ub9ac\\uc18c\\uc2a4 \\uc798\\ud569\\ub2c8\\ub2e4\\u314e\\u314e \\ub2e4\\uc74c\\uc5d0 \\ub610 \\uc640\\uc57c\\uaca0\\uc5b4\\uc694 \\uc774\\uc81c \\uc2e0\\ucd0c \\uc218\\uc81c\\ub9e5\\uc8fc \\uc2e0\\ucd0c \\uc218\\uc81c\\ubc84\\uac70 \\ub9db\\uc9d1 \\ud558\\uba74 \\uc5ec\\uae30 \\uc0dd\\uac01\\ub0a0 \\uac83 \\uac19\\uc544\\uc694 \\ub9e5\\uc8fc \\uc2eb\\uc5b4\\ud558\\ub358 \\uc81c\\uac00 \\uc5ec\\uae30 \\ub9e5\\uc8fc \\ud55c\\uc794\\uc744 \\ub2e4 \\ub9c8\\uc168\\uc2b5\\ub2c8\\ub2e4 \\ub9e5\\uc8fc\\ub3c4 \\ub9e5\\uc8fc\\uc778\\ub370 \\ubc84\\uac70\\ub791 \\ud018\\uc0ac\\ub514\\uc57c \\uc664\\ucf00 \\ub9db\\uc788\\ub294 \\uac70\\uc8e0 \\u3160\\u3160 \\uc548\\uc8fc\\uae4c\\uc9c0 \\uc644\\ubcbd\\ud558\\ub2c8\\uae4c \\uc815\\ub9d0 \\uae30\\ubd84\\uc88b\\uace0 \\ubc30\\ubd80\\ub974\\uac8c \\uc990\\uae30\\ub2e4 \\uc628 \\uac83 \\uac19\\uc544\\uc694  \\uc644\\uc804\\ucd94\\ucc9c\\ucd94\\ucc9c\\ud569\\ub2c8\\ub2e4  \\ub9e5\\uc8fc\\uac00 \\uc815\\ub9d0 \\ub2e4\\uc591\\ud558\\uace0 \\uac00\\uaca9\\ub3c4 \\uad1c\\ucc2e\\ub124\\uc694 \\uac10\\uc790\\ud280\\uae40\\uc740 \\ud55c\\uad6d\\uc5d0\\uc11c \\uba39\\uc5b4\\ubcf8\\uac83\\uc911 \\ucd5c\\uace0\\uc785\\ub2c8\\ub2e4\\u314e\\u314e \\uc55e\\uc73c\\ub85c\\ub3c4 \\uc790\\uc8fc \\ucc3e\\uac8c \\ub420 \\uac83 \\uac19\\uc2b5\\ub2c8\\ub2e4  \\ub9e5\\uc8fc\\uac00 \\ub2e4\\uc591\\ud558\\uace0 \\uc719\\uc774 \\ub9db\\uc788\\uc5b4\\uc694 \\ub9e5\\uc8fc \\ub300\\ud68c \\uc6b0\\uc2b9\\ub3c4 \\ud5c8\\uc2dc\\uace0 \\uc2ec\\uc0ac\\uc704\\uc6d0\\uc73c\\ub85c\\ub3c4 \\ucc38\\uc5ec\\ud558\\uc2dc\\ub294 \\ub9e5\\uc8fc\\uc5d0 \\uc9c4\\uc2ec\\uc778 \\uc0ac\\uc7a5\\ub2d8\\uc774 \\uc6b4\\uc601\\ud558\\uc2dc\\ub294 \\ub9e5\\uc8fc \\ub9db\\uc9d1\\uc785\\ub2c8\\ub2e4 \\ud584\\ubc84\\uac70 \\ub9e5\\uc8fc \\uc548\\uc8fc\\ub85c \\uae30\\uac00 \\ub9c9\\ud788\\uace0 \\ub9e5\\uc8fc \\uc885\\ub958\\ub3c4 \\uc5c4\\uccad \\ub2e4\\uc591\\ud574\\uc11c \\uc88b\\uc558\\uc5b4\\uc694 \\ub9e5\\uc8fc \\uc885\\ub958\\ub3c4 \\ub2e4\\uc591\\ud558\\uace0 \\ud48d\\ubbf8\\ub098 \\uae4a\\uc774\\uac00 \\ub530\\ub77c\\uac08 \\uc218 \\uc5c6\\uc744 \\uc7a5\\ub3c4\\ub85c \\ub9db\\uc788\\uc5c8\\uc5b4\\uc694  \\uc7ac\\ubc29\\ubb38 \\uc758\\uc0ac 100\\uc785\\ub2c8\\ub2e4 \\ub9e5\\uc8fc\\ub3c4 \\ub2e4\\uc591\\ud558\\uace0 \\uc74c\\uc2dd\\ub3c4 \\ub9db\\uc788\\uc5b4\\uc694 \\uc774\\ub7f0 \\uace0\\ud004\\ub9e5\\uc8fc\\ub97c \\ub9c8\\uc2e4\\uc218\\uc788\\ub294 \\uacf3\\uc774 \\uc2e0\\ucd0c\\uc5d0 \\uc788\\uc5c8\\ub2e4\\ub294 \\uc0ac\\uc2e4 \\uc624\\ub298 \\ucc98\\uc74c \\uc54c\\uc558\\uad6c\\uc694\\ub2f4\\uc5d0 \\ub9e5\\uc8fc \\uba39\\uace0\\uc2f6\\uc744\\ub54c\\ub9c8\\ub2e4 \\uc62c\\uac70 \\uac19\\uc544\\uc694 \\ud2b9\\ud788 \\uce60\\ub9ac\\ub9e5\\uc564\\uce58\\uc988\\uadf8 \\ubca0\\uc2a4\\ud2b8 \\uba54\\ub274\\ub77c \\uc2dc\\ucf1c\\ubd24\\ub294\\ub370 \\uc9c4\\uc9dc \\ub9db\\uc788\\ub354\\ub77c\\uad6c\\uc694 \\ub2f4\\uc5d0 \\ub610 \\uc62c\\uac8c\\uc694^^\",\n          \"\\ub9dd\\uace0\\ube59\\uc218 \\ud3ec\\uc2a4\\ud130\\ub97c \\ubcf4\\uace0 \\ubc29\\ubb38\\ud588\\ub294\\ub370 \\uc2e0\\uc120\\ud558\\uace0 \\ub9db\\uc788\\uc2b5\\ub2c8\\ub2e4 \\ub9dd\\uace0 \\uc815\\ub9d0 \\uc88b\\uc544\\ud558\\ub294\\ub370 \\uc794\\ub729 \\ub4e4\\uc5b4\\uc11c \\uc88b\\uc558\\uc5b4\\uc694 \\uc548\\uc5d0\\ub294 \\ub208\\uaf43\\uc6b0\\uc720\\uc640 \\ub9dd\\uace0 \\uc54c\\ub85c\\uc5d0 \\ucf54\\ucf54\\ub11b \\ud384\\uc774 \\uc788\\uc5b4\\uc11c \\ub9dd\\uace0\\uc0ac\\uace0 \\ub290\\ub08c\\ub3c4 \\ub0a9\\ub2c8\\ub2e4 \\ub9e4\\uc7a5 \\ub0b4\\ubd80 \\uae68\\ub057\\ud558\\uace0 \\ubc1d\\uc740 \\ubd84\\uc704\\uae30\\uc785\\ub2c8\\ub2f9 \\uc544\\ub291\\ud558\\uba74\\uc11c\\ub3c4 \\uae54\\ub054\\ud569\\ub2c8\\ub2e4 \\uace0\\uad6c\\ub9c8\\ub77c\\ub5bc\\uc640 \\ucd08\\ucf54 \\ud06c\\ub8e8\\ud0a4 \\ub9db\\uc788\\uc2b5\\ub2c8\\ub2e4 \\ub9dd\\uace0\\ube59\\uc218 \\uad1c\\ucc2e\\uc544\\uc694 \\ud14c\\uc774\\ube14\\uc774 \\uc870\\uae08 \\ub354\\ub7ec\\uc6cc\\uc694  \\ud06c\\ub8e8\\ud0a4 \\ub9db\\uc788\\uc74c \\ucfe0\\ud0a4\\ub97c \\ub9e4\\uc7a5\\uc5d0\\uc11c \\uc9c1\\uc811\\uad6c\\uc6cc\\uc694 \\ub108\\ubb34 \\ub2ec\\uc9c0 \\uc54a\\uc544\\uc694   \\ud328\\uc4f0\\uc624\\ub354\\ub85c \\uc8fc\\ubb38\\ud560 \\uc218 \\uc788\\ub294 \\ub0a0\\uc9dc\\uac00 \\uc5b8\\uc81c\\uc778\\uac00\\uc694 \\uc0dd\\ud06c\\ub9bc \\ud06c\\ub85c\\ud50c \\ud558\\ub098 \\ub354 \\uc0ac\\uc62c\\uac78 \\ud6c4\\ud68c\\ub429\\ub2c8\\ub2e4 \\uac89\\uc740 \\ub2ec\\ub2ec\\ubc14\\uc0ad\\ud558\\uace0 \\uc18d\\uc740 \\ucd09\\ucd09\\ud574\\uc6a9 \\ub3d9\\ubb3c\\uc131 \\uc0dd\\ud06c\\ub9bc\\uc744 \\uadf8 \\uc790\\ub9ac\\uc5d0\\uc11c \\uc9c1\\uc811 \\ub9cc\\ub4e4\\uc5b4\\uc8fc\\uc2dc\\ub354\\ub77c\\uad6c\\uc694 \\ub108\\ubb34 \\ubd80\\ub4dc\\ub7fd\\uace0 \\ub9db\\uc788\\uc2b5\\ub2c8\\ub2e4\\u3160\\u3160 \\ucfe0\\ud0a4\\ub958\\ub3c4 \\uc9c1\\uc811 \\ub2e4 \\uad6c\\uc6b0\\uc2dc\\ub358\\ub370 \\uce74\\ud398 \\ub9e4\\uc7a5\\uc5d0 \\uc194\\uc194\\ud37c\\uc9c0\\ub294 \\uac13\\uad6c\\uc6b4 \\ucfe0\\ud0a4\\ub0c4\\uc0c8\\uac00 \\ub118 \\uc88b\\uc558\\uc5b4\\uc694 \\uc5ec\\uae30 \\ud328\\uc4f0\\uc624\\ub354 \\ub3c4\\uc785\\uc77c\\uc774 \\uad81\\uae08\\ud574\\uc694 \\ud06c\\ub8e8\\uc640\\uc0c1 \\uc88b\\uc544\\ud558\\ub294\\ub370 \\ud06c\\ub8e8\\ud0a4\\ub77c\\uace0 \\ud574\\uc11c \\uc0ac\\ubcf4\\uc558\\ub294\\ub370 \\ub9db\\uc788\\uc5b4\\uc694 \\u2661 \\ub514\\uc800\\ud2b8\\uac00 \\ub2e4\\uc591\\ud558\\uace0 \\ub9db\\uc788\\uc5b4\\uc694\"\n        ],\n        \"semantic_type\": \"\",\n        \"description\": \"\"\n      }\n    },\n    {\n      \"column\": \"keyword1\",\n      \"properties\": {\n        \"dtype\": \"category\",\n        \"num_unique_values\": 16,\n        \"samples\": [\n          \"\\uc74c\\uc2dd\\uc774 \\ub9db\\uc788\\uc5b4\\uc694\",\n          \"\\ub514\\uc800\\ud2b8\\uac00 \\ub9db\\uc788\\uc5b4\\uc694\",\n          \"\\ucee4\\ud53c\\uac00 \\ub9db\\uc788\\uc5b4\\uc694\"\n        ],\n        \"semantic_type\": \"\",\n        \"description\": \"\"\n      }\n    },\n    {\n      \"column\": \"keyword2\",\n      \"properties\": {\n        \"dtype\": \"category\",\n        \"num_unique_values\": 24,\n        \"samples\": [\n          \"\\uc74c\\ub8cc\\uac00 \\ub9db\\uc788\\uc5b4\\uc694\",\n          \"\\ubdf0\\uac00 \\uc88b\\uc544\\uc694\",\n          \"\\uce5c\\uc808\\ud574\\uc694\"\n        ],\n        \"semantic_type\": \"\",\n        \"description\": \"\"\n      }\n    },\n    {\n      \"column\": \"keyword3\",\n      \"properties\": {\n        \"dtype\": \"category\",\n        \"num_unique_values\": 31,\n        \"samples\": [\n          \"\\uc9d1\\uc911\\ud558\\uae30 \\uc88b\\uc544\\uc694\",\n          \"\\ub2e8\\uccb4\\ubaa8\\uc784 \\ud558\\uae30 \\uc88b\\uc544\\uc694\",\n          \"\\ube75\\uc774 \\ub9db\\uc788\\uc5b4\\uc694\"\n        ],\n        \"semantic_type\": \"\",\n        \"description\": \"\"\n      }\n    }\n  ]\n}"
            }
          },
          "metadata": {},
          "execution_count": 4
        }
      ],
      "source": [
        "import pandas as pd\n",
        "\n",
        "df = pd.read_csv(file_path + \"preprocessed_review_data.csv\")\n",
        "df.head()"
      ]
    },
    {
      "cell_type": "code",
      "source": [
        "#원핫 인코딩\n",
        "le = LabelEncoder()\n",
        "df['category_encoded'] = le.fit_transform(df['category'])\n",
        "\n",
        "#라벨 인코딩\n",
        "le = LabelEncoder()\n",
        "df['keyword1'] = le.fit_transform(df['keyword1'])\n",
        "le = LabelEncoder()\n",
        "df['keyword2'] = le.fit_transform(df['keyword2'])\n",
        "le = LabelEncoder()\n",
        "df['keyword3'] = le.fit_transform(df['keyword3'])"
      ],
      "metadata": {
        "id": "Siuj28TbVgmX"
      },
      "execution_count": 5,
      "outputs": []
    },
    {
      "cell_type": "code",
      "source": [
        "#stopwords 지정\n",
        "#일단 인터넷에 있는거 하나 쓰긴 했는데 오히려 너무 많이 불용어로 처리하는거 아닌가 싶기도 하네요\n",
        "#출처: https://ahnsun98.tistory.com/35#google_vignette\n",
        "#예를 들어서 ~않다 라고 하면 부정의 의미니까 오히려 필요한 게 아닌지... 그런 친구들때문에 고민됩니다.\n",
        "f = open(file_path + 'stopword.txt', \"r\")\n",
        "stopwords = f.read().splitlines()"
      ],
      "metadata": {
        "id": "Xit5a6o2Gifh"
      },
      "execution_count": 6,
      "outputs": []
    },
    {
      "cell_type": "code",
      "source": [
        "df['reviews'][0]"
      ],
      "metadata": {
        "colab": {
          "base_uri": "https://localhost:8080/",
          "height": 200
        },
        "id": "gJyIaGidxItm",
        "outputId": "3b1739f5-feee-45d5-dbf9-aa6ac147438a"
      },
      "execution_count": 7,
      "outputs": [
        {
          "output_type": "execute_result",
          "data": {
            "text/plain": [
              "'노포식당요즘 인기있는곳이래서 왔어요 주꾸미 삼겹 꽃게새우사리추가해서먹었는데요 양념맛이깊이가있어서 볶음밥까지너무맛나네요퐁듀치즈에찍어먹었는데 천상의맛이네요 양도푸짐해서남은것들도 따로포장해서 사장님이챙겨주셨는데요 진짜 맛난거먹이고픈 엄마마음느꼈네용 감사드려요 쭈꾸미가 너무 먹고싶어서 온 신촌 역시 기대를 저버리지 않고 핵존맛 입니다 점심특선으로 먹었는데 가격 착하고 쭈꾸미 좋아하는 우리 여친느님께요 대만족을 하셨습니다 또한 볶음밥 하트로 해주시는데 너무 맛있고 좋아요 술도 싼데 점심이라 패스 진짜 좋아요ㅋㅋ 다음에 또올께요 집근천데 처음가봄 쭈삼 기본셋팅 홍합 콘치즈 계란까지 알차게 맛있어요 쭈꾸미삼겹 먹었는데 무난무난 맛있어요 볶음밥이 별미입니다ㅎ 계란찜두 보들거려서 맛있게 먹렀더니 직원분이 리필해쥬셨어요 처음 생겼을때부터 다녔으니까 아마 15년은 되었나봐요 이렇게 오랫동안 맛집을 유지하는건 역시나 맛이 있어서 그렇겠지요 가게 인테리어도 옛날 감성으로 정감있고 멋있어요 직원분들도 친절하고 여전히 쭈꾸미 맛있어요 국물이 마법 소스 같은데 국물 너무 얼큰하고 매콤하고 계속 끌리는 마성의 맛 요즘은 물가가 올라서 예전에는 날치알을 주셨는데 지금은 마요네즈를 주신다고 날치알도 맛있었지만 쭈꾸미가 매콤하니 마요네즈 소스를 날치알 대신 얹어 먹어도 매운맛이 중화 되어서 괜찮더라구요 반찬같은 경우는 셀프바가 있어서 직원들 안불러도 편하게 리필해서 먹을 수 있어서 그게 더 좋은것 같아요 계속 갈꺼니까 계속 장사해주세요 이번에도 잘 먹고 갑니다 ^^ 쭈꾸미가 탱글탱글하고 양도 많고 구성도 알찼어요 적당히 매콤해서 맵찔이도 맛있게 먹을 수 있었습니다 볶음밥에는 치즈랑 계란을 같이 넣고 볶아주시는데 이게 별미네요 사장님께서도 정말 친절하십니다 쭈꾸미도 크고 싱싱하고 양도 많아요 달걀찜도 무한리필이고 야채 셀프바도 있어서 푸짐하고 맛있어요 가게 컨셉이 60년대 감성이어서 타임머신타고 과거로 간것 같고 재미있어요 12년 이상 신촌맛집으로 생방송에도 방송되었어요 강추합니다 맛 있어요 추가 반찬도 직접 가져다 먹을 수 있어서 좋아요 술안주로 하기에 딱이네요 다음에 또 갈거에요 쭈꾸미 삼겹살 신촌맛집 레트로한 분위기와 잘 어울리는 홍합탕 콘치즈 계란찜 등 깻잎에 싸먹는 매운 쭈꾸미와 마요네즈 소스 마지막 치즈 볶음밥은 양념과 계란과 치즈가 잘 배합된 완벽에 가까운 볶음밥이었다 치즈볶음밥은 꼭 먹어보길'"
            ],
            "application/vnd.google.colaboratory.intrinsic+json": {
              "type": "string"
            }
          },
          "metadata": {},
          "execution_count": 7
        }
      ]
    },
    {
      "cell_type": "code",
      "source": [
        "def clean_text(text):\n",
        "    # 자음/모음만 있는 패턴 제거\n",
        "    text = re.sub(r'[ㄱ-ㅎㅏ-ㅣ]+', '', text)\n",
        "    # 특수기호 제거 (한글, 영어, 숫자를 제외한 모든 문자 제거)\n",
        "    text = re.sub(r'[^가-힣a-zA-Z0-9\\s]', '', text)\n",
        "    # 연속된 공백을 하나의 공백으로\n",
        "    text = re.sub(r'\\s+', ' ', text)\n",
        "    return text.strip()\n",
        "\n",
        "df['reviews'] = df['reviews'].apply(clean_text)"
      ],
      "metadata": {
        "id": "n9dZekF7x1_1"
      },
      "execution_count": 10,
      "outputs": []
    },
    {
      "cell_type": "code",
      "source": [
        "df['reviews'][0]"
      ],
      "metadata": {
        "colab": {
          "base_uri": "https://localhost:8080/",
          "height": 200
        },
        "id": "MwLb50LOyFGf",
        "outputId": "919f7fec-eb38-4b60-f3a5-f21ac82ae267"
      },
      "execution_count": 11,
      "outputs": [
        {
          "output_type": "execute_result",
          "data": {
            "text/plain": [
              "'노포식당요즘 인기있는곳이래서 왔어요 주꾸미 삼겹 꽃게새우사리추가해서먹었는데요 양념맛이깊이가있어서 볶음밥까지너무맛나네요퐁듀치즈에찍어먹었는데 천상의맛이네요 양도푸짐해서남은것들도 따로포장해서 사장님이챙겨주셨는데요 진짜 맛난거먹이고픈 엄마마음느꼈네용 감사드려요 쭈꾸미가 너무 먹고싶어서 온 신촌 역시 기대를 저버리지 않고 핵존맛 입니다 점심특선으로 먹었는데 가격 착하고 쭈꾸미 좋아하는 우리 여친느님께요 대만족을 하셨습니다 또한 볶음밥 하트로 해주시는데 너무 맛있고 좋아요 술도 싼데 점심이라 패스 진짜 좋아요 다음에 또올께요 집근천데 처음가봄 쭈삼 기본셋팅 홍합 콘치즈 계란까지 알차게 맛있어요 쭈꾸미삼겹 먹었는데 무난무난 맛있어요 볶음밥이 별미입니다 계란찜두 보들거려서 맛있게 먹렀더니 직원분이 리필해쥬셨어요 처음 생겼을때부터 다녔으니까 아마 15년은 되었나봐요 이렇게 오랫동안 맛집을 유지하는건 역시나 맛이 있어서 그렇겠지요 가게 인테리어도 옛날 감성으로 정감있고 멋있어요 직원분들도 친절하고 여전히 쭈꾸미 맛있어요 국물이 마법 소스 같은데 국물 너무 얼큰하고 매콤하고 계속 끌리는 마성의 맛 요즘은 물가가 올라서 예전에는 날치알을 주셨는데 지금은 마요네즈를 주신다고 날치알도 맛있었지만 쭈꾸미가 매콤하니 마요네즈 소스를 날치알 대신 얹어 먹어도 매운맛이 중화 되어서 괜찮더라구요 반찬같은 경우는 셀프바가 있어서 직원들 안불러도 편하게 리필해서 먹을 수 있어서 그게 더 좋은것 같아요 계속 갈꺼니까 계속 장사해주세요 이번에도 잘 먹고 갑니다 쭈꾸미가 탱글탱글하고 양도 많고 구성도 알찼어요 적당히 매콤해서 맵찔이도 맛있게 먹을 수 있었습니다 볶음밥에는 치즈랑 계란을 같이 넣고 볶아주시는데 이게 별미네요 사장님께서도 정말 친절하십니다 쭈꾸미도 크고 싱싱하고 양도 많아요 달걀찜도 무한리필이고 야채 셀프바도 있어서 푸짐하고 맛있어요 가게 컨셉이 60년대 감성이어서 타임머신타고 과거로 간것 같고 재미있어요 12년 이상 신촌맛집으로 생방송에도 방송되었어요 강추합니다 맛 있어요 추가 반찬도 직접 가져다 먹을 수 있어서 좋아요 술안주로 하기에 딱이네요 다음에 또 갈거에요 쭈꾸미 삼겹살 신촌맛집 레트로한 분위기와 잘 어울리는 홍합탕 콘치즈 계란찜 등 깻잎에 싸먹는 매운 쭈꾸미와 마요네즈 소스 마지막 치즈 볶음밥은 양념과 계란과 치즈가 잘 배합된 완벽에 가까운 볶음밥이었다 치즈볶음밥은 꼭 먹어보길'"
            ],
            "application/vnd.google.colaboratory.intrinsic+json": {
              "type": "string"
            }
          },
          "metadata": {},
          "execution_count": 11
        }
      ]
    },
    {
      "cell_type": "markdown",
      "source": [
        "tag 지정 위해서 가장 첫번째 리뷰만 가져다가 토큰화 결과 살펴봤습니다!"
      ],
      "metadata": {
        "id": "mhV8KODI5VaL"
      }
    },
    {
      "cell_type": "code",
      "source": [
        "#Okt, Komoran, Hannanum, Kkma, Mecab\n",
        "okt = Okt()\n",
        "komoran = Komoran()\n",
        "hannanum = Hannanum()\n",
        "kkma = Kkma()\n",
        "\n",
        "print(\"Result of Twitter\", okt.morphs(df['reviews'][0], stem=True))\n",
        "print(\"Result of Komoran\", komoran.morphs(df['reviews'][0]))\n",
        "print(\"Result of Hannanum\", hannanum.morphs(df['reviews'][0]))\n",
        "print(\"Result of Kkma\", kkma.morphs(df['reviews'][0]))"
      ],
      "metadata": {
        "colab": {
          "base_uri": "https://localhost:8080/"
        },
        "id": "qlNr6Ose55TO",
        "outputId": "b63cb68c-38ce-4cd3-c96f-3697187d5de7"
      },
      "execution_count": 15,
      "outputs": [
        {
          "output_type": "stream",
          "name": "stdout",
          "text": [
            "Result of Twitter ['노포', '식당', '요즘', '인기', '있다', '곳', '이래서', '오다', '주꾸미', '삼겹', '꽃게', '새우', '사리', '추가', '하다', '먹다', '양념', '맛', '이', '깊다', '볶음밥', '까지', '너무', '맛', '나', '네', '요', '퐁듀', '치즈', '에', '찍다', '먹다', '천', '상의', '맛', '이네', '요', '양도', '푸다', '지다', '서남', '은', '것', '들', '도', '따로', '포장', '하다', '사장', '님', '이', '챙기다', '진짜', '맛', '난', '거', '먹이', '고프다', '엄마', '마음', '느끼다', '네', '용', '감사', '드리다', '쭈꾸미', '가', '너무', '먹다', '온', '신촌', '역시', '기대', '를', '저', '버리다', '않다', '핵존맛', '이다', '점심', '특선', '으로', '먹다', '가격', '착하다', '쭈꾸미', '좋아하다', '우리', '여친', '느님', '께', '요', '대', '만족', '을', '하다', '또한', '볶음밥', '하트', '로', '해주다', '너무', '맛있다', '좋다', '술', '도', '싸다', '점심', '이라', '패스', '진짜', '좋다', '다음', '에', '또', '오다', '집', '근', '천', '데', '처음', '가보다', '쭈삼', '기본', '셋팅', '홍합', '콘치', '즈', '계란', '까지', '알차다', '맛있다', '쭈꾸미', '삼겹', '먹다', '무난', '무난', '맛있다', '볶음밥', '이', '별미', '이다', '계란찜', '두', '보', '들다', '려', '서', '맛있다', '먹렀더', '니', '직원', '분', '이', '리', '피다', '쥬셨', '어', '요', '처음', '생기다', '때', '부터', '다니다', '아마', '15년', '은', '되어다', '보다', '이렇게', '오랫동안', '맛집', '을', '유지', '하다', '역시', '나', '맛', '이', '있다', '그렇다', '가게', '인테리어', '도', '옛날', '감성', '으로', '정감', '있다', '멋있다', '직원', '분들', '도', '친절하다', '여전하다', '쭈꾸미', '맛있다', '국물', '이', '마법', '소스', '같다', '국물', '너무', '얼큰하다', '매콤', '하고', '계속', '끌리다', '마', '성의', '맛', '요즘', '은', '물가', '가', '올라서다', '예전', '에는', '날치', '알', '을', '주다', '지금', '은', '마요네즈', '를', '주다', '날치', '알도', '맛있다', '쭈꾸미', '가', '매콤', '하다', '마요네즈', '소스', '를', '날치', '알', '대신', '얹다', '먹다', '맵다', '맛', '이', '중화', '되어다', '괜찮다', '반찬', '같다', '경우', '는', '셀프', '바', '가', '있다', '직원', '들', '안', '불다', '편하다', '리필', '하다', '먹다', '수', '있다', '그게', '더', '좋다', '것', '같다', '계속', '갈다', '계속', '장사', '해주다', '이번', '에도', '자다', '먹다', '가다', '쭈꾸미', '가', '탱글탱글하다', '양도', '많다', '구성', '도', '알차다', '적당하다', '매콤', '하다', '맵', '찌다', '맛있다', '먹다', '수', '있다', '볶음밥', '에는', '치즈', '랑', '계란', '을', '같이', '넣다', '볶다', '이', '게', '별', '미네', '요', '사장', '님', '께', '서도', '정말', '친절하다', '쭈꾸미', '도', '크다', '싱싱하다', '양도', '많다', '달걀찜', '도', '무한리필', '이고', '야채', '셀프', '바', '도', '있다', '푸다', '짐', '하고', '맛있다', '가게', '컨셉', '이', '60년', '대', '감성', '이어서', '타임머신', '타고', '과거', '로', '가다', '같다', '재미있다', '12년', '이상', '신촌', '맛집', '으로', '생방송', '에도', '방송', '되어다', '강', '추하다', '맛', '있다', '추가', '반찬', '도', '직접', '가다', '먹다', '수', '있다', '좋다', '술안주', '로', '하다', '딱이다', '다음', '에', '또', '갈다', '쭈꾸미', '삼겹살', '신촌', '맛집', '레트로', '한', '분위기', '와', '자다', '어울리다', '홍합', '탕', '콘치', '즈', '계란찜', '등', '깻잎', '에', '싸', '먹다', '맵다', '쭈꾸미', '와', '마요네즈', '소스', '마지막', '치즈', '볶음밥', '은', '양념', '과', '계란', '과', '치즈', '가', '자다', '배합', '되다', '완벽', '에', '가깝다', '볶음밥', '이다', '치즈', '볶음밥', '은', '꼭', '먹다', '보다']\n",
            "Result of Komoran ['노', '포식', '당', '요즘', '인기', '있', '는', '곳', '이렇', '어서', '오', '았', '어요', '주꾸미', '삼', '겹', '꽃게', '새우', '사리', '추가', '하', '아서', '먹', '었', '는데요', '양념', '맛', '이', '깊이', '가', '있', '어서', '볶음밥까지너무맛나네요퐁듀치즈에찍어먹었는데', '천상', '의', '맛', '이', '네요', '양도', '푸짐', '하', '아서', '남', '은', '것', '들', '도', '따로', '포장', '하', '아서', '사장', '님', '이', '챙기', '어', '주', '시', '었', '는데요', '진짜', '맛나', 'ㄴ', '거', '먹이', '이', '고픈', '엄마', '마음', '느끼', '었', '네', '용', '감사', '드리', '어요', '쭈꾸미가', '너무', '먹', '고', '싶', '어서', '오', 'ㄴ', '신촌', '역시', '기대', '를', '저버리', '지', '않', '고', '핵', '존', '맛', '이', 'ㅂ니다', '점심', '특선', '으로', '먹', '었', '는데', '가격', '착하', '고', '쭈꾸미', '좋아하', '는', '우리', '여치', 'ㄴ', '느', '님', '께', '요', '대', '만족', '을', '하', '시', '었', '습니다', '또한', '볶음밥', '하트', '로', '하', '아', '주', '시', '는데', '너무', '맛있', '고', '좋', '아요', '술', '도', '싸', 'ㄴ데', '점심', '이', '라', '패스', '진짜', '좋', '아요', '다음', '에', '또', '올', '께', '요', '집', '근처', 'ㄴ데', '처음', '가', '봄', '쭈삼', '기본셋팅', '홍합', '콘', '치즈', '계란', '까지', '알차', '게', '맛있', '어요', '쭈꾸미삼겹', '먹', '었', '는데', '무난', '무난', '맛있', '어요', '볶음밥', '이', '별미', '이', 'ㅂ니다', '계란찜', '두', '보', '들', '걸', '려', '서', '맛있', '게', '먹렀더니', '직원', '분이', '리필', '해', '쥬', '시', '었', '어요', '처음', '생기', '었', '을', '때', '부터', '다니', '었', '으니까', '아마', '15', '년', '은', '되', '었', '나', '보', '아요', '이렇', '게', '오랫동안', '맛집', '을', '유지', '하', '는', '건', '역시', '나', '맛', '이', '있', '어서', '그렇', '겠', '지요', '가', '게', '인테리어', '도', '옛날', '감성', '으로', '정감', '있', '고', '멋있', '어요', '직원', '분', '들', '도', '친절', '하', '고', '여전히', '쭈꾸미', '맛있', '어요', '국물', '이', '마법', '소스', '같', '은데', '국물', '너무', '얼큰', '하', '고', '매콤', '하고', '계속', '끌리', '는', '마성', '의', '맛', '요즘', '은', '물가', '가', '오르', '아서', '예전', '에', '는', '날치', '알', '을', '주', '시', '었', '는데', '지금', '은', '마요네즈', '를', '주', '시', 'ㄴ다고', '날치', '알도', '맛있', '었', '지만', '쭈꾸미가', '매콤', '하니', '마요네즈', '소스', '를', '날치', '알', '대신', '얹', '어', '먹', '어도', '매운맛', '이', '중화', '되', '어서', '괜찮', '더라구요', '반찬', '같', '은', '경우', '는', '셀프', '바가', '있', '어서', '직원', '들', '안', '부르', '어도', '편하', '게', '리필', '하', '아서', '먹', '을', '수', '있', '어서', '그', '게', '더', '좋', '은', '것', '같', '아요', '계속', '가', 'ㄹ', '꺼', '이', '니까', '계속', '장사', '하', '아', '주', '시', '어요', '이번', '에', '도', '잘', '먹', '고', '가', 'ㅂ니다', '쭈꾸미가', '탱글탱글하고', '양도', '많', '고', '구성', '도', '알', '차', '았', '어요', '적당히', '매콤', '해서', '매', '업', '찌', 'ㄹ', '이도', '맛있', '게', '먹', '을', '수', '있', '었', '습니다', '볶음밥', '에', '는', '치즈', '랑', '계란', '을', '같이', '넣', '고', '볶', '아', '주', '시', '는데', '이', '게', '별미', '네', '요', '사장', '님', '께서', '도', '정말', '친절', '하', '시', 'ㅂ니다', '쭈꾸미도', '크', '고', '싱싱', '하', '고', '양도', '많', '아요', '달걀', '찜', '도', '무한', '리필', '이', '고', '야채', '셀프', '바', '도', '있', '어서', '푸짐', '하', '고', '맛있', '어요', '가', '게', '컨셉', '이', '60년대', '감성', '이', '어서', '타임머신', '타', '고', '과거', '로', '간', '것', '같', '고', '재미있', '어요', '12', '년', '이상', '신촌', '맛집', '으로', '생방송', '에', '도', '방송', '되', '었', '어요', '강', '추하', 'ㅂ니다', '맛', '있', '어요', '추가', '반찬', '도', '직접', '가지', '어다', '먹', '을', '수', '있', '어서', '좋', '아요', '술안주', '로', '하', '기', '에', '딱', '이', '네요', '다음', '에', '또', '가', 'ㄹ', '거', '에', '요', '쭈꾸미', '삼겹살', '신촌', '맛집', '레트로', '한', '분위기', '와', '잘', '어울리', '는', '홍합', '탕', '콘', '치즈', '계란찜', '등', '깻잎', '에', '싸', '아', '먹', '는', '맵', 'ㄴ', '쭈꾸미와', '마요네즈', '소스', '마지막', '치즈', '볶음밥', '은', '양념', '과', '계란', '과', '치즈', '가', '잘', '배합', '되', 'ㄴ', '완벽', '에', '가깝', 'ㄴ', '볶음밥', '이', '었', '다', '치즈', '볶음밥', '은', '꼭', '먹', '어', '보', '기', 'ㄹ']\n",
            "Result of Hannanum ['노포식당요즘', '인기있는곳이래', '서', '오', '아아', '요', '주꾸미', '삼겹', '꽃게새우사리추가해서먹었는데요', '양념맛이깊이가있어서', '볶음밥까지너무맛나네요퐁듀치즈에찍어먹었는데', '천상의맛이네요', '양도푸짐해서남은것들', '도', '따로포장해서', '사장님이챙겨주셨는데요', '진짜', '맛난거먹이고픈', '엄마마음느꼈네용', '감사드리', '어', '요', '쭈꾸미', '가', '너무', '먹', '고', '싶', '어서', '오', 'ㄴ', '신', '촌', '역시', '기대', '를', '저버리', '지', '않', '고', '핵존맛', '일', 'ㅂ니다', '점심특선', '으로', '먹', '었는데', '가격', '착하', '어', '고', '쭈꾸미', '좋', '아', '하', '는', '우리', '여친느님께요', '대만족', '을', '하', '셨습니다', '또한', '볶음밥', '하트', '로', '하', '어', '주', '시ㄴ데', '너무', '맛있', '고', '좋', '아', '요', '술', '도', '싸', 'ㄴ데', '점심', '이', '라', '패스', '진짜', '좋', '아', '요', '다음', '에', '뜨', '어', '오', 'ㄹ께', '요', '집근천데', '처음가봄', '쭈삼', '기본셋팅', '홍합', '콘치즈', '계란', '까지', '알차', '게', '맛있', '어', '요', '쭈꾸미삼겹', '먹', '었는데', '무난무난', '맛있', '어', '요', '볶음밥', '이', '별미', '이', 'ㅂ니다', '계란찜두', '보들거려', '서', '맛있', '게', '먹렀더니', '직원분', '이', '리필해쥬', '이', '셨어', '요', '처음', '생기', '었을', '때', '부터', '다니', '었으니까', '아마', '15년', '은', '되었나봐요', '이렇', '게', '오랫동안', '맛집', '을', '유지하는건', '역시', '나', '맛', '이', '있', '어서', '그렇', '겠지', '요', '가', '게', '인테리어', '도', '옛날', '감성', '으로', '정감', '있', '고', '멋있', '어', '요', '직원분', '들', '도', '친절', '하고', '여전히', '쭈꾸미', '맛있', '어', '요', '국물', '이', '마법', '소스', '같', '은', '데', '국물', '너무', '얼큰하', '이', '고', '매콤하', '이', '고', '계속', '끌리', '는', '마성', '의', '맛', '요즘', '은', '물가', '가', '오르', '아', '예전', '에는', '날치알', '을', '주', '셨는데', '지금', '은', '마요네즈', '를', '주', '시ㄴ다', '고', '날치알', '도', '맛있', '었지만', '쭈꾸미', '가', '매콤하', '이', '니', '마요네즈', '소스', '를', '날치알', '대', '이', '시ㄴ', '얹', '어', '먹', '어도', '매운맛', '이', '중화', '되', '어서', '괜찮', '더라구', '요', '반찬', '같', '은', '경우', '는', '셀프바', '가', '있', '어서', '직원들', '안불러', '도', '편하', '게', '리필해', '서', '먹', '을', '수', '있', '어서', '그', '이', '게', '더', '좋', '은', '것', '같', '아', '요', '계속', '갈꺼', '이', '니까', '계속', '장사', '하', '어', '주', '세', '요', '이번', '에도', '잘', '먹', '고', '가', 'ㅂ니다', '쭈꾸미', '가', '탱글탱글하', '이', '고', '양', '도', '많', '고', '구성', '도', '알차', '아아', '요', '적당히', '매콤해서', '맵찔이', '도', '맛있', '게', '먹', '을', '수', '있', '었습니다', '볶음밥', '에는', '치즈', '랑', '계란', '을', '같', '이', '넣', '고', '볶', '아', '주', '시ㄴ데', '이', '이', '게', '별미', '이', '네', '요', '사장님', '께서도', '정말', '친절', '하', '시ㅂ니다', '쭈꾸미', '도', '크', '고', '싱싱', '하고', '양', '도', '많', '아', '요', '달걀찜', '도', '무한리필', '이', '고', '야채', '셀프바', '도', '있', '어서', '푸짐', '하고', '맛있', '어', '요', '가', '게', '컨셉', '이', '60년대', '감성', '이', '어서', '타임머신타', '이', '고', '과거', '로', '가', 'ㄴ', '것', '같', '고', '재미있', '어', '요', '12년', '이상', '신촌맛집', '으로', '생방송', '에도', '방송', '되', '었어', '요', '강추합니다', '맛', '있', '어', '요', '추', '가', '반찬', '도', '직접', '가', '아', '지', '어다', '먹', '을', '수', '있', '어서', '좋', '아', '요', '술안주', '로', '하', '기', '에', '딱이네요', '다음', '에', '또', '갈거에요', '쭈꾸미', '삼겹살', '신촌맛집', '레트로한', '분위기', '와', '잘', '어울리', '는', '홍합탕', '콘치즈', '계란찜', '등', '깻잎', '에', '싸먹', '는', '맵', '은', '쭈꾸미', '와', '마요네즈', '소스', '마지막', '치즈', '볶음밥', '은', '양념', '과', '계란', '과', '치즈', '가', '잘', '배합', '되', 'ㄴ', '완벽', '에', '가깝', '은', '볶음밥', '이', '었다', '치즈볶음밥', '은', '꼭', '먹어보길']\n",
            "Result of Kkma ['노포', '식당', '요즘', '인기', '있', '는', '곳', '이래', '서', '오', '았', '어요', '주꾸미', '삼', '겹', '꽃게', '새우', '사리', '추가', '하', '어서', '먹', '었', '는데요', '양념', '맛', '이', '깊이', '가', '있', '어서', '볶음밥', '까지', '너무', '맛나', '네요', '퐁듀', '치즈', '에', '찍', '어', '먹', '었', '는데', '천상', '의', '맛', '이', '네요', '양', '도', '푸짐', '하', '어서', '남', '은', '것', '드', 'ㄹ', '도', '따로', '포장', '하', '어서', '사장님', '이', '챙겨주', '시', '었', '는데요', '진짜', '맛나', 'ㄴ', '거', '먹이', '고프', 'ㄴ', '엄마', '마음', '느끼', '었', '네요', '감사', '드', '려요', '쭈꾸미', '가', '너무', '먹', '고', '싶', '어서', '오', 'ㄴ', '신', '촌', '역시', '기대', '를', '저버리', '지', '않', '고', '핵', '존', '맛', '이', 'ㅂ니다', '점심', '특선', '으로', '먹', '었', '는데', '가격', '착하', '고', '쭈꾸미', '좋아하', '는', '우리', '여', '치', 'ㄴ', '느님', '께', '요', '대만족', '을', '하', '시', '었', '습니다', '또', '하', 'ㄴ', '볶음밥', '하트', '로', '하', '어', '주', '시', '는데', '너무', '맛있', '고', '좋', '아요', '술', '도', '싸', 'ㄴ데', '점심', '이', '라', '패스', '진짜', '좋', '아요', '다음', '에', '또', '오', 'ㄹ게요', '집', '근', '천', '데', '처음', '가', '아', '봄', '쭈삼', '기본', '셋', '팅', '홍합', '콘', '치즈', '계란', '까지', '알차', '게', '맛있', '어요', '쭈꾸미', '삼', '겹', '먹', '었', '는데', '무난', '무', '난', '맛있', '어요', '볶음밥', '이', '별미', '이', 'ㅂ니다', '계란찜', '두', '보', '들', '거려', '서', '맛있', '게', '먹렀더', '니', '직원', '분', '이', '리필해쥬셨어', '요', '처음', '생기', '었', '을', '때', '부터', '다니', '었', '으니까', '아마', '15', '년', '은', '되', '었', '나', '보', '아요', '이렇게', '오랫동안', '맛', '집', '을', '유지', '하', '는', '건', '역시나', '맛', '이', '있', '어서', '그렇', '겠', '지요', '가게', '인테리어', '도', '옛날', '감성', '으로', '정감', '있', '고', '멋있', '어요', '직원', '분', '들', '도', '친절', '하', '고', '여전히', '쭈꾸미', '맛있', '어요', '국', '물이', '마법', '소스', '같', '은데', '국물', '너무', '얼큰하', '고', '매콤', '하', '고', '계속', '끌리', '는', '마성', '의', '맛', '요즘', '은', '물가', '가', '올르', '아서', '예전', '에', '는', '날치', '알', '을', '주', '시', '었', '는데', '지금', '은', '마요네즈', '를', '주', '시', 'ㄴ다고', '날치', '알도', '맛있', '었', '지만', '쭈꾸미', '가', '매콤', '하', '니', '마요네즈', '소스', '를', '날치', '알', '대신', '얹', '어', '먹', '어도', '매운맛', '이', '중화', '되', '어서', '괜찮', '더', '라구요', '반찬', '같', '은', '경우', '는', '셀프', '바', '가', '있', '어서', '직원', '들', '안', '불르', '어도', '편하', '게', '리필', '하', '어서', '먹', '을', '수', '있', '어서', '그', '게', '더', '좋', '은', '것', '같', '아요', '계속', '갈', 'ㄹ', '꺼', '니', '까', '아', '계속', '장사', '하', '어', '주세', '요', '이번', '에', '도', '잘', '먹', '고', '갈', 'ㅂ니다', '쭈꾸미', '가', '탱글탱글', '하', '고', '양도', '많', '고', '구성', '도', '알차', '었', '어요', '적당히', '매콤', '하', '어서', '맵찔이', '도', '맛있', '게', '먹', '을', '수', '있', '었', '습니다', '볶음밥', '에', '는', '치즈', '랑', '계란', '을', '같이', '넣', '고', '볶', '아', '주', '시', '는데', '이것', '이', '별미', '네', '요', '사장님', '께', '서', '어도', '정말', '친절', '하', '시', 'ㅂ니다', '쭈꾸미', '도', '크', '고', '싱싱', '하', '고', '양도', '많', '아요', '달걀', '찜', '도', '무한', '리필', '이', '고', '야채', '셀프', '바', '도', '있', '어서', '푸짐', '하', '고', '맛있', '어요', '가', '게', '컨셉', '이', '60', '년대', '감성', '이', '어서', '타임머신', '타', '고', '과거', '로', '가', 'ㄴ', '것', '같', '고', '재미있', '어요', '12', '년', '이상', '신', '촌', '맛', '집', '으로', '생방송', '에', '도', '방송', '되', '었', '어요', '강추', '하', 'ㅂ니다', '맛', '있', '어요', '추가', '반찬', '도', '직접', '가지', '어', '다', '먹', '을', '수', '있', '어서', '좋', '아요', '술안주', '로', '하', '기에', '딱이', '네', '요', '다음', '에', '또', '갈', 'ㄹ', '거', '에', '요', '쭈꾸미', '삼겹살', '신', '촌', '맛', '집', '레트', '로', '하', 'ㄴ', '분위기', '와', '잘', '어울리', '는', '홍합탕', '콘', '치즈', '계란찜', '등', '깻잎', '에', '싸', '아', '먹', '는', '맵', 'ㄴ', '쭈꾸미', '와', '마요네즈', '소스', '마지막', '치즈', '볶음밥', '은', '양념', '과', '계란', '과', '치즈', '가', '잘', '배합', '되', 'ㄴ', '완벽', '에', '가깝', 'ㄴ', '볶음밥', '이', '었', '다', '치즈', '볶음밥', '은', '꼭', '먹', '어', '보', '기', '를']\n"
          ]
        }
      ]
    },
    {
      "cell_type": "markdown",
      "source": [
        "결과적으로 Okt가 가장 잘된 것 같아서 Okt 사용  \n",
        "\n",
        "Hannanum의 경우 띄어쓰기가 없으면 잘 작동하지 않는 것으로 보임  \n",
        "Komoran도 위와 비슷.."
      ],
      "metadata": {
        "id": "PvkVBkvW6xs2"
      }
    },
    {
      "cell_type": "code",
      "source": [
        "from collections import Counter\n",
        "import operator\n",
        "\n",
        "all_reviews = ' '.join(df['reviews'])\n",
        "\n",
        "tokens = okt.morphs(all_reviews, stem = True)\n",
        "\n",
        "stopword_counts = Counter(token for token in tokens if token in stopwords)\n",
        "print(stopword_counts)"
      ],
      "metadata": {
        "colab": {
          "base_uri": "https://localhost:8080/"
        },
        "id": "V1ITXGCz1QQ1",
        "outputId": "bed574b1-de67-4097-84b8-6ab910eb972d"
      },
      "execution_count": 17,
      "outputs": [
        {
          "output_type": "stream",
          "name": "stdout",
          "text": [
            "Counter({'하다': 5623, '이': 5283, '에': 3970, '가': 3082, '있다': 2587, '이다': 1502, '을': 1223, '같다': 1208, '로': 1160, '으로': 1120, '들': 1104, '를': 1032, '의': 921, '에서': 842, '것': 827, '않다': 756, '과': 701, '또': 664, '되다': 645, '때': 635, '와': 589, '시키다': 550, '까지': 529, '나': 472, '여기': 433, '다음': 424, '다른': 404, '제': 398, '저': 371, '하나': 345, '같이': 333, '시간': 326, '그리고': 316, '그': 298, '좀': 289, '되어다': 278, '부터': 229, '조금': 212, '바로': 207, '딱': 204, '하': 188, '함께': 162, '오': 158, '모두': 156, '구': 151, '아': 145, '일': 143, '네': 142, '이렇다': 139, '혼자': 128, '이번': 112, '등': 109, '아이': 109, '무엇': 105, '여': 100, '왜': 91, '일단': 90, '놀라다': 88, '저희': 86, '모': 82, '약간': 81, '그래도': 79, '이상': 78, '거의': 78, '야': 72, '둘': 68, '다만': 66, '어떻다': 64, '몇': 62, '에게': 61, '지만': 59, '너': 58, '사': 56, '하지만': 56, '매번': 56, '매일': 55, '어': 53, '전부': 52, '이지만': 47, '언제': 45, '이어서': 42, '그래서': 41, '육': 40, '타다': 39, '동안': 38, '매': 37, '심지어': 33, '각': 33, '그런데': 33, '훨씬': 32, '어디': 32, '자': 32, '예': 31, '우리': 28, '물론': 27, '이런': 26, '우선': 24, '어느': 24, '누구': 21, '영': 21, '비슷하다': 20, '등등': 20, '잠시': 20, '그때': 20, '년': 20, '오르다': 20, '어제': 19, '또한': 18, '얼마': 17, '게다가': 16, '무슨': 15, '오히려': 15, '곧': 15, '삼': 14, '한데': 14, '마치': 13, '혹시': 13, '휴': 13, '셋': 12, '혹은': 11, '얼마나': 11, '각자': 11, '각종': 11, '및': 10, '즉시': 10, '각각': 10, '다소': 9, '결국': 9, '여러분': 9, '자마자': 9, '그러나': 9, '칠': 7, '겨우': 7, '그저': 7, '자기': 7, '비록': 6, '다섯': 6, '저기': 6, '단지': 6, '잠깐': 6, '로부터': 5, '마저도': 5, '조차': 5, '뿐이다': 5, '언젠가': 5, '당장': 5, '마저': 5, '자신': 5, '한마디': 5, '툭': 4, '차라리': 4, '어찌': 4, '마음대로': 3, '팔': 3, '기타': 3, '으로써': 3, '응': 3, '시각': 3, '앗': 3, '게우다': 3, '즉': 3, '과연': 3, '이래': 3, '까지도': 3, '만약': 3, '흐흐': 3, '흥': 3, '어이': 3, '로써': 3, '따라서': 2, '콸콸': 2, '으로서': 2, '조차도': 2, '오직': 2, '뚝뚝': 2, '겸사겸사': 2, '반드시': 2, '하하': 2, '엉엉': 2, '오호': 2, '팍': 1, '왜냐하면': 1, '오로지': 1, '아야': 1, '고로': 1, '아하': 1, '당신': 1, '그러면': 1, '와아': 1, '쾅쾅': 1, '붕붕': 1, '헉': 1, '여부': 1, '탕탕': 1, '무렵': 1, '더욱더': 1, '어떤': 1, '하마터면': 1, '와르르': 1, '전후': 1, '설사': 1, '일때': 1})\n"
          ]
        }
      ]
    },
    {
      "cell_type": "code",
      "source": [
        "print(len(stopwords))\n",
        "print(list(stopword_counts.most_common())[:100])"
      ],
      "metadata": {
        "colab": {
          "base_uri": "https://localhost:8080/"
        },
        "id": "TGQT_ddW3bwR",
        "outputId": "22cf0c44-c886-47d1-f2cb-f5885be1b5d9"
      },
      "execution_count": 27,
      "outputs": [
        {
          "output_type": "stream",
          "name": "stdout",
          "text": [
            "684\n",
            "[('하다', 5623), ('이', 5283), ('에', 3970), ('가', 3082), ('있다', 2587), ('이다', 1502), ('을', 1223), ('같다', 1208), ('로', 1160), ('으로', 1120), ('들', 1104), ('를', 1032), ('의', 921), ('에서', 842), ('것', 827), ('않다', 756), ('과', 701), ('또', 664), ('되다', 645), ('때', 635), ('와', 589), ('시키다', 550), ('까지', 529), ('나', 472), ('여기', 433), ('다음', 424), ('다른', 404), ('제', 398), ('저', 371), ('하나', 345), ('같이', 333), ('시간', 326), ('그리고', 316), ('그', 298), ('좀', 289), ('되어다', 278), ('부터', 229), ('조금', 212), ('바로', 207), ('딱', 204), ('하', 188), ('함께', 162), ('오', 158), ('모두', 156), ('구', 151), ('아', 145), ('일', 143), ('네', 142), ('이렇다', 139), ('혼자', 128), ('이번', 112), ('등', 109), ('아이', 109), ('무엇', 105), ('여', 100), ('왜', 91), ('일단', 90), ('놀라다', 88), ('저희', 86), ('모', 82), ('약간', 81), ('그래도', 79), ('이상', 78), ('거의', 78), ('야', 72), ('둘', 68), ('다만', 66), ('어떻다', 64), ('몇', 62), ('에게', 61), ('지만', 59), ('너', 58), ('사', 56), ('하지만', 56), ('매번', 56), ('매일', 55), ('어', 53), ('전부', 52), ('이지만', 47), ('언제', 45), ('이어서', 42), ('그래서', 41), ('육', 40), ('타다', 39), ('동안', 38), ('매', 37), ('심지어', 33), ('각', 33), ('그런데', 33), ('훨씬', 32), ('어디', 32), ('자', 32), ('예', 31), ('우리', 28), ('물론', 27), ('이런', 26), ('우선', 24), ('어느', 24), ('누구', 21), ('영', 21)]\n"
          ]
        }
      ]
    },
    {
      "cell_type": "code",
      "source": [
        "list(stopword_counts.most_common())[:100]\n",
        "\n",
        "new_stopwords = []\n",
        "for tup in list(stopword_counts.most_common())[:100]:\n",
        "  new_stopwords.append(tup[0])\n",
        "\n",
        "new_stopwords"
      ],
      "metadata": {
        "colab": {
          "base_uri": "https://localhost:8080/"
        },
        "collapsed": true,
        "id": "SzhFlyqX50GU",
        "outputId": "f8b96b78-7e30-4543-850f-ca9fab33c19a"
      },
      "execution_count": 30,
      "outputs": [
        {
          "output_type": "execute_result",
          "data": {
            "text/plain": [
              "['하다',\n",
              " '이',\n",
              " '에',\n",
              " '가',\n",
              " '있다',\n",
              " '이다',\n",
              " '을',\n",
              " '같다',\n",
              " '로',\n",
              " '으로',\n",
              " '들',\n",
              " '를',\n",
              " '의',\n",
              " '에서',\n",
              " '것',\n",
              " '않다',\n",
              " '과',\n",
              " '또',\n",
              " '되다',\n",
              " '때',\n",
              " '와',\n",
              " '시키다',\n",
              " '까지',\n",
              " '나',\n",
              " '여기',\n",
              " '다음',\n",
              " '다른',\n",
              " '제',\n",
              " '저',\n",
              " '하나',\n",
              " '같이',\n",
              " '시간',\n",
              " '그리고',\n",
              " '그',\n",
              " '좀',\n",
              " '되어다',\n",
              " '부터',\n",
              " '조금',\n",
              " '바로',\n",
              " '딱',\n",
              " '하',\n",
              " '함께',\n",
              " '오',\n",
              " '모두',\n",
              " '구',\n",
              " '아',\n",
              " '일',\n",
              " '네',\n",
              " '이렇다',\n",
              " '혼자',\n",
              " '이번',\n",
              " '등',\n",
              " '아이',\n",
              " '무엇',\n",
              " '여',\n",
              " '왜',\n",
              " '일단',\n",
              " '놀라다',\n",
              " '저희',\n",
              " '모',\n",
              " '약간',\n",
              " '그래도',\n",
              " '이상',\n",
              " '거의',\n",
              " '야',\n",
              " '둘',\n",
              " '다만',\n",
              " '어떻다',\n",
              " '몇',\n",
              " '에게',\n",
              " '지만',\n",
              " '너',\n",
              " '사',\n",
              " '하지만',\n",
              " '매번',\n",
              " '매일',\n",
              " '어',\n",
              " '전부',\n",
              " '이지만',\n",
              " '언제',\n",
              " '이어서',\n",
              " '그래서',\n",
              " '육',\n",
              " '타다',\n",
              " '동안',\n",
              " '매',\n",
              " '심지어',\n",
              " '각',\n",
              " '그런데',\n",
              " '훨씬',\n",
              " '어디',\n",
              " '자',\n",
              " '예',\n",
              " '우리',\n",
              " '물론',\n",
              " '이런',\n",
              " '우선',\n",
              " '어느',\n",
              " '누구',\n",
              " '영']"
            ]
          },
          "metadata": {},
          "execution_count": 30
        }
      ]
    },
    {
      "cell_type": "code",
      "source": [
        "print(len(new_stopwords))"
      ],
      "metadata": {
        "colab": {
          "base_uri": "https://localhost:8080/"
        },
        "id": "_wcQO-wN6kQX",
        "outputId": "0928d239-b846-456f-bb96-4df9d6e3bc6c"
      },
      "execution_count": 32,
      "outputs": [
        {
          "output_type": "stream",
          "name": "stdout",
          "text": [
            "100\n"
          ]
        }
      ]
    },
    {
      "cell_type": "markdown",
      "source": [
        "기존 불용어 리스트에서 가장 자주 나온 단어 100개를 기준으로 만들었습니다."
      ],
      "metadata": {
        "id": "hIr1UeNLA1ix"
      }
    },
    {
      "cell_type": "code",
      "source": [
        "#형태소 뽑기 + 불용어 제거 함수\n",
        "def find_morphs(df):\n",
        "  #(Okt 이용)\n",
        "  okt = Okt()\n",
        "  X = []\n",
        "  for sentence in tqdm(df):\n",
        "    tokenized_sentence = okt.morphs(sentence, stem = True)\n",
        "    #stopword 제거\n",
        "    stopwords_removed_sentence = [word for word in tokenized_sentence if not word in new_stopwords]\n",
        "    X.append(stopwords_removed_sentence)\n",
        "\n",
        "  return X"
      ],
      "metadata": {
        "id": "QVPukZfJX4ot"
      },
      "execution_count": 36,
      "outputs": []
    },
    {
      "cell_type": "code",
      "source": [
        "df['processed_review'] = find_morphs(df['reviews'])"
      ],
      "metadata": {
        "colab": {
          "base_uri": "https://localhost:8080/"
        },
        "id": "4UZghwCgdz3N",
        "outputId": "07ca4ce0-c50d-4274-9ba3-a3e68c125945"
      },
      "execution_count": 37,
      "outputs": [
        {
          "output_type": "stream",
          "name": "stderr",
          "text": [
            "100%|██████████| 670/670 [02:17<00:00,  4.88it/s]\n"
          ]
        }
      ]
    },
    {
      "cell_type": "markdown",
      "source": [
        "텍스트가 그렇게 큰 편이 아니라서 1번만 나온 단어들만 제거했습니다!"
      ],
      "metadata": {
        "id": "2yilLOmHexJX"
      }
    },
    {
      "cell_type": "code",
      "source": [
        "for sentence in df.iloc[0:5, 1]:\n",
        "  print(sentence)"
      ],
      "metadata": {
        "id": "2J5xScAbzKZU"
      },
      "execution_count": null,
      "outputs": []
    },
    {
      "cell_type": "code",
      "source": [
        "df['processed_review'][0]"
      ],
      "metadata": {
        "colab": {
          "base_uri": "https://localhost:8080/"
        },
        "id": "2_hba4ewsrXL",
        "outputId": "240a8f57-3e05-418d-eeac-01faa6c23be6",
        "collapsed": true
      },
      "execution_count": null,
      "outputs": [
        {
          "output_type": "execute_result",
          "data": {
            "text/plain": [
              "['노포',\n",
              " '식당',\n",
              " '요즘',\n",
              " '인기',\n",
              " '있는',\n",
              " '곳',\n",
              " '이래서',\n",
              " '왔어요',\n",
              " '주꾸미',\n",
              " '삼겹',\n",
              " '꽃게',\n",
              " '새우',\n",
              " '사리',\n",
              " '추가',\n",
              " '해서',\n",
              " '먹었는데요',\n",
              " '양념',\n",
              " '맛',\n",
              " '깊이가있어서',\n",
              " '볶음밥',\n",
              " '너무',\n",
              " '맛',\n",
              " '요',\n",
              " '퐁듀',\n",
              " '치즈',\n",
              " '찍어',\n",
              " '먹었는데',\n",
              " '천',\n",
              " '상의',\n",
              " '맛',\n",
              " '이네',\n",
              " '요',\n",
              " '양도',\n",
              " '푸',\n",
              " '짐해',\n",
              " '서남',\n",
              " '은',\n",
              " '도',\n",
              " '따로',\n",
              " '포장',\n",
              " '해서',\n",
              " '사장',\n",
              " '님',\n",
              " '챙겨주셨는데요',\n",
              " '진짜',\n",
              " '맛',\n",
              " '난',\n",
              " '거',\n",
              " '먹이',\n",
              " '고픈',\n",
              " '엄마',\n",
              " '마음',\n",
              " '느꼈',\n",
              " '용',\n",
              " '감사',\n",
              " '드려요',\n",
              " '쭈꾸미',\n",
              " '너무',\n",
              " '먹고싶어서',\n",
              " '온',\n",
              " '신촌',\n",
              " '역시',\n",
              " '기대',\n",
              " '버리지',\n",
              " '않고',\n",
              " '핵존맛',\n",
              " '입니다',\n",
              " '점심',\n",
              " '특선',\n",
              " '먹었는데',\n",
              " '가격',\n",
              " '착하고',\n",
              " '쭈꾸미',\n",
              " '좋아하는',\n",
              " '여친',\n",
              " '느님',\n",
              " '께',\n",
              " '요',\n",
              " '대',\n",
              " '만족',\n",
              " '하셨습니다',\n",
              " '볶음밥',\n",
              " '하트',\n",
              " '해주시는데',\n",
              " '너무',\n",
              " '맛있고',\n",
              " '좋아요',\n",
              " '술',\n",
              " '도',\n",
              " '싼데',\n",
              " '점심',\n",
              " '이라',\n",
              " '패스',\n",
              " '진짜',\n",
              " '좋아요',\n",
              " 'ㅋㅋ',\n",
              " '올께요',\n",
              " '집',\n",
              " '근',\n",
              " '천',\n",
              " '데',\n",
              " '처음',\n",
              " '가봄',\n",
              " '쭈삼',\n",
              " '기본',\n",
              " '셋팅',\n",
              " '홍합',\n",
              " '콘치',\n",
              " '즈',\n",
              " '계란',\n",
              " '알차게',\n",
              " '맛있어요',\n",
              " '쭈꾸미',\n",
              " '삼겹',\n",
              " '먹었는데',\n",
              " '무난',\n",
              " '무난',\n",
              " '맛있어요',\n",
              " '볶음밥',\n",
              " '별미',\n",
              " '입니다',\n",
              " 'ㅎ',\n",
              " '계란찜',\n",
              " '두',\n",
              " '보',\n",
              " '들거',\n",
              " '려',\n",
              " '서',\n",
              " '맛있게',\n",
              " '먹렀더',\n",
              " '니',\n",
              " '직원',\n",
              " '분',\n",
              " '리',\n",
              " '필해',\n",
              " '쥬셨',\n",
              " '요',\n",
              " '처음',\n",
              " '생겼을',\n",
              " '다녔으니까',\n",
              " '아마',\n",
              " '15년',\n",
              " '은',\n",
              " '되었나',\n",
              " '봐요',\n",
              " '이렇게',\n",
              " '오랫동안',\n",
              " '맛집',\n",
              " '유지',\n",
              " '하는건',\n",
              " '역시',\n",
              " '맛',\n",
              " '있어서',\n",
              " '그렇겠지요',\n",
              " '가게',\n",
              " '인테리어',\n",
              " '도',\n",
              " '옛날',\n",
              " '감성',\n",
              " '정감',\n",
              " '있고',\n",
              " '멋있어요',\n",
              " '직원',\n",
              " '분들',\n",
              " '도',\n",
              " '친절하고',\n",
              " '쭈꾸미',\n",
              " '맛있어요',\n",
              " '국물',\n",
              " '마법',\n",
              " '소스',\n",
              " '같은데',\n",
              " '국물',\n",
              " '너무',\n",
              " '얼큰하고',\n",
              " '매콤',\n",
              " '하고',\n",
              " '계속',\n",
              " '끌리는',\n",
              " '마',\n",
              " '성의',\n",
              " '맛',\n",
              " '요즘',\n",
              " '은',\n",
              " '물가',\n",
              " '올라서',\n",
              " '예전',\n",
              " '에는',\n",
              " '날치',\n",
              " '알',\n",
              " '주셨는데',\n",
              " '지금',\n",
              " '은',\n",
              " '마요네즈',\n",
              " '주신다고',\n",
              " '날치',\n",
              " '알도',\n",
              " '맛있었지만',\n",
              " '쭈꾸미',\n",
              " '매콤',\n",
              " '하니',\n",
              " '마요네즈',\n",
              " '소스',\n",
              " '날치',\n",
              " '알',\n",
              " '대신',\n",
              " '얹어',\n",
              " '먹어도',\n",
              " '매운',\n",
              " '맛',\n",
              " '중화',\n",
              " '되어서',\n",
              " '괜찮더라구요',\n",
              " '반찬',\n",
              " '같은',\n",
              " '경우',\n",
              " '는',\n",
              " '셀프',\n",
              " '바',\n",
              " '있어서',\n",
              " '직원',\n",
              " '안',\n",
              " '불러도',\n",
              " '편하게',\n",
              " '리필',\n",
              " '해서',\n",
              " '먹을',\n",
              " '수',\n",
              " '있어서',\n",
              " '그게',\n",
              " '더',\n",
              " '좋은',\n",
              " '같아요',\n",
              " '계속',\n",
              " '갈꺼니까',\n",
              " '계속',\n",
              " '장사',\n",
              " '해주세요',\n",
              " '에도',\n",
              " '잘',\n",
              " '먹고',\n",
              " '갑니다',\n",
              " '^^',\n",
              " '쭈꾸미',\n",
              " '탱글탱글하고',\n",
              " '양도',\n",
              " '많고',\n",
              " '구성',\n",
              " '도',\n",
              " '알찼어요',\n",
              " '적당히',\n",
              " '매콤',\n",
              " '해서',\n",
              " '맵',\n",
              " '찔이도',\n",
              " '맛있게',\n",
              " '먹을',\n",
              " '수',\n",
              " '있었습니다',\n",
              " '볶음밥',\n",
              " '에는',\n",
              " '치즈',\n",
              " '랑',\n",
              " '계란',\n",
              " '넣고',\n",
              " '볶아주시는데',\n",
              " '게',\n",
              " '별',\n",
              " '미네',\n",
              " '요',\n",
              " '사장',\n",
              " '님',\n",
              " '께',\n",
              " '서도',\n",
              " '정말',\n",
              " '친절하십니다',\n",
              " '쭈꾸미',\n",
              " '도',\n",
              " '크고',\n",
              " '싱싱하고',\n",
              " '양도',\n",
              " '많아요',\n",
              " '달걀찜',\n",
              " '도',\n",
              " '무한리필',\n",
              " '이고',\n",
              " '야채',\n",
              " '셀프',\n",
              " '바',\n",
              " '도',\n",
              " '있어서',\n",
              " '푸',\n",
              " '짐',\n",
              " '하고',\n",
              " '맛있어요',\n",
              " '가게',\n",
              " '컨셉',\n",
              " '60년',\n",
              " '대',\n",
              " '감성',\n",
              " '타임머신',\n",
              " '타고',\n",
              " '과거',\n",
              " '간것',\n",
              " '같고',\n",
              " '재미있어요',\n",
              " '12년',\n",
              " '신촌',\n",
              " '맛집',\n",
              " '생방송',\n",
              " '에도',\n",
              " '방송',\n",
              " '되었어요',\n",
              " '강',\n",
              " '추합니다',\n",
              " '맛',\n",
              " '있어요',\n",
              " '추가',\n",
              " '반찬',\n",
              " '도',\n",
              " '직접',\n",
              " '가져다',\n",
              " '먹을',\n",
              " '수',\n",
              " '있어서',\n",
              " '좋아요',\n",
              " '술안주',\n",
              " '딱이네요',\n",
              " '갈거에요',\n",
              " '쭈꾸미',\n",
              " '삼겹살',\n",
              " '신촌',\n",
              " '맛집',\n",
              " '레트로',\n",
              " '한',\n",
              " '분위기',\n",
              " '잘',\n",
              " '어울리는',\n",
              " '홍합',\n",
              " '탕',\n",
              " '콘치',\n",
              " '즈',\n",
              " '계란찜',\n",
              " '깻잎',\n",
              " '싸',\n",
              " '먹는',\n",
              " '매운',\n",
              " '쭈꾸미',\n",
              " '마요네즈',\n",
              " '소스',\n",
              " '마지막',\n",
              " '치즈',\n",
              " '볶음밥',\n",
              " '은',\n",
              " '양념',\n",
              " '계란',\n",
              " '치즈',\n",
              " '잘',\n",
              " '배합',\n",
              " '된',\n",
              " '완벽',\n",
              " '가까운',\n",
              " '볶음밥',\n",
              " '치즈',\n",
              " '볶음밥',\n",
              " '은',\n",
              " '꼭',\n",
              " '먹어',\n",
              " '보길']"
            ]
          },
          "metadata": {},
          "execution_count": 24
        }
      ]
    },
    {
      "cell_type": "markdown",
      "source": [
        "# Tokenizer 적용"
      ],
      "metadata": {
        "id": "hL8gmmGCAen3"
      }
    },
    {
      "cell_type": "code",
      "source": [
        "tokenizer = Tokenizer()\n",
        "tokenizer.fit_on_texts(df['processed_review'])"
      ],
      "metadata": {
        "id": "xMiJ3piTeot4"
      },
      "execution_count": 38,
      "outputs": []
    },
    {
      "cell_type": "code",
      "source": [
        "threshold = 2\n",
        "total_cnt = len(tokenizer.word_index) # 단어의 수\n",
        "rare_cnt = 0 # 등장 빈도수가 threshold보다 작은 단어의 개수를 카운트\n",
        "total_freq = 0 # 훈련 데이터의 전체 단어 빈도수 총 합\n",
        "rare_freq = 0 # 등장 빈도수가 threshold보다 작은 단어의 등장 빈도수의 총 합\n",
        "\n",
        "# 단어와 빈도수의 쌍(pair)을 key와 value로 받는다.\n",
        "for key, value in tokenizer.word_counts.items():\n",
        "    total_freq = total_freq + value\n",
        "\n",
        "    # 단어의 등장 빈도수가 threshold보다 작으면\n",
        "    if(value < threshold):\n",
        "        rare_cnt = rare_cnt + 1\n",
        "        rare_freq = rare_freq + value\n",
        "\n",
        "print('단어 집합(vocabulary)의 크기 :',total_cnt)\n",
        "print('등장 빈도가 %s번 이하인 희귀 단어의 수: %s'%(threshold - 1, rare_cnt))\n",
        "print(\"단어 집합에서 희귀 단어의 비율:\", (rare_cnt / total_cnt)*100)\n",
        "print(\"전체 등장 빈도에서 희귀 단어 등장 빈도 비율:\", (rare_freq / total_freq)*100)"
      ],
      "metadata": {
        "id": "RgjIsn0Ueh2F",
        "colab": {
          "base_uri": "https://localhost:8080/"
        },
        "outputId": "6f3fc091-eff6-4fb5-94ee-1d5e01841c16"
      },
      "execution_count": 39,
      "outputs": [
        {
          "output_type": "stream",
          "name": "stdout",
          "text": [
            "단어 집합(vocabulary)의 크기 : 10884\n",
            "등장 빈도가 1번 이하인 희귀 단어의 수: 4541\n",
            "단어 집합에서 희귀 단어의 비율: 41.721793458287394\n",
            "전체 등장 빈도에서 희귀 단어 등장 빈도 비율: 2.4838910829349405\n"
          ]
        }
      ]
    },
    {
      "cell_type": "code",
      "source": [
        "# 0번 패딩 토큰을 고려하여 + 1\n",
        "vocab_size = total_cnt - rare_cnt + 1\n",
        "print('단어 집합의 크기 :',vocab_size)"
      ],
      "metadata": {
        "id": "nPXhTqKJfGt0",
        "colab": {
          "base_uri": "https://localhost:8080/"
        },
        "outputId": "8223ec4a-2bdd-474a-96f0-06e2e14afe02"
      },
      "execution_count": 40,
      "outputs": [
        {
          "output_type": "stream",
          "name": "stdout",
          "text": [
            "단어 집합의 크기 : 6344\n"
          ]
        }
      ]
    },
    {
      "cell_type": "code",
      "source": [
        "tokenizer = Tokenizer(vocab_size)\n",
        "tokenizer.fit_on_texts(df['processed_review'])\n",
        "df['review_enc'] = tokenizer.texts_to_sequences(df['processed_review'])"
      ],
      "metadata": {
        "id": "aYf5_tZ-fOtL"
      },
      "execution_count": 41,
      "outputs": []
    },
    {
      "cell_type": "code",
      "source": [
        "#리뷰 길이 히스토그램\n",
        "print('리뷰의 최대 길이 :',max(len(review) for review in df['review_enc']))\n",
        "print('리뷰의 평균 길이 :',sum(map(len, df['review_enc']))/len(df['review_enc']))\n",
        "plt.hist([len(review) for review in df['review_enc']], bins=50)\n",
        "plt.xlabel('length of samples')\n",
        "plt.ylabel('number of samples')\n",
        "plt.show()"
      ],
      "metadata": {
        "id": "kGkw4ow0dcDt",
        "colab": {
          "base_uri": "https://localhost:8080/",
          "height": 485
        },
        "outputId": "705cfbdd-efdf-4a22-f664-9b6030773936"
      },
      "execution_count": 42,
      "outputs": [
        {
          "output_type": "stream",
          "name": "stdout",
          "text": [
            "리뷰의 최대 길이 : 686\n",
            "리뷰의 평균 길이 : 266.08507462686566\n"
          ]
        },
        {
          "output_type": "display_data",
          "data": {
            "text/plain": [
              "<Figure size 640x480 with 1 Axes>"
            ],
            "image/png": "[encoded data removed]"
          },
          "metadata": {}
        }
      ]
    },
    {
      "cell_type": "code",
      "source": [
        "def below_threshold_len(max_len, nested_list):\n",
        "  count = 0\n",
        "  for sentence in nested_list:\n",
        "    if(len(sentence) <= max_len):\n",
        "        count = count + 1\n",
        "  print('전체 샘플 중 길이가 %s 이하인 샘플의 비율: %s'%(max_len, (count / len(nested_list))*100))"
      ],
      "metadata": {
        "id": "oXZ5dk9JiNJp"
      },
      "execution_count": 43,
      "outputs": []
    },
    {
      "cell_type": "code",
      "source": [
        "max_len = 700\n",
        "below_threshold_len(max_len, df['review_enc'])"
      ],
      "metadata": {
        "id": "m0-6Yvq7iPuZ",
        "colab": {
          "base_uri": "https://localhost:8080/"
        },
        "outputId": "20b3ab1f-6bed-4056-c70f-8eff2f67f442"
      },
      "execution_count": 44,
      "outputs": [
        {
          "output_type": "stream",
          "name": "stdout",
          "text": [
            "전체 샘플 중 길이가 700 이하인 샘플의 비율: 100.0\n"
          ]
        }
      ]
    },
    {
      "cell_type": "code",
      "source": [
        "max_len = 600\n",
        "below_threshold_len(max_len, df['review_enc'])"
      ],
      "metadata": {
        "colab": {
          "base_uri": "https://localhost:8080/"
        },
        "id": "R5vMPcm40ykA",
        "outputId": "7a06f2bc-2e49-4adf-9715-acf021bacabb"
      },
      "execution_count": 45,
      "outputs": [
        {
          "output_type": "stream",
          "name": "stdout",
          "text": [
            "전체 샘플 중 길이가 600 이하인 샘플의 비율: 99.40298507462687\n"
          ]
        }
      ]
    },
    {
      "cell_type": "code",
      "source": [
        "max_len = 500\n",
        "below_threshold_len(max_len, df['review_enc'])"
      ],
      "metadata": {
        "colab": {
          "base_uri": "https://localhost:8080/"
        },
        "id": "9G8M0dWR049X",
        "outputId": "46f692db-a76c-49da-d2df-9051d3e54675"
      },
      "execution_count": 46,
      "outputs": [
        {
          "output_type": "stream",
          "name": "stdout",
          "text": [
            "전체 샘플 중 길이가 500 이하인 샘플의 비율: 94.17910447761194\n"
          ]
        }
      ]
    },
    {
      "cell_type": "markdown",
      "source": [
        "max_len = 600으로 잡는 게 가장 이상적일 것으로 보임!"
      ],
      "metadata": {
        "id": "Oyjum9kW07dF"
      }
    },
    {
      "cell_type": "code",
      "source": [
        "max_len = 600\n",
        "padded_sequences = pad_sequences(df['review_enc'], maxlen=max_len)"
      ],
      "metadata": {
        "id": "Q18gf3b8lZVr"
      },
      "execution_count": 47,
      "outputs": []
    },
    {
      "cell_type": "code",
      "source": [
        "#X_train_text, X_test_text, X_train_cat, X_test_cat, y_train, y_test = train_test_split(padded_sequences, df['category_encoded'], df['keyword2'], test_size=0.2, random_state=0)"
      ],
      "metadata": {
        "id": "0D8mpPOtd_nS"
      },
      "execution_count": null,
      "outputs": []
    },
    {
      "cell_type": "code",
      "source": [
        "X_train, X_test, y_train, y_test = train_test_split(padded_sequences, df['keyword2'], test_size = 0.2, random_state = 0)"
      ],
      "metadata": {
        "id": "jmwURgccCwhO"
      },
      "execution_count": 48,
      "outputs": []
    },
    {
      "cell_type": "code",
      "source": [
        "rf = RandomForestClassifier()\n",
        "rf.fit(X_train, y_train)\n",
        "pred = rf.predict(X_test)\n",
        "print(accuracy_score(y_test, pred))"
      ],
      "metadata": {
        "colab": {
          "base_uri": "https://localhost:8080/"
        },
        "outputId": "084c4626-1ce9-4ea5-9c45-456773d17624",
        "id": "0KSWSu4_CwhO"
      },
      "execution_count": 49,
      "outputs": [
        {
          "output_type": "stream",
          "name": "stdout",
          "text": [
            "0.22388059701492538\n"
          ]
        }
      ]
    },
    {
      "cell_type": "code",
      "source": [
        "from sklearn.metrics import confusion_matrix"
      ],
      "metadata": {
        "id": "qMPxqnZSC0_w"
      },
      "execution_count": 50,
      "outputs": []
    },
    {
      "cell_type": "code",
      "source": [
        "#오차 행렬 시각화\n",
        "cm = confusion_matrix(y_test, pred)\n",
        "cm_matrix = pd.DataFrame(data=cm)\n",
        "\n",
        "\n",
        "sns.heatmap(cm_matrix, annot=True, fmt='d', cmap='YlGn')"
      ],
      "metadata": {
        "colab": {
          "base_uri": "https://localhost:8080/",
          "height": 453
        },
        "id": "aAAoeTefCwhO",
        "outputId": "0110a56d-518e-4c88-fd6d-fb126214bc5b"
      },
      "execution_count": 53,
      "outputs": [
        {
          "output_type": "execute_result",
          "data": {
            "text/plain": [
              "<Axes: >"
            ]
          },
          "metadata": {},
          "execution_count": 53
        },
        {
          "output_type": "display_data",
          "data": {
            "text/plain": [
              "<Figure size 640x480 with 2 Axes>"
            ],
            "image/png": "[encoded data removed]"
          },
          "metadata": {}
        }
      ]
    },
    {
      "cell_type": "markdown",
      "source": [
        "역시나 밥이 맛있어요로 많이 들어가는 것 같네요"
      ],
      "metadata": {
        "id": "osBtfeRfDneH"
      }
    },
    {
      "cell_type": "markdown",
      "source": [
        "# TF-IDF 적용"
      ],
      "metadata": {
        "id": "6sTkj3t5Ar6x"
      }
    },
    {
      "cell_type": "markdown",
      "source": [
        "TF-IDF 벡터화, Word2Vec 벡터화"
      ],
      "metadata": {
        "id": "EHhgcOP-o6ID"
      }
    },
    {
      "cell_type": "code",
      "source": [
        "from sklearn.feature_extraction.text import TfidfVectorizer\n",
        "from gensim.models import Word2Vec\n",
        "from gensim.models import KeyedVectors"
      ],
      "metadata": {
        "id": "DXyqAAlB5vhv"
      },
      "execution_count": 59,
      "outputs": []
    },
    {
      "cell_type": "code",
      "source": [
        "# TF-IDF 사용\n",
        "tfidf_vectorizer = TfidfVectorizer(\n",
        "    ngram_range=(1, 2),  #1개짜리랑 bigram\n",
        "    stop_words = new_stopwords,  #불용어 지정\n",
        "    max_df=0.95,  #95% 이상의 문서에 등장하는 단어 무시\n",
        "    min_df=2,  #2개 이상의 문서에 등장하는 단어만 사용\n",
        ")\n",
        "tfidf_matrix = tfidf_vectorizer.fit_transform(df['reviews'])\n",
        "\n",
        "print(\"TF-IDF Matrix:\\n\", tfidf_matrix.toarray())\n"
      ],
      "metadata": {
        "colab": {
          "base_uri": "https://localhost:8080/"
        },
        "id": "7nRZ8_If5xww",
        "outputId": "fb13a1c8-cbbd-4571-fb01-10950c570158"
      },
      "execution_count": 89,
      "outputs": [
        {
          "output_type": "stream",
          "name": "stdout",
          "text": [
            "TF-IDF Matrix:\n",
            " [[0.         0.         0.         ... 0.         0.         0.        ]\n",
            " [0.         0.         0.         ... 0.         0.         0.        ]\n",
            " [0.         0.         0.         ... 0.         0.         0.        ]\n",
            " ...\n",
            " [0.         0.         0.         ... 0.         0.         0.        ]\n",
            " [0.         0.         0.         ... 0.         0.         0.        ]\n",
            " [0.         0.06833829 0.         ... 0.         0.         0.        ]]\n"
          ]
        }
      ]
    },
    {
      "cell_type": "markdown",
      "source": [
        "벡터화 결과 rf로 정확도 측정"
      ],
      "metadata": {
        "id": "vqUaCXc3o6Dx"
      }
    },
    {
      "cell_type": "code",
      "source": [
        "X_train, X_test, y_train, y_test = train_test_split(tfidf_matrix, df['keyword2'], test_size = 0.2, random_state = 0)"
      ],
      "metadata": {
        "id": "qoMLzRJn8_7b"
      },
      "execution_count": 90,
      "outputs": []
    },
    {
      "cell_type": "code",
      "source": [
        "rf = RandomForestClassifier()\n",
        "rf.fit(X_train, y_train)\n",
        "pred = rf.predict(X_test)\n",
        "print(accuracy_score(y_test, pred))"
      ],
      "metadata": {
        "colab": {
          "base_uri": "https://localhost:8080/"
        },
        "id": "V7eCf1Rn8_33",
        "outputId": "2005dc80-39ae-438b-d899-9fd03422a37b"
      },
      "execution_count": 91,
      "outputs": [
        {
          "output_type": "stream",
          "name": "stdout",
          "text": [
            "0.2835820895522388\n"
          ]
        }
      ]
    },
    {
      "cell_type": "code",
      "source": [
        "#오차 행렬 시각화\n",
        "cm = confusion_matrix(y_test, pred)\n",
        "cm_matrix = pd.DataFrame(data=cm)\n",
        "\n",
        "\n",
        "sns.heatmap(cm_matrix, annot=True, fmt='d', cmap='YlGn')"
      ],
      "metadata": {
        "colab": {
          "base_uri": "https://localhost:8080/",
          "height": 453
        },
        "id": "bQprsrVfFGnx",
        "outputId": "f340a833-8178-4438-f160-d3e98245ad82"
      },
      "execution_count": 92,
      "outputs": [
        {
          "output_type": "execute_result",
          "data": {
            "text/plain": [
              "<Axes: >"
            ]
          },
          "metadata": {},
          "execution_count": 92
        },
        {
          "output_type": "display_data",
          "data": {
            "text/plain": [
              "<Figure size 640x480 with 2 Axes>"
            ],
            "image/png": "[encoded data removed]"
          },
          "metadata": {}
        }
      ]
    },
    {
      "cell_type": "markdown",
      "source": [
        "# Word2Vec 적용"
      ],
      "metadata": {
        "id": "orBjihfbAvIY"
      }
    },
    {
      "cell_type": "code",
      "source": [
        "!pip install nltk\n",
        "import nltk\n",
        "nltk.download('punkt')"
      ],
      "metadata": {
        "colab": {
          "base_uri": "https://localhost:8080/"
        },
        "id": "fBhKf2ofKXJ1",
        "outputId": "8fa0449d-73f4-4620-d0bb-120f200b505a"
      },
      "execution_count": 67,
      "outputs": [
        {
          "output_type": "stream",
          "name": "stdout",
          "text": [
            "Requirement already satisfied: nltk in /usr/local/lib/python3.10/dist-packages (3.8.1)\n",
            "Requirement already satisfied: click in /usr/local/lib/python3.10/dist-packages (from nltk) (8.1.7)\n",
            "Requirement already satisfied: joblib in /usr/local/lib/python3.10/dist-packages (from nltk) (1.4.2)\n",
            "Requirement already satisfied: regex>=2021.8.3 in /usr/local/lib/python3.10/dist-packages (from nltk) (2024.5.15)\n",
            "Requirement already satisfied: tqdm in /usr/local/lib/python3.10/dist-packages (from nltk) (4.66.4)\n"
          ]
        },
        {
          "output_type": "stream",
          "name": "stderr",
          "text": [
            "[nltk_data] Downloading package punkt to /root/nltk_data...\n",
            "[nltk_data]   Unzipping tokenizers/punkt.zip.\n"
          ]
        },
        {
          "output_type": "execute_result",
          "data": {
            "text/plain": [
              "True"
            ]
          },
          "metadata": {},
          "execution_count": 67
        }
      ]
    },
    {
      "cell_type": "code",
      "source": [
        "from gensim.models import Word2Vec\n",
        "from nltk.tokenize import word_tokenize\n",
        "\n",
        "#토큰화\n",
        "tokenized_reviews = [word_tokenize(review) for review in df['reviews']]\n",
        "\n",
        "#Word2Vec\n",
        "model = Word2Vec(tokenized_reviews, vector_size=100, window=5, min_count=1, workers=4)\n",
        "\n",
        "#리뷰 벡터화\n",
        "def get_average_vector(review):\n",
        "    vectors = [model.wv[word] for word in review if word in model.wv]\n",
        "    return np.mean(vectors, axis=0) if vectors else np.zeros(100)\n",
        "\n",
        "X = np.array([get_average_vector(review) for review in tokenized_reviews])\n",
        "X_train, X_test, y_train, y_test = train_test_split(X, df['keyword2'], test_size=0.2, random_state=42)\n",
        "\n",
        "# RandomForestClassifier 모델 학습\n",
        "clf = RandomForestClassifier()\n",
        "clf.fit(X_train, y_train)\n",
        "y_pred = clf.predict(X_test)\n",
        "print(accuracy_score(y_test, y_pred))"
      ],
      "metadata": {
        "colab": {
          "base_uri": "https://localhost:8080/"
        },
        "id": "D5diYKyX2rZ6",
        "outputId": "08fc8b5f-0bb9-46db-a677-3cd08a816c6a"
      },
      "execution_count": 68,
      "outputs": [
        {
          "output_type": "stream",
          "name": "stdout",
          "text": [
            "0.23880597014925373\n"
          ]
        }
      ]
    },
    {
      "cell_type": "code",
      "source": [
        "#오차 행렬 시각화\n",
        "cm = confusion_matrix(y_test, y_pred)\n",
        "cm_matrix = pd.DataFrame(data=cm)\n",
        "\n",
        "\n",
        "sns.heatmap(cm_matrix, annot=True, fmt='d', cmap='YlGn')"
      ],
      "metadata": {
        "colab": {
          "base_uri": "https://localhost:8080/",
          "height": 448
        },
        "id": "JRLO1HW4Khaz",
        "outputId": "22ea2251-5f4a-458e-a32a-0314dbd8e79c"
      },
      "execution_count": 69,
      "outputs": [
        {
          "output_type": "execute_result",
          "data": {
            "text/plain": [
              "<Axes: >"
            ]
          },
          "metadata": {},
          "execution_count": 69
        },
        {
          "output_type": "display_data",
          "data": {
            "text/plain": [
              "<Figure size 640x480 with 2 Axes>"
            ],
            "image/png": "[encoded data removed]"
          },
          "metadata": {}
        }
      ]
    },
    {
      "cell_type": "markdown",
      "source": [
        "# FastText 적용"
      ],
      "metadata": {
        "id": "kStuvA2MA1VC"
      }
    },
    {
      "cell_type": "code",
      "source": [
        "from gensim.models import FastText\n",
        "from nltk.tokenize import word_tokenize\n",
        "\n",
        "#토큰화\n",
        "tokenized_reviews = [word_tokenize(review) for review in df['reviews']]\n",
        "\n",
        "#FastText 모델\n",
        "model = FastText(tokenized_reviews, vector_size=100, window=5, min_count=1, workers=4)\n",
        "\n",
        "#리뷰 벡터화 위의 Word2Vec과 같이 사용\n",
        "def get_average_vector(review):\n",
        "    vectors = [model.wv[word] for word in review if word in model.wv]\n",
        "    return np.mean(vectors, axis=0) if vectors else np.zeros(100)\n",
        "\n",
        "X = np.array([get_average_vector(review) for review in tokenized_reviews])\n",
        "\n",
        "# Train-Test Split\n",
        "X_train, X_test, y_train, y_test = train_test_split(X, df['keyword2'], test_size=0.2, random_state=42)\n",
        "\n",
        "# RandomForestClassifier 모델 학습 및 평가\n",
        "clf = RandomForestClassifier()\n",
        "clf.fit(X_train, y_train)\n",
        "y_pred = clf.predict(X_test)\n",
        "print('FastText Accuracy:', accuracy_score(y_test, y_pred))\n"
      ],
      "metadata": {
        "colab": {
          "base_uri": "https://localhost:8080/"
        },
        "id": "C3EecZ17A3YF",
        "outputId": "5e10f794-21da-435d-a09a-e908a8b071ff"
      },
      "execution_count": 70,
      "outputs": [
        {
          "output_type": "stream",
          "name": "stdout",
          "text": [
            "FastText Accuracy: 0.1791044776119403\n"
          ]
        }
      ]
    },
    {
      "cell_type": "code",
      "source": [
        "#오차 행렬 시각화\n",
        "cm = confusion_matrix(y_test, y_pred)\n",
        "cm_matrix = pd.DataFrame(data=cm)\n",
        "\n",
        "\n",
        "sns.heatmap(cm_matrix, annot=True, fmt='d', cmap='YlGn')"
      ],
      "metadata": {
        "colab": {
          "base_uri": "https://localhost:8080/",
          "height": 453
        },
        "id": "0R-QU03sLY_X",
        "outputId": "d2a550a0-1852-4a65-82b3-9d82e06895fc"
      },
      "execution_count": 71,
      "outputs": [
        {
          "output_type": "execute_result",
          "data": {
            "text/plain": [
              "<Axes: >"
            ]
          },
          "metadata": {},
          "execution_count": 71
        },
        {
          "output_type": "display_data",
          "data": {
            "text/plain": [
              "<Figure size 640x480 with 2 Axes>"
            ],
            "image/png": "[encoded data removed]"
          },
          "metadata": {}
        }
      ]
    },
    {
      "cell_type": "markdown",
      "source": [
        "# KoBert 적용"
      ],
      "metadata": {
        "id": "P4JISlWyBSuP"
      }
    },
    {
      "cell_type": "code",
      "source": [
        "import torch\n",
        "from transformers import BertTokenizer, BertModel\n",
        "\n",
        "# KoBERT 모델 및 토크나이저 로드\n",
        "tokenizer = BertTokenizer.from_pretrained('monologg/kobert')\n",
        "model = BertModel.from_pretrained('monologg/kobert')\n",
        "\n",
        "# 리뷰 벡터화\n",
        "def get_bert_embedding(text):\n",
        "    inputs = tokenizer(text, return_tensors='pt', truncation=True, padding=True, max_length=512)\n",
        "    outputs = model(**inputs)\n",
        "    return outputs.last_hidden_state.mean(dim=1).detach().numpy().squeeze()\n",
        "\n",
        "X = np.array([get_bert_embedding(review) for review in df['reviews']])\n",
        "\n",
        "# Train-Test Split\n",
        "X_train, X_test, y_train, y_test = train_test_split(X, df['keyword2'], test_size=0.2, random_state=42)\n",
        "\n",
        "# RandomForestClassifier 모델 학습 및 평가\n",
        "clf = RandomForestClassifier()\n",
        "clf.fit(X_train, y_train)\n",
        "y_pred = clf.predict(X_test)\n",
        "print('KoBERT Accuracy:', accuracy_score(y_test, y_pred))"
      ],
      "metadata": {
        "colab": {
          "base_uri": "https://localhost:8080/",
          "height": 272,
          "referenced_widgets": [
            "c58aa2f1d208417486498891a330c83a",
            "84e6d927fc254975bae34d324c0081f2",
            "316ff77a75304901a85e7e7fd6ddb813",
            "196e7f5d203a4c04abbaaabe4a9dd834",
            "6e42240f58e644daa6b54c17e460ba35",
            "92d540cc90fe4d18a7563158d4808393",
            "0bb876f90ded4be495f3f6b760a2abdb",
            "754a8d1e472b418aa9b0f386f23f3f3a",
            "d9d7bdd81df44ecd95ecb17f435a6f1f",
            "8581b159a52f4479a844f293f836ac44",
            "e85ec4535a2049ec8f1df833f46d85a1",
            "b16e5f7025704fd181463393ab1ce84e",
            "4c5f9b9f99854b0e8b342fe5cbda0df3",
            "9d8d7ef3cbf14acf88898dcd3918fe77",
            "674971f885da4a3f8d0ffd1572dde429",
            "9e6a37968e624fc69589848ad0f0925f",
            "5ed085fb268d4dd58c6003f113053b5e",
            "5485c93556c144108e7e6dd330d7794a",
            "9bf728a041b54379926e66b16e1cad2e",
            "42c62835e5084aef9ce3830a3c28f0eb",
            "e38eed4ee7f04d37b43138f44a379567",
            "97155bd9a9a54132a41b9e74450f8b09",
            "d31090b1f58c409db0836e13a19b8745",
            "38d6ecfb30434a079d465a795609c347",
            "e9ab28549cbd4efb90a44eaf03ed722e",
            "6c593ca2387d403f91296ec6cda9b2b9",
            "59ffbe5bba0e42909724cf05ea91cb0d",
            "72d52f3276cb42b1a2cdc3b05c585c0a",
            "723bb4572e164cfbafdda7fa8c56c104",
            "4a11f6c264914f6693450df69b07feb7",
            "d7c1620ef8f049cb8ffa5e92bfcbfa5d",
            "f564175241104fb984a6a68946a74179",
            "2aacaab7923249f5be9d8f5511885d0d",
            "ec587b2562c1443f92754ef6b91fb0b1",
            "66475632d44a4145ba43f1183531adcd",
            "9ed15d3d92a04efaa75ae192b388dc02",
            "7a951a51946948ebbde79786ed7c61aa",
            "152c4fc8606d4a47b23f7c3683281f4d",
            "6493ef543cf5451095393f21fe0d37a2",
            "140a562c515b44079dc5b987dd372699",
            "0fd2e855a2d44e02be6d0355ec309c34",
            "e121a826ded7498894c9a65e68faeb91",
            "d380bb2a9bc0475e8e54ecfce755cbca",
            "e704b2c0ca6749c5b274584a45147197"
          ]
        },
        "id": "Lrj-WeHeBUBc",
        "outputId": "b5a5f25b-fa5d-4355-bdd7-e72d6884b1da"
      },
      "execution_count": 72,
      "outputs": [
        {
          "output_type": "stream",
          "name": "stderr",
          "text": [
            "/usr/local/lib/python3.10/dist-packages/huggingface_hub/utils/_token.py:89: UserWarning: \n",
            "The secret `HF_TOKEN` does not exist in your Colab secrets.\n",
            "To authenticate with the Hugging Face Hub, create a token in your settings tab (https://huggingface.co/settings/tokens), set it as secret in your Google Colab and restart your session.\n",
            "You will be able to reuse this secret in all of your notebooks.\n",
            "Please note that authentication is recommended but still optional to access public models or datasets.\n",
            "  warnings.warn(\n"
          ]
        },
        {
          "output_type": "display_data",
          "data": {
            "text/plain": [
              "tokenizer_config.json:   0%|          | 0.00/51.0 [00:00<?, ?B/s]"
            ],
            "application/vnd.jupyter.widget-view+json": {
              "version_major": 2,
              "version_minor": 0,
              "model_id": "c58aa2f1d208417486498891a330c83a"
            }
          },
          "metadata": {}
        },
        {
          "output_type": "display_data",
          "data": {
            "text/plain": [
              "vocab.txt:   0%|          | 0.00/77.8k [00:00<?, ?B/s]"
            ],
            "application/vnd.jupyter.widget-view+json": {
              "version_major": 2,
              "version_minor": 0,
              "model_id": "b16e5f7025704fd181463393ab1ce84e"
            }
          },
          "metadata": {}
        },
        {
          "output_type": "display_data",
          "data": {
            "text/plain": [
              "config.json:   0%|          | 0.00/426 [00:00<?, ?B/s]"
            ],
            "application/vnd.jupyter.widget-view+json": {
              "version_major": 2,
              "version_minor": 0,
              "model_id": "d31090b1f58c409db0836e13a19b8745"
            }
          },
          "metadata": {}
        },
        {
          "output_type": "display_data",
          "data": {
            "text/plain": [
              "model.safetensors:   0%|          | 0.00/369M [00:00<?, ?B/s]"
            ],
            "application/vnd.jupyter.widget-view+json": {
              "version_major": 2,
              "version_minor": 0,
              "model_id": "ec587b2562c1443f92754ef6b91fb0b1"
            }
          },
          "metadata": {}
        },
        {
          "output_type": "stream",
          "name": "stdout",
          "text": [
            "KoBERT Accuracy: 0.29850746268656714\n"
          ]
        }
      ]
    },
    {
      "cell_type": "code",
      "source": [
        "#오차 행렬 시각화\n",
        "cm = confusion_matrix(y_test, y_pred)\n",
        "cm_matrix = pd.DataFrame(data=cm)\n",
        "\n",
        "\n",
        "sns.heatmap(cm_matrix, annot=True, fmt='d', cmap='YlGn')"
      ],
      "metadata": {
        "colab": {
          "base_uri": "https://localhost:8080/",
          "height": 453
        },
        "id": "rUL3PugPM-EY",
        "outputId": "a235ec8e-237f-4ff5-ab39-57e3d6a52c6c"
      },
      "execution_count": 73,
      "outputs": [
        {
          "output_type": "execute_result",
          "data": {
            "text/plain": [
              "<Axes: >"
            ]
          },
          "metadata": {},
          "execution_count": 73
        },
        {
          "output_type": "display_data",
          "data": {
            "text/plain": [
              "<Figure size 640x480 with 2 Axes>"
            ],
            "image/png": "[encoded data removed]"
          },
          "metadata": {}
        }
      ]
    },
    {
      "cell_type": "markdown",
      "source": [
        "# Data Augmentation"
      ],
      "metadata": {
        "id": "2ssjhFv9Vnfu"
      }
    },
    {
      "cell_type": "code",
      "source": [
        "import random\n",
        "import pickle\n",
        "import re\n",
        "\n",
        "wordnet = {}\n",
        "with open(file_path + \"wordnet.pickle\", \"rb\") as f:\n",
        "\twordnet = pickle.load(f)\n",
        "\n",
        "\n",
        "# 한글만 남기고 나머지는 삭제\n",
        "def get_only_hangul(line):\n",
        "\tparseText= re.compile('/ ^[ㄱ-ㅎㅏ-ㅣ가-힣]*$/').sub('',line)\n",
        "\n",
        "\treturn parseText\n",
        "\n",
        "\n",
        "\n",
        "########################################################################\n",
        "# Synonym replacement\n",
        "# Replace n words in the sentence with synonyms from wordnet\n",
        "########################################################################\n",
        "def synonym_replacement(words, n):\n",
        "\tnew_words = words.copy()\n",
        "\trandom_word_list = list(set([word for word in words]))\n",
        "\trandom.shuffle(random_word_list)\n",
        "\tnum_replaced = 0\n",
        "\tfor random_word in random_word_list:\n",
        "\t\tsynonyms = get_synonyms(random_word)\n",
        "\t\tif len(synonyms) >= 1:\n",
        "\t\t\tsynonym = random.choice(list(synonyms))\n",
        "\t\t\tnew_words = [synonym if word == random_word else word for word in new_words]\n",
        "\t\t\tnum_replaced += 1\n",
        "\t\tif num_replaced >= n:\n",
        "\t\t\tbreak\n",
        "\n",
        "\tif len(new_words) != 0:\n",
        "\t\tsentence = ' '.join(new_words)\n",
        "\t\tnew_words = sentence.split(\" \")\n",
        "\n",
        "\telse:\n",
        "\t\tnew_words = \"\"\n",
        "\n",
        "\treturn new_words\n",
        "\n",
        "\n",
        "def get_synonyms(word):\n",
        "\tsynomyms = []\n",
        "\n",
        "\ttry:\n",
        "\t\tfor syn in wordnet[word]:\n",
        "\t\t\tfor s in syn:\n",
        "\t\t\t\tsynomyms.append(s)\n",
        "\texcept:\n",
        "\t\tpass\n",
        "\n",
        "\treturn synomyms\n",
        "\n",
        "########################################################################\n",
        "# Random deletion\n",
        "# Randomly delete words from the sentence with probability p\n",
        "########################################################################\n",
        "def random_deletion(words, p):\n",
        "\tif len(words) == 1:\n",
        "\t\treturn words\n",
        "\n",
        "\tnew_words = []\n",
        "\tfor word in words:\n",
        "\t\tr = random.uniform(0, 1)\n",
        "\t\tif r > p:\n",
        "\t\t\tnew_words.append(word)\n",
        "\n",
        "\tif len(new_words) == 0:\n",
        "\t\trand_int = random.randint(0, len(words)-1)\n",
        "\t\treturn [words[rand_int]]\n",
        "\n",
        "\treturn new_words\n",
        "\n",
        "########################################################################\n",
        "# Random swap\n",
        "# Randomly swap two words in the sentence n times\n",
        "########################################################################\n",
        "def random_swap(words, n):\n",
        "\tnew_words = words.copy()\n",
        "\tfor _ in range(n):\n",
        "\t\tnew_words = swap_word(new_words)\n",
        "\n",
        "\treturn new_words\n",
        "\n",
        "def swap_word(new_words):\n",
        "\trandom_idx_1 = random.randint(0, len(new_words)-1)\n",
        "\trandom_idx_2 = random_idx_1\n",
        "\tcounter = 0\n",
        "\n",
        "\twhile random_idx_2 == random_idx_1:\n",
        "\t\trandom_idx_2 = random.randint(0, len(new_words)-1)\n",
        "\t\tcounter += 1\n",
        "\t\tif counter > 3:\n",
        "\t\t\treturn new_words\n",
        "\n",
        "\tnew_words[random_idx_1], new_words[random_idx_2] = new_words[random_idx_2], new_words[random_idx_1]\n",
        "\treturn new_words\n",
        "\n",
        "########################################################################\n",
        "# Random insertion\n",
        "# Randomly insert n words into the sentence\n",
        "########################################################################\n",
        "def random_insertion(words, n):\n",
        "\tnew_words = words.copy()\n",
        "\tfor _ in range(n):\n",
        "\t\tadd_word(new_words)\n",
        "\n",
        "\treturn new_words\n",
        "\n",
        "\n",
        "def add_word(new_words):\n",
        "\tsynonyms = []\n",
        "\tcounter = 0\n",
        "\twhile len(synonyms) < 1:\n",
        "\t\tif len(new_words) >= 1:\n",
        "\t\t\trandom_word = new_words[random.randint(0, len(new_words)-1)]\n",
        "\t\t\tsynonyms = get_synonyms(random_word)\n",
        "\t\t\tcounter += 1\n",
        "\t\telse:\n",
        "\t\t\trandom_word = \"\"\n",
        "\n",
        "\t\tif counter >= 10:\n",
        "\t\t\treturn\n",
        "\n",
        "\trandom_synonym = synonyms[0]\n",
        "\trandom_idx = random.randint(0, len(new_words)-1)\n",
        "\tnew_words.insert(random_idx, random_synonym)\n",
        "\n",
        "\n",
        "\n",
        "def EDA(sentence, alpha_sr=0.1, alpha_ri=0.1, alpha_rs=0.1, p_rd=0.1, num_aug=9):\n",
        "\tsentence = get_only_hangul(sentence)\n",
        "\twords = sentence.split(' ')\n",
        "\twords = [word for word in words if word is not \"\"]\n",
        "\tnum_words = len(words)\n",
        "\n",
        "\taugmented_sentences = []\n",
        "\tnum_new_per_technique = int(num_aug/4) + 1\n",
        "\n",
        "\tn_sr = max(1, int(alpha_sr*num_words))\n",
        "\tn_ri = max(1, int(alpha_ri*num_words))\n",
        "\tn_rs = max(1, int(alpha_rs*num_words))\n",
        "\n",
        "\t# sr\n",
        "\tfor _ in range(num_new_per_technique):\n",
        "\t\ta_words = synonym_replacement(words, n_sr)\n",
        "\t\taugmented_sentences.append(' '.join(a_words))\n",
        "\n",
        "\t# ri\n",
        "\tfor _ in range(num_new_per_technique):\n",
        "\t\ta_words = random_insertion(words, n_ri)\n",
        "\t\taugmented_sentences.append(' '.join(a_words))\n",
        "\n",
        "\t# rs\n",
        "\tfor _ in range(num_new_per_technique):\n",
        "\t\ta_words = random_swap(words, n_rs)\n",
        "\t\taugmented_sentences.append(\" \".join(a_words))\n",
        "\n",
        "\t# rd\n",
        "\tfor _ in range(num_new_per_technique):\n",
        "\t\ta_words = random_deletion(words, p_rd)\n",
        "\t\taugmented_sentences.append(\" \".join(a_words))\n",
        "\n",
        "\taugmented_sentences = [get_only_hangul(sentence) for sentence in augmented_sentences]\n",
        "\trandom.shuffle(augmented_sentences)\n",
        "\n",
        "\tif num_aug >= 1:\n",
        "\t\taugmented_sentences = augmented_sentences[:num_aug]\n",
        "\telse:\n",
        "\t\tkeep_prob = num_aug / len(augmented_sentences)\n",
        "\t\taugmented_sentences = [s for s in augmented_sentences if random.uniform(0, 1) < keep_prob]\n",
        "\n",
        "\taugmented_sentences.append(sentence)\n",
        "\n",
        "\treturn augmented_sentences"
      ],
      "metadata": {
        "colab": {
          "base_uri": "https://localhost:8080/"
        },
        "id": "8bpc2u12Vo6d",
        "outputId": "c7268558-e44b-4577-cc49-b5f3d5384639"
      },
      "execution_count": 76,
      "outputs": [
        {
          "output_type": "stream",
          "name": "stderr",
          "text": [
            "<>:138: SyntaxWarning: \"is not\" with a literal. Did you mean \"!=\"?\n",
            "<>:138: SyntaxWarning: \"is not\" with a literal. Did you mean \"!=\"?\n",
            "<ipython-input-76-681232a2069f>:138: SyntaxWarning: \"is not\" with a literal. Did you mean \"!=\"?\n",
            "  words = [word for word in words if word is not \"\"]\n"
          ]
        }
      ]
    },
    {
      "cell_type": "code",
      "source": [
        "def expand_dataframe_with_augmentation(df):\n",
        "    new_rows = []\n",
        "    for index, row in df.iterrows():\n",
        "        augmented_reviews = EDA(row['reviews'])\n",
        "        for aug_review in augmented_reviews:\n",
        "            new_row = row.copy()\n",
        "            new_row['reviews'] = aug_review\n",
        "            new_rows.append(new_row)\n",
        "\n",
        "    # 새로운 행을 데이터프레임에 추가\n",
        "    augmented_df = pd.DataFrame(new_rows)\n",
        "    return pd.concat([df, augmented_df], ignore_index=True)\n",
        "\n",
        "# 데이터프레임 확장\n",
        "expanded_df = expand_dataframe_with_augmentation(df)"
      ],
      "metadata": {
        "id": "v7s-6efRXI-6"
      },
      "execution_count": 84,
      "outputs": []
    },
    {
      "cell_type": "code",
      "source": [
        "expanded_df.tail()"
      ],
      "metadata": {
        "colab": {
          "base_uri": "https://localhost:8080/",
          "height": 293
        },
        "id": "3Od-NfJsUf39",
        "outputId": "661e4beb-a6a1-4c64-b68f-2e9a6fbdb472"
      },
      "execution_count": 85,
      "outputs": [
        {
          "output_type": "execute_result",
          "data": {
            "text/plain": [
              "     category                                            reviews  keyword1  \\\n",
              "7365       주점  바로 집앞이라 자주 가는 술집이에요 납작만두 야채 완전 새콤하네요 만두가 15장이나...         6   \n",
              "7366       주점  바로 집앞이라 불 가는 술집이에요 납작만두 야채 완전 새콤하네요 만두가 15장이나 ...         6   \n",
              "7367       주점  바로 집앞이라 자주 가는 술집이에요 납작만두 야채 완전 새콤하네요 만두가 15장이나...         6   \n",
              "7368       주점  바로 집앞이라 자주 가는 술집이에요 납작만두 야채 완전 새콤하네요 만두가 15장이나...         6   \n",
              "7369       주점  바로 집앞이라 자주 가는 술집이에요 납작만두 야채 완전 새콤하네요 만두가 15장이나...         6   \n",
              "\n",
              "      keyword2  keyword3  category_encoded  \\\n",
              "7365        19        29                 4   \n",
              "7366        19        29                 4   \n",
              "7367        19        29                 4   \n",
              "7368        19        29                 4   \n",
              "7369        19        29                 4   \n",
              "\n",
              "                                       processed_review  \\\n",
              "7365  [집앞, 이라, 자주, 가다, 술집, 이에요, 납작만두, 야채, 완전, 새, 콤, ...   \n",
              "7366  [집앞, 이라, 자주, 가다, 술집, 이에요, 납작만두, 야채, 완전, 새, 콤, ...   \n",
              "7367  [집앞, 이라, 자주, 가다, 술집, 이에요, 납작만두, 야채, 완전, 새, 콤, ...   \n",
              "7368  [집앞, 이라, 자주, 가다, 술집, 이에요, 납작만두, 야채, 완전, 새, 콤, ...   \n",
              "7369  [집앞, 이라, 자주, 가다, 술집, 이에요, 납작만두, 야채, 완전, 새, 콤, ...   \n",
              "\n",
              "                                             review_enc  \n",
              "7365  [1434, 58, 67, 14, 313, 46, 4804, 252, 80, 510...  \n",
              "7366  [1434, 58, 67, 14, 313, 46, 4804, 252, 80, 510...  \n",
              "7367  [1434, 58, 67, 14, 313, 46, 4804, 252, 80, 510...  \n",
              "7368  [1434, 58, 67, 14, 313, 46, 4804, 252, 80, 510...  \n",
              "7369  [1434, 58, 67, 14, 313, 46, 4804, 252, 80, 510...  "
            ],
            "text/html": [
              "\n",
              "  <div id=\"df-d3021036-ab2e-4d7c-81fb-61448e83df45\" class=\"colab-df-container\">\n",
              "    <div>\n",
              "<style scoped>\n",
              "    .dataframe tbody tr th:only-of-type {\n",
              "        vertical-align: middle;\n",
              "    }\n",
              "\n",
              "    .dataframe tbody tr th {\n",
              "        vertical-align: top;\n",
              "    }\n",
              "\n",
              "    .dataframe thead th {\n",
              "        text-align: right;\n",
              "    }\n",
              "</style>\n",
              "<table border=\"1\" class=\"dataframe\">\n",
              "  <thead>\n",
              "    <tr style=\"text-align: right;\">\n",
              "      <th></th>\n",
              "      <th>category</th>\n",
              "      <th>reviews</th>\n",
              "      <th>keyword1</th>\n",
              "      <th>keyword2</th>\n",
              "      <th>keyword3</th>\n",
              "      <th>category_encoded</th>\n",
              "      <th>processed_review</th>\n",
              "      <th>review_enc</th>\n",
              "    </tr>\n",
              "  </thead>\n",
              "  <tbody>\n",
              "    <tr>\n",
              "      <th>7365</th>\n",
              "      <td>주점</td>\n",
              "      <td>바로 집앞이라 자주 가는 술집이에요 납작만두 야채 완전 새콤하네요 만두가 15장이나...</td>\n",
              "      <td>6</td>\n",
              "      <td>19</td>\n",
              "      <td>29</td>\n",
              "      <td>4</td>\n",
              "      <td>[집앞, 이라, 자주, 가다, 술집, 이에요, 납작만두, 야채, 완전, 새, 콤, ...</td>\n",
              "      <td>[1434, 58, 67, 14, 313, 46, 4804, 252, 80, 510...</td>\n",
              "    </tr>\n",
              "    <tr>\n",
              "      <th>7366</th>\n",
              "      <td>주점</td>\n",
              "      <td>바로 집앞이라 불 가는 술집이에요 납작만두 야채 완전 새콤하네요 만두가 15장이나 ...</td>\n",
              "      <td>6</td>\n",
              "      <td>19</td>\n",
              "      <td>29</td>\n",
              "      <td>4</td>\n",
              "      <td>[집앞, 이라, 자주, 가다, 술집, 이에요, 납작만두, 야채, 완전, 새, 콤, ...</td>\n",
              "      <td>[1434, 58, 67, 14, 313, 46, 4804, 252, 80, 510...</td>\n",
              "    </tr>\n",
              "    <tr>\n",
              "      <th>7367</th>\n",
              "      <td>주점</td>\n",
              "      <td>바로 집앞이라 자주 가는 술집이에요 납작만두 야채 완전 새콤하네요 만두가 15장이나...</td>\n",
              "      <td>6</td>\n",
              "      <td>19</td>\n",
              "      <td>29</td>\n",
              "      <td>4</td>\n",
              "      <td>[집앞, 이라, 자주, 가다, 술집, 이에요, 납작만두, 야채, 완전, 새, 콤, ...</td>\n",
              "      <td>[1434, 58, 67, 14, 313, 46, 4804, 252, 80, 510...</td>\n",
              "    </tr>\n",
              "    <tr>\n",
              "      <th>7368</th>\n",
              "      <td>주점</td>\n",
              "      <td>바로 집앞이라 자주 가는 술집이에요 납작만두 야채 완전 새콤하네요 만두가 15장이나...</td>\n",
              "      <td>6</td>\n",
              "      <td>19</td>\n",
              "      <td>29</td>\n",
              "      <td>4</td>\n",
              "      <td>[집앞, 이라, 자주, 가다, 술집, 이에요, 납작만두, 야채, 완전, 새, 콤, ...</td>\n",
              "      <td>[1434, 58, 67, 14, 313, 46, 4804, 252, 80, 510...</td>\n",
              "    </tr>\n",
              "    <tr>\n",
              "      <th>7369</th>\n",
              "      <td>주점</td>\n",
              "      <td>바로 집앞이라 자주 가는 술집이에요 납작만두 야채 완전 새콤하네요 만두가 15장이나...</td>\n",
              "      <td>6</td>\n",
              "      <td>19</td>\n",
              "      <td>29</td>\n",
              "      <td>4</td>\n",
              "      <td>[집앞, 이라, 자주, 가다, 술집, 이에요, 납작만두, 야채, 완전, 새, 콤, ...</td>\n",
              "      <td>[1434, 58, 67, 14, 313, 46, 4804, 252, 80, 510...</td>\n",
              "    </tr>\n",
              "  </tbody>\n",
              "</table>\n",
              "</div>\n",
              "    <div class=\"colab-df-buttons\">\n",
              "\n",
              "  <div class=\"colab-df-container\">\n",
              "    <button class=\"colab-df-convert\" onclick=\"convertToInteractive('df-d3021036-ab2e-4d7c-81fb-61448e83df45')\"\n",
              "            title=\"Convert this dataframe to an interactive table.\"\n",
              "            style=\"display:none;\">\n",
              "\n",
              "  <svg xmlns=\"http://www.w3.org/2000/svg\" height=\"24px\" viewBox=\"0 -960 960 960\">\n",
              "    <path d=\"M120-120v-720h720v720H120Zm60-500h600v-160H180v160Zm220 220h160v-160H400v160Zm0 220h160v-160H400v160ZM180-400h160v-160H180v160Zm440 0h160v-160H620v160ZM180-180h160v-160H180v160Zm440 0h160v-160H620v160Z\"/>\n",
              "  </svg>\n",
              "    </button>\n",
              "\n",
              "  <style>\n",
              "    .colab-df-container {\n",
              "      display:flex;\n",
              "      gap: 12px;\n",
              "    }\n",
              "\n",
              "    .colab-df-convert {\n",
              "      background-color: #E8F0FE;\n",
              "      border: none;\n",
              "      border-radius: 50%;\n",
              "      cursor: pointer;\n",
              "      display: none;\n",
              "      fill: #1967D2;\n",
              "      height: 32px;\n",
              "      padding: 0 0 0 0;\n",
              "      width: 32px;\n",
              "    }\n",
              "\n",
              "    .colab-df-convert:hover {\n",
              "      background-color: #E2EBFA;\n",
              "      box-shadow: 0px 1px 2px rgba(60, 64, 67, 0.3), 0px 1px 3px 1px rgba(60, 64, 67, 0.15);\n",
              "      fill: #174EA6;\n",
              "    }\n",
              "\n",
              "    .colab-df-buttons div {\n",
              "      margin-bottom: 4px;\n",
              "    }\n",
              "\n",
              "    [theme=dark] .colab-df-convert {\n",
              "      background-color: #3B4455;\n",
              "      fill: #D2E3FC;\n",
              "    }\n",
              "\n",
              "    [theme=dark] .colab-df-convert:hover {\n",
              "      background-color: #434B5C;\n",
              "      box-shadow: 0px 1px 3px 1px rgba(0, 0, 0, 0.15);\n",
              "      filter: drop-shadow(0px 1px 2px rgba(0, 0, 0, 0.3));\n",
              "      fill: #FFFFFF;\n",
              "    }\n",
              "  </style>\n",
              "\n",
              "    <script>\n",
              "      const buttonEl =\n",
              "        document.querySelector('#df-d3021036-ab2e-4d7c-81fb-61448e83df45 button.colab-df-convert');\n",
              "      buttonEl.style.display =\n",
              "        google.colab.kernel.accessAllowed ? 'block' : 'none';\n",
              "\n",
              "      async function convertToInteractive(key) {\n",
              "        const element = document.querySelector('#df-d3021036-ab2e-4d7c-81fb-61448e83df45');\n",
              "        const dataTable =\n",
              "          await google.colab.kernel.invokeFunction('convertToInteractive',\n",
              "                                                    [key], {});\n",
              "        if (!dataTable) return;\n",
              "\n",
              "        const docLinkHtml = 'Like what you see? Visit the ' +\n",
              "          '<a target=\"_blank\" href=https://colab.research.google.com/notebooks/data_table.ipynb>data table notebook</a>'\n",
              "          + ' to learn more about interactive tables.';\n",
              "        element.innerHTML = '';\n",
              "        dataTable['output_type'] = 'display_data';\n",
              "        await google.colab.output.renderOutput(dataTable, element);\n",
              "        const docLink = document.createElement('div');\n",
              "        docLink.innerHTML = docLinkHtml;\n",
              "        element.appendChild(docLink);\n",
              "      }\n",
              "    </script>\n",
              "  </div>\n",
              "\n",
              "\n",
              "<div id=\"df-e09f717c-b10f-41b4-acee-4a5149f0da82\">\n",
              "  <button class=\"colab-df-quickchart\" onclick=\"quickchart('df-e09f717c-b10f-41b4-acee-4a5149f0da82')\"\n",
              "            title=\"Suggest charts\"\n",
              "            style=\"display:none;\">\n",
              "\n",
              "<svg xmlns=\"http://www.w3.org/2000/svg\" height=\"24px\"viewBox=\"0 0 24 24\"\n",
              "     width=\"24px\">\n",
              "    <g>\n",
              "        <path d=\"M19 3H5c-1.1 0-2 .9-2 2v14c0 1.1.9 2 2 2h14c1.1 0 2-.9 2-2V5c0-1.1-.9-2-2-2zM9 17H7v-7h2v7zm4 0h-2V7h2v10zm4 0h-2v-4h2v4z\"/>\n",
              "    </g>\n",
              "</svg>\n",
              "  </button>\n",
              "\n",
              "<style>\n",
              "  .colab-df-quickchart {\n",
              "      --bg-color: #E8F0FE;\n",
              "      --fill-color: #1967D2;\n",
              "      --hover-bg-color: #E2EBFA;\n",
              "      --hover-fill-color: #174EA6;\n",
              "      --disabled-fill-color: #AAA;\n",
              "      --disabled-bg-color: #DDD;\n",
              "  }\n",
              "\n",
              "  [theme=dark] .colab-df-quickchart {\n",
              "      --bg-color: #3B4455;\n",
              "      --fill-color: #D2E3FC;\n",
              "      --hover-bg-color: #434B5C;\n",
              "      --hover-fill-color: #FFFFFF;\n",
              "      --disabled-bg-color: #3B4455;\n",
              "      --disabled-fill-color: #666;\n",
              "  }\n",
              "\n",
              "  .colab-df-quickchart {\n",
              "    background-color: var(--bg-color);\n",
              "    border: none;\n",
              "    border-radius: 50%;\n",
              "    cursor: pointer;\n",
              "    display: none;\n",
              "    fill: var(--fill-color);\n",
              "    height: 32px;\n",
              "    padding: 0;\n",
              "    width: 32px;\n",
              "  }\n",
              "\n",
              "  .colab-df-quickchart:hover {\n",
              "    background-color: var(--hover-bg-color);\n",
              "    box-shadow: 0 1px 2px rgba(60, 64, 67, 0.3), 0 1px 3px 1px rgba(60, 64, 67, 0.15);\n",
              "    fill: var(--button-hover-fill-color);\n",
              "  }\n",
              "\n",
              "  .colab-df-quickchart-complete:disabled,\n",
              "  .colab-df-quickchart-complete:disabled:hover {\n",
              "    background-color: var(--disabled-bg-color);\n",
              "    fill: var(--disabled-fill-color);\n",
              "    box-shadow: none;\n",
              "  }\n",
              "\n",
              "  .colab-df-spinner {\n",
              "    border: 2px solid var(--fill-color);\n",
              "    border-color: transparent;\n",
              "    border-bottom-color: var(--fill-color);\n",
              "    animation:\n",
              "      spin 1s steps(1) infinite;\n",
              "  }\n",
              "\n",
              "  @keyframes spin {\n",
              "    0% {\n",
              "      border-color: transparent;\n",
              "      border-bottom-color: var(--fill-color);\n",
              "      border-left-color: var(--fill-color);\n",
              "    }\n",
              "    20% {\n",
              "      border-color: transparent;\n",
              "      border-left-color: var(--fill-color);\n",
              "      border-top-color: var(--fill-color);\n",
              "    }\n",
              "    30% {\n",
              "      border-color: transparent;\n",
              "      border-left-color: var(--fill-color);\n",
              "      border-top-color: var(--fill-color);\n",
              "      border-right-color: var(--fill-color);\n",
              "    }\n",
              "    40% {\n",
              "      border-color: transparent;\n",
              "      border-right-color: var(--fill-color);\n",
              "      border-top-color: var(--fill-color);\n",
              "    }\n",
              "    60% {\n",
              "      border-color: transparent;\n",
              "      border-right-color: var(--fill-color);\n",
              "    }\n",
              "    80% {\n",
              "      border-color: transparent;\n",
              "      border-right-color: var(--fill-color);\n",
              "      border-bottom-color: var(--fill-color);\n",
              "    }\n",
              "    90% {\n",
              "      border-color: transparent;\n",
              "      border-bottom-color: var(--fill-color);\n",
              "    }\n",
              "  }\n",
              "</style>\n",
              "\n",
              "  <script>\n",
              "    async function quickchart(key) {\n",
              "      const quickchartButtonEl =\n",
              "        document.querySelector('#' + key + ' button');\n",
              "      quickchartButtonEl.disabled = true;  // To prevent multiple clicks.\n",
              "      quickchartButtonEl.classList.add('colab-df-spinner');\n",
              "      try {\n",
              "        const charts = await google.colab.kernel.invokeFunction(\n",
              "            'suggestCharts', [key], {});\n",
              "      } catch (error) {\n",
              "        console.error('Error during call to suggestCharts:', error);\n",
              "      }\n",
              "      quickchartButtonEl.classList.remove('colab-df-spinner');\n",
              "      quickchartButtonEl.classList.add('colab-df-quickchart-complete');\n",
              "    }\n",
              "    (() => {\n",
              "      let quickchartButtonEl =\n",
              "        document.querySelector('#df-e09f717c-b10f-41b4-acee-4a5149f0da82 button');\n",
              "      quickchartButtonEl.style.display =\n",
              "        google.colab.kernel.accessAllowed ? 'block' : 'none';\n",
              "    })();\n",
              "  </script>\n",
              "</div>\n",
              "\n",
              "    </div>\n",
              "  </div>\n"
            ],
            "application/vnd.google.colaboratory.intrinsic+json": {
              "type": "dataframe",
              "summary": "{\n  \"name\": \"expanded_df\",\n  \"rows\": 5,\n  \"fields\": [\n    {\n      \"column\": \"category\",\n      \"properties\": {\n        \"dtype\": \"category\",\n        \"num_unique_values\": 1,\n        \"samples\": [\n          \"\\uc8fc\\uc810\"\n        ],\n        \"semantic_type\": \"\",\n        \"description\": \"\"\n      }\n    },\n    {\n      \"column\": \"reviews\",\n      \"properties\": {\n        \"dtype\": \"string\",\n        \"num_unique_values\": 5,\n        \"samples\": [\n          \"\\ubc14\\ub85c \\uc9d1\\uc55e\\uc774\\ub77c \\ubd88 \\uac00\\ub294 \\uc220\\uc9d1\\uc774\\uc5d0\\uc694 \\ub0a9\\uc791\\ub9cc\\ub450 \\uc57c\\ucc44 \\uc644\\uc804 \\uc0c8\\ucf64\\ud558\\ub124\\uc694 \\ub9cc\\ub450\\uac00 15\\uc7a5\\uc774\\ub098 \\ub098\\uc640\\uc11c \\uc88b\\uc558\\uc2b5\\ub2c8\\ub2e4 \\ub9e5\\uc8fc\\ub3c4 \\uc2e0\\uc120\\ud574\\uc694 \\uba54\\ub274\\ub3c4 \\ub2e4\\uc591\\ud558\\uace0 \\uc74c\\uc2dd\\uc774 \\uc804\\uccb4\\uc801\\uc73c\\ub85c \\uae54\\ub054\\ud558\\ub2c8 \\ub9db\\uc788\\uc5c8\\uc5b4\\uc694 \\uc800\\ub294 \\uac1c\\uc778\\uc801\\uc73c\\ub85c \\ud280\\uae40\\ub958\\uc758 \\uba54\\ub274\\uac00 \\ubc14\\uc0ad\\ud558\\ub2c8 \\ub9db\\uc788\\ub354\\ub77c\\uad6c\\uc694 \\uc678\\ubd80\\ubd80\\ud130 \\uc2dc\\uc7a5\\uc758 \\ub2e4\\ub978 \\uac00\\uac8c\\ub4e4\\uacfc \\ucc28\\ubcc4\\ud654 \\ub41c \\uc2ec\\ud50c\\ud55c \\ub514\\uc790\\uc778\\uc5d0 \\uc774\\ub04c\\ub824 \\ub4e4\\uc5b4\\uc654\\uace0 \\uc548 \\uc778\\ud14c\\ub9ac\\uc5b4 \\uc5ed\\uc2dc \\ubaa8\\ub178\\ud1a4\\uc73c\\ub85c \\uc138\\ub828\\ub41c \\ub290\\ub08c\\uc5d0 \\ube48\\ud2f0\\uc9c0\\ud568\\ub3c4 \\ubb3b\\uc5b4\\ub098 \\uae54\\ub054\\ud558\\ub2c8 \\uc88b\\uc558\\uc5b4\\uc694 \\uc0ac\\uc7a5\\ub2d8\\ub3c4 \\uce5c\\uc808\\ud558\\uc2dc\\uace0 \\uc7ac\\ubc29\\ubb38 \\uc758 1000 \\ubc18\\ubc18\\uce58\\ud0a8 \\ub9ac \\uae54\\ub054 \\uc7a1\\ub0b4 \\uc5c6\\uace0 \\uc5b4\\ub9b4\\ub54c \\uba39\\ub358 \\ucd94\\uc5b5\\uc758 \\uccb4 \\ud504\\ub80c\\ucc28\\uc774\\uc988\\uc5d0\\uc11c\\ub294 \\ucc3e\\uc744\\uc218 \\uc5c6\\ub294 \\uc9c0\\uc778\\ub2e8\\uace8\\uc9d1\\uc774\\ub77c \\uac00\\uac8c\\ub410\\uc5b4\\uc694\\uc9c0\\uc778\\uc774 \\uc544\\ud604\\ub3d9 \\uc0ac\\ub294\\ub370 \\uc2dc\\uc7a5\\uac00\\ub2e4\\uac00 \\ub108\\ubb34 \\uadc0\\uc5ec\\uc6b4 \\uce90\\ub9ad\\ud130\\uc5d0 \\uae54\\ub054\\ud55c \\uacf3\\uc774 \\uc0dd\\uaca8\\uc11c \\ub4e4\\uc5b4\\uac00\\uac8c \\ub410\\ub2e4\\uace0 \\ud558\\ub354\\ub77c\\uad6c\\uc694\\uc800 \\uc6d0\\ub798 \\ub9ac\\ubdf0 \\uc774\\ub7f0\\uac70 \\uc5c4\\uccad \\uadc0\\ucc28\\ub098\\ud558\\ub294 \\uc0ac\\ub78c\\uc778\\ub370 \\ub118 \\ub9cc\\uc8c4\\uc2a4\\ub7ec\\uc6cc \\uc0ac\\uc7a5\\ub2d8\\uaed8 \\uc601\\uc218\\uc99d \\uaf2d \\ub2ec\\ub77c\\uace0 \\ub9ac\\ubdf0 \\ub2d8\\uae30\\uaca0\\ub2e4\\uace0 \\ud588\\ub124\\uc694 \\uc6b0\\uc120 \\uc800\\ub141\\uc744 \\uc548\\uba39\\uace0 \\uac00\\uc11c \\uc694\\uae30\\ub420\\ub9cc\\ud55c \\uc548\\uc8fc\\ucc3e\\ub2e4\\uac00 \\uace8\\ubc45\\uc774\\ubb34\\uce68\\uc774\\ub791 \\ub2ed\\ub625\\uc9d1\\ud280\\uae40 \\uc14b\\ub69c \\ucd94\\ucc9c\\ud574\\uc8fc\\uc154\\uc11c \\uba39\\uc5c8\\ub294\\ub370 \\uc640\\uc774\\uac74 \\uc815\\ub9d0 jmt\\ub9ac\\ubdf0\\uc4f0\\ub294 \\uc9c0\\uae08\\ub3c4 \\uce68\\uace0\\uc774\\ub124\\uc694 \\uace8\\ubc45\\uc774 \\uc591\\ub150\\uc774 \\uc5ec\\uc220\\uc774\\uc5d0\\uc694\\uc9c4\\ud55c \\uc591\\ub150\\uc5d0 \\uc18c\\uba74 \\ube44\\ubcbc\\uba39\\uc73c\\ub2c8 \\uc0c8\\ucf64\\ub2ec\\ucf64 \\ub9db\\uc788\\uc5cf\\uad6c\\uc694 \\ub2ed\\ub625\\uc9d1\\ud280\\uae40\\ub3c4 \\uc815\\ub9d0 \\ub118 \\ucac4\\uae43\\ucac4\\uae43\\ud588\\ub2f5\\ub2c8\\ub2e4 \\uadf8\\ub9ac\\uace0 \\ub2e4\\uc74c\\uc548\\uc8fc\\ub85c\\ub294 \\ud30c\\ub51d\\uc744 \\uc2dc\\ucf30\\uc5b4\\uc694\\ud30c\\ub2ed\\uc18c\\uc2a4\\uc5d0 \\uc21c\\uc0b4\\uce58\\ud0a8\\uc744 \\ucc0d\\uc5b4 \\ud30c\\ub97c \\uc62c\\ub824\\uba39\\uc73c\\ub2c8 \\ub108\\ubb34 \\uc870\\ud654\\ub86d\\ub354\\ub77c\\uad6c\\uc694 \\uc2dc\\uc7a5\\uc548\\uc5d0 \\uc788\\uc5b4 \\ud654\\uc7a5\\uc2e4\\uc774 \\uac71\\uc815\\uc774\\uc5c8\\ub294\\ub370 \\ub108\\ubb34\\ub098 \\uae54\\ub054\\ud55c \\ud654\\uc7a5\\uc2e4\\uc774 \\uc2e4\\ub0b4\\uc5d0 \\uc788\\uc5b4 \\ub9d8\\uaecf \\ub9e5\\uc8fc\\ub97c \\ub4dc\\ub9c1\\ud0b9\\ud588\\ub2f5\\ub2c8\\ub2e4 \\uc544\\ud604\\uc2dc\\uc7a5 \\uc0dd \\uae30\\uac00\\ub9c9\\ud78c \\ud638\\ud504\\uc9d1 \\uc548 56 \\ud14c\\uc774\\ube14\\uc774\\uc9c0\\ub9cc \\uc8fc\\ubc29\\uacfc \\ubd84\\ub9ac\\ub418\\uc5b4 \\ub0c4 \\uc5c6\\uace0 \\uc870\\uc6a9\\ud574\\uc11c \\uc544\\ub291\\ud55c \\ubd84\\uc704\\uae30 \\uc0ac\\uc7a5\\ub2d8 \\uce5c\\uc808 \\uc815\\uac10\\uc788\\ub294 \\ud638\\ud504\\uc9d1 \\uce58\\ud0a8\\uc774 \\uc720\\uba85\\ud55c \\ub4ef \\ud558\\ub098 \\uace8\\ubc45\\uc774\\uc18c\\uba74\\ub9cc \\uba39\\uc5c8\\ub294\\ub370 \\ub300\\ub9cc\\uc871 \\uc54c\\ub730\\ud788 \\uc628\\ub204\\ub9ac\\uc0c1\\ud488\\uad8c \\uc0ac\\uc6a9\\ud560 \\uac83 \\uc77c\\ub2e8\\ub098\\ub294 \\ub9ac\\ubdf0\\ub97c \\uc798 \\uc548\\uc500 \\uadc0\\ucc2e\\uc544\\uc11c \\ud558\\uc9c0\\ub9cc\\uc9c4\\uc9dc \\uc9c4 \\uc88b\\uc558\\uc744\\ub54c\\ub9cc \\uc4f0\\ub294 \\uc2a4\\ud0c0\\uc77c\\uc784 \\uc774\\ubc88 \\ubaa8 \\uc7a5\\uc18c\\ub97c \\uc815\\ud55c \\uc11c\\uc6b8 \\uce5c\\uad6c\\ub294 \\uc13c\\uc2a4\\ub3c4 \\uc788\\uace0 \\uc74c\\uc2dd\\ub3c4 \\ucc38 \\uc798\\ud558\\ub294 \\uce5c\\uad6c\\ub77c\\uc11c \\uc774 \\uce5c\\uad6c\\uac00 \\uc5ec\\uae30 \\uc990\\uac81\\ub2e4\\ub77c\\ub294 \\uc9d1\\uc744 \\uac00\\uc790\\uace0 \\ud588\\uc744\\ub54c \\ud754\\ucf8c\\ud788 \\uc88b\\ub2e4\\uace0 \\ud588\\uc74c \\ub298 \\ucd94\\ucc9c\\uc7a5\\uc18c\\uac00 \\uad1c\\ucc2e\\uc558\\uae30\\ub54c\\ubb38 \\uc554\\ud2bc\\uc624\\uc790\\ub9c8\\uc790 \\uba54\\ub274\\ub97c \\ub9c9 \\uc2dc\\ud0b4 \\uc6b0\\ub9b0 \\uc220\\ubcf4\\ub2e4 \\uc548\\uc8fc\\ube68\\uc774\\ub77c\\uc11c 3\\uc778\\uc774\\ub370\\uba54\\ub274 4\\uac1c\\uc740 \\uae30\\ubcf8\\uc73c\\ub85c \\uae54\\uace0 \\uad74 \\uc6ec\\uac78 \\uc220\\uc9d1\\uc774 \\uc544\\ub2c8\\ub77c \\uc694\\ub9ac\\uc9d1\\uc5d0 \\uc628 \\ubd84 \\ud5a5\\ub77c\\uc0c8\\uc6b0\\uce58\\ud0a8 \\uc774\\uac70 \\ubb50\\uc784 \\ud2b9\\uc0c9\\uc788\\uace0 \\ub118 \\ub9db\\uc788\\uc74c \\uc5b4\\ubb35\\ud0d5\\uc740 \\uc65c\\uc774\\ub9ac \\uace0\\uae09\\uc9c4 \\ub9db\\uc77c\\uae4c \\ub9e5\\uc8fc\\uac00 \\uadf8\\ub0e5 \\uc220\\uc220 \\uc720\\ub9b0\\uad70\\ub9cc\\ub450 \\ube44\\ube54\\ub0a9\\uc791\\ub9cc\\ub450\\ub3c4\\uc544\\uc816\\uac00\\ub77d\\uc744 \\uba48\\ucd9c\\uc218 \\uc5c6\\uc74c \\uce5c\\uc808\\ud558\\uace0 \\uc778\\uc2ec\\uc88b\\uc740 \\uc5ec\\uc0ac\\uc7a5\\ub2d8 \\uc11c\\ube44\\uc2a4 \\uac10\\ub3d9 \\ubd88 \\uac08\\uaed8\\uc694 \\uac08\\uacf3\\uc5c6\\ub294 \\uc774\\uadfc\\ucc98 \\ub9e5\\uc8fc\\uc9d1\\uc911\\uc5d0\\uc11c \\ud0d1 \\uc0ac\\uc7a5\\ub2d8\\ub3c4 \\uce5c\\uc808\\ud558\\uc138\\uc694 \\uce5c\\uc808\\ud558\\uc2dc\\uace0 \\uc544\\ub291\\ud558\\uae30 \\ub300\\ud654\\ud558\\uae30 \\uc88b\\uc544\\uc6a9 \\ub2e4\\ub9cc \\uce58\\ud0a8\\uc740 \\uc21c\\uc0b4\\ub9cc \\uc788\\ub294\\ub370 \\uc880 \\ub0c9\\ub3d9\\uce58\\ud0a8\\uac19\\uc740 \\ub290\\ub08c\\uc774\\ub77c \\uae08 \\uc0b4\\uc774 \\uc788\\uace0 \\ud280\\uae40\\uc774 \\ubd80\\ub4dc\\ub7ec\\uc6b0\\uba74 \\ub354 \\uc88b\\uc744 \\uac83 \\uac19\\ub124\\uc694 \\ub3d9\\ud638\\ud68c\\ub9d8\\uc758 \\ucd94\\ucc9c\\uc73c\\ub85c \\uce5c\\uad6c\\ub4e4\\uacfc \\ucc3e\\uc544\\uac04 \\uacf3\\ucd94\\ucc9c\\ubc1b\\uc740 \\uacf3\\uc774\\uc600\\uae30\\uc5d0 \\ub9db\\uc5c6\\uc73c\\uba74 \\uc5b4\\uca4c\\uc9c0\\ud558\\uace0 \\ub0b4\\uc2ec\\uc870\\ub9c8\\uc870\\ub9c8\\ud558\\uace0 \\uac14\\uc9c0\\ub9cc \\uac00\\uc790\\ub9c8\\uc790 \\uac71\\uc815\\uc774 \\uc21c\\uc2dd\\uac04\\uc5d0 \\uc0ac\\ub77c\\uc84c\\uc2b5\\ub2c8\\ub2e4 \\ub2e4\\ub4e4 \\ub9db\\uc788\\ub2e4\\ub108\\ubb34\\uc88b\\ub2e4\\uac00\\uac8c\\uc774\\ub984\\ub370\\ub85c \\ub108\\ubb34 \\uc990\\uac81\\ub2e4\\ub77c\\ub294 \\uc598\\uae30\\ub97c \\ub4e4\\uc744\\uc218 \\uc788\\uc5c8\\uae30\\uc5d0 \\ub300\\ub9cc\\uc871\\ubaa8\\uc784\\uc744 \\uc990\\uacbc\\uc2b5\\ub2c8\\ub2e4 \\uc6b0\\uc120 \\ud68d\\uae30\\uc801\\uc778 \\uac00\\uac8c\\uba85\\uc990\\uac81\\ub2e4\\uac00\\uc131\\ube44 \\uc951\\uc774\\ub294 \\uba54\\ub274\\ub4e4 \\ub300\\ud45c\\uba54\\ub274\\ub4e4 \\ud558\\ub098\\uc529 \\ub2e4 \\uba39\\uc5b4\\ubcf4\\uc790\\ub294 \\uc758\\uacac\\uc5d0 \\ube44\\ube54\\ub0a9\\uc791\\ub9cc\\ub450\\uc5d0 \\ubc88\\ub370\\uae30\\ub3c4 \\uc544\\ub2cc \\ud53c\\ubd80\\uc5d0 \\uc88b\\uc740 \\ubed4\\ub370\\uae30\\ud0d5 \\uccad\\uc591\\uace0\\ucd94\\uc640 \\uc18c\\uc2a4\\uac00 \\uacc1\\ub4e4\\uc778 \\uc720\\ub9b0\\uad70\\ub9cc\\ub450 \\uc2e0\\uba54\\ub274\\ubcc4\\ud45c\\ub2e4\\uc12f\\uac1c \\ud5a5\\ub77c\\uc0c8\\uc6b0\\uce58\\ud0a8 \\ub204\\uad6c\\ub098 \\uc815\\uc2dd \\uc220\\uc548\\uc8fc \\uace8\\ubcb5\\uc774\\uc18c\\uba74 \\uaca8\\uc6b8\\ucca0 \\ub728\\ub048\\ud55c \\ubb3c \\uaf2c\\uce58 \\uc624\\ub385\\ud0d5 \\ub2ed\\ub625\\uc9d1\\ubcf6\\uc74c\\ub3c4 \\uc788\\uc9c0\\ub9cc \\uc774\\ubc88\\uc5d0\\ub294 \\ub2ed\\ub625\\uc9d1\\ud280\\uae40\\uc73c\\ub85c\\ubc30\\uac00 \\ubd80\\ub978\\ub2e4\\uc2f6\\uc73c\\uba74 \\ub9c8\\ub978\\uc548\\uc8fc\\uac00 \\ub300\\uae30 \\uace0\\ubbfc\\ub05d\\uc5d0 \\ud280\\uae40\\uc950\\ud3ec\\uc2dc\\ud0a4\\ub2c8 \\uc0ac\\uc7a5\\ub2d8\\uc758 \\uc950\\ud3ec\\uc11c\\ube44\\uc2a4\\uc694 \\uc640\\ud6c4\\ube44\\ub85d \\ubf51\\uae30\\ub294 5\\ub4f1\\uc774\\uc600\\uc9c0\\ub9cc \\uce5c\\uc808\\ud558\\uc2e0 \\uc0ac\\uc7a5\\ub2d8\\uacfc \\uae68\\ub057\\ud55c \\uc2e4\\ub0b4\\ud654\\uc7a5\\uc2e4\\uc9f1 \\ubc14\\ub85c \\uc9d1 \\uc55e\\uc5d0 \\uc544\\ub291\\ud55c \\uc220\\uc9d1\\uc774 \\uc0dd\\uaca8\\uc11c \\ud55c\\ubc88 \\ubc29\\ubb38\\ud588\\uc5c8\\ub294\\ub370 \\uc720\\ub9b0\\uae30 \\uad70\\ub9cc\\ub450\\uac00 \\uc9c4 \\ub108\\ubb34 \\ub9db\\uc788\\ub354\\ub77c\\uace0\\uc694 \\uc9d1\\uc5d0\\uc11c \\uc801 \\ub9c8\\uc2dc\\ub2e4\\uac00 \\uc0dd\\uac01\\ub098\\uc11c \\ud5a5\\ub77c\\uc0c8\\uc6b0\\uce58\\ud0a8 \\ud3ec\\uc7a5\\ud574 \\uc640\\uc11c \\ub9db\\uc788\\uac8c \\uba39\\uc5c8\\uc2b5\\ub2c8\\ub2e4 \\uac00\\uac8c\\ub294 \\uc791\\uc9c0\\ub9cc \\uc548\\uc8fc\\ub4e4\\uc774 \\ub3c5\\ud2b9\\ud558\\uace0 \\ud754\\ud558\\uc9c0 \\uc54a\\uc544\\uc11c \\ub9e4\\ub825\\uc801\\uc778 \\uc220\\uc9d1\\uc774\\uc5d0\\uc694 \\uc9d1\\uc55e\\uc5d0 \\uc774\\ub7f0 \\uc220\\uc9d1\\uc774 \\uc788\\uc73c\\ub2c8 \\uc4f0\\ub808\\ube60 \\ub178 \\ud3b8\\ud558\\uac8c \\uac00\\uae30\\uc5d0\\ub3c4 \\uc88b\\ub124\\uc694\"\n        ],\n        \"semantic_type\": \"\",\n        \"description\": \"\"\n      }\n    },\n    {\n      \"column\": \"keyword1\",\n      \"properties\": {\n        \"dtype\": \"number\",\n        \"std\": 0,\n        \"min\": 6,\n        \"max\": 6,\n        \"num_unique_values\": 1,\n        \"samples\": [\n          6\n        ],\n        \"semantic_type\": \"\",\n        \"description\": \"\"\n      }\n    },\n    {\n      \"column\": \"keyword2\",\n      \"properties\": {\n        \"dtype\": \"number\",\n        \"std\": 0,\n        \"min\": 19,\n        \"max\": 19,\n        \"num_unique_values\": 1,\n        \"samples\": [\n          19\n        ],\n        \"semantic_type\": \"\",\n        \"description\": \"\"\n      }\n    },\n    {\n      \"column\": \"keyword3\",\n      \"properties\": {\n        \"dtype\": \"number\",\n        \"std\": 0,\n        \"min\": 29,\n        \"max\": 29,\n        \"num_unique_values\": 1,\n        \"samples\": [\n          29\n        ],\n        \"semantic_type\": \"\",\n        \"description\": \"\"\n      }\n    },\n    {\n      \"column\": \"category_encoded\",\n      \"properties\": {\n        \"dtype\": \"number\",\n        \"std\": 0,\n        \"min\": 4,\n        \"max\": 4,\n        \"num_unique_values\": 1,\n        \"samples\": [\n          4\n        ],\n        \"semantic_type\": \"\",\n        \"description\": \"\"\n      }\n    },\n    {\n      \"column\": \"processed_review\",\n      \"properties\": {\n        \"dtype\": \"object\",\n        \"semantic_type\": \"\",\n        \"description\": \"\"\n      }\n    },\n    {\n      \"column\": \"review_enc\",\n      \"properties\": {\n        \"dtype\": \"object\",\n        \"semantic_type\": \"\",\n        \"description\": \"\"\n      }\n    }\n  ]\n}"
            }
          },
          "metadata": {},
          "execution_count": 85
        }
      ]
    },
    {
      "cell_type": "code",
      "source": [
        "expanded_df.head()"
      ],
      "metadata": {
        "colab": {
          "base_uri": "https://localhost:8080/",
          "height": 293
        },
        "id": "d_rN96eJWGkK",
        "outputId": "3572bf9d-7901-4a2b-bc92-6eb393aa4442"
      },
      "execution_count": 86,
      "outputs": [
        {
          "output_type": "execute_result",
          "data": {
            "text/plain": [
              "  category                                            reviews  keyword1  \\\n",
              "0    해산물요리  노포식당요즘 인기있는곳이래서 왔어요 주꾸미 삼겹 꽃게새우사리추가해서먹었는데요 양념맛...         6   \n",
              "1     고기요리  지나가는데 너무 예뻐서 술집인 줄 알았는데 알고 보니까 신촌 삼겹살 맛집이더라구요 ...         6   \n",
              "2      중식당  협력사들과 회의 끝내고 오찬 같이했네요 간만에 오니 새로운 메뉴도 생기고 사람이 많...         6   \n",
              "3     고기요리  이 리뷰는 업체로부터 무료 이용권을 제공 받은 대가로 작성한 솔직 후기입니다 우연히...         6   \n",
              "4       한식  생방송투데이와 맛의 승부사에도 방영될 정도로 검증된 유명한 핫플매장이더라구요 테라스...         6   \n",
              "\n",
              "   keyword2  keyword3  category_encoded  \\\n",
              "0        19        20                10   \n",
              "1         1        26                 0   \n",
              "2        14        29                 5   \n",
              "3        10        26                 0   \n",
              "4        10        21                 9   \n",
              "\n",
              "                                    processed_review  \\\n",
              "0  [노포, 식당, 요즘, 인기, 곳, 이래서, 오다, 주꾸미, 삼겹, 꽃게, 새우, ...   \n",
              "1  [지나가다, 너무, 예쁘다, 술집, 인, 줄, 알다, 알, 고, 보, 니까, 신촌,...   \n",
              "2  [협력, 회의, 끝내다, 오찬, 간만, 오니, 새롭다, 메뉴, 도, 생기, 고, 사...   \n",
              "3  [리뷰, 는, 업체, 로부터, 무료, 이용권, 제공, 받다, 대가, 작성, 한, 솔...   \n",
              "4  [생방송투데이, 맛, 승부사, 에도, 방영, 정도, 검증, 유명하다, 핫, 플, 매...   \n",
              "\n",
              "                                          review_enc  \n",
              "0  [1322, 194, 287, 712, 19, 4805, 9, 928, 1647, ...  \n",
              "1  [550, 5, 120, 313, 60, 309, 140, 211, 43, 530,...  \n",
              "2  [4818, 3968, 3001, 1104, 2691, 274, 27, 1, 269...  \n",
              "3  [161, 8, 2249, 3006, 654, 571, 124, 1501, 1176...  \n",
              "4  [6, 129, 3972, 91, 3412, 310, 1105, 1040, 45, ...  "
            ],
            "text/html": [
              "\n",
              "  <div id=\"df-e384437c-efa5-45d8-8673-992f002beeae\" class=\"colab-df-container\">\n",
              "    <div>\n",
              "<style scoped>\n",
              "    .dataframe tbody tr th:only-of-type {\n",
              "        vertical-align: middle;\n",
              "    }\n",
              "\n",
              "    .dataframe tbody tr th {\n",
              "        vertical-align: top;\n",
              "    }\n",
              "\n",
              "    .dataframe thead th {\n",
              "        text-align: right;\n",
              "    }\n",
              "</style>\n",
              "<table border=\"1\" class=\"dataframe\">\n",
              "  <thead>\n",
              "    <tr style=\"text-align: right;\">\n",
              "      <th></th>\n",
              "      <th>category</th>\n",
              "      <th>reviews</th>\n",
              "      <th>keyword1</th>\n",
              "      <th>keyword2</th>\n",
              "      <th>keyword3</th>\n",
              "      <th>category_encoded</th>\n",
              "      <th>processed_review</th>\n",
              "      <th>review_enc</th>\n",
              "    </tr>\n",
              "  </thead>\n",
              "  <tbody>\n",
              "    <tr>\n",
              "      <th>0</th>\n",
              "      <td>해산물요리</td>\n",
              "      <td>노포식당요즘 인기있는곳이래서 왔어요 주꾸미 삼겹 꽃게새우사리추가해서먹었는데요 양념맛...</td>\n",
              "      <td>6</td>\n",
              "      <td>19</td>\n",
              "      <td>20</td>\n",
              "      <td>10</td>\n",
              "      <td>[노포, 식당, 요즘, 인기, 곳, 이래서, 오다, 주꾸미, 삼겹, 꽃게, 새우, ...</td>\n",
              "      <td>[1322, 194, 287, 712, 19, 4805, 9, 928, 1647, ...</td>\n",
              "    </tr>\n",
              "    <tr>\n",
              "      <th>1</th>\n",
              "      <td>고기요리</td>\n",
              "      <td>지나가는데 너무 예뻐서 술집인 줄 알았는데 알고 보니까 신촌 삼겹살 맛집이더라구요 ...</td>\n",
              "      <td>6</td>\n",
              "      <td>1</td>\n",
              "      <td>26</td>\n",
              "      <td>0</td>\n",
              "      <td>[지나가다, 너무, 예쁘다, 술집, 인, 줄, 알다, 알, 고, 보, 니까, 신촌,...</td>\n",
              "      <td>[550, 5, 120, 313, 60, 309, 140, 211, 43, 530,...</td>\n",
              "    </tr>\n",
              "    <tr>\n",
              "      <th>2</th>\n",
              "      <td>중식당</td>\n",
              "      <td>협력사들과 회의 끝내고 오찬 같이했네요 간만에 오니 새로운 메뉴도 생기고 사람이 많...</td>\n",
              "      <td>6</td>\n",
              "      <td>14</td>\n",
              "      <td>29</td>\n",
              "      <td>5</td>\n",
              "      <td>[협력, 회의, 끝내다, 오찬, 간만, 오니, 새롭다, 메뉴, 도, 생기, 고, 사...</td>\n",
              "      <td>[4818, 3968, 3001, 1104, 2691, 274, 27, 1, 269...</td>\n",
              "    </tr>\n",
              "    <tr>\n",
              "      <th>3</th>\n",
              "      <td>고기요리</td>\n",
              "      <td>이 리뷰는 업체로부터 무료 이용권을 제공 받은 대가로 작성한 솔직 후기입니다 우연히...</td>\n",
              "      <td>6</td>\n",
              "      <td>10</td>\n",
              "      <td>26</td>\n",
              "      <td>0</td>\n",
              "      <td>[리뷰, 는, 업체, 로부터, 무료, 이용권, 제공, 받다, 대가, 작성, 한, 솔...</td>\n",
              "      <td>[161, 8, 2249, 3006, 654, 571, 124, 1501, 1176...</td>\n",
              "    </tr>\n",
              "    <tr>\n",
              "      <th>4</th>\n",
              "      <td>한식</td>\n",
              "      <td>생방송투데이와 맛의 승부사에도 방영될 정도로 검증된 유명한 핫플매장이더라구요 테라스...</td>\n",
              "      <td>6</td>\n",
              "      <td>10</td>\n",
              "      <td>21</td>\n",
              "      <td>9</td>\n",
              "      <td>[생방송투데이, 맛, 승부사, 에도, 방영, 정도, 검증, 유명하다, 핫, 플, 매...</td>\n",
              "      <td>[6, 129, 3972, 91, 3412, 310, 1105, 1040, 45, ...</td>\n",
              "    </tr>\n",
              "  </tbody>\n",
              "</table>\n",
              "</div>\n",
              "    <div class=\"colab-df-buttons\">\n",
              "\n",
              "  <div class=\"colab-df-container\">\n",
              "    <button class=\"colab-df-convert\" onclick=\"convertToInteractive('df-e384437c-efa5-45d8-8673-992f002beeae')\"\n",
              "            title=\"Convert this dataframe to an interactive table.\"\n",
              "            style=\"display:none;\">\n",
              "\n",
              "  <svg xmlns=\"http://www.w3.org/2000/svg\" height=\"24px\" viewBox=\"0 -960 960 960\">\n",
              "    <path d=\"M120-120v-720h720v720H120Zm60-500h600v-160H180v160Zm220 220h160v-160H400v160Zm0 220h160v-160H400v160ZM180-400h160v-160H180v160Zm440 0h160v-160H620v160ZM180-180h160v-160H180v160Zm440 0h160v-160H620v160Z\"/>\n",
              "  </svg>\n",
              "    </button>\n",
              "\n",
              "  <style>\n",
              "    .colab-df-container {\n",
              "      display:flex;\n",
              "      gap: 12px;\n",
              "    }\n",
              "\n",
              "    .colab-df-convert {\n",
              "      background-color: #E8F0FE;\n",
              "      border: none;\n",
              "      border-radius: 50%;\n",
              "      cursor: pointer;\n",
              "      display: none;\n",
              "      fill: #1967D2;\n",
              "      height: 32px;\n",
              "      padding: 0 0 0 0;\n",
              "      width: 32px;\n",
              "    }\n",
              "\n",
              "    .colab-df-convert:hover {\n",
              "      background-color: #E2EBFA;\n",
              "      box-shadow: 0px 1px 2px rgba(60, 64, 67, 0.3), 0px 1px 3px 1px rgba(60, 64, 67, 0.15);\n",
              "      fill: #174EA6;\n",
              "    }\n",
              "\n",
              "    .colab-df-buttons div {\n",
              "      margin-bottom: 4px;\n",
              "    }\n",
              "\n",
              "    [theme=dark] .colab-df-convert {\n",
              "      background-color: #3B4455;\n",
              "      fill: #D2E3FC;\n",
              "    }\n",
              "\n",
              "    [theme=dark] .colab-df-convert:hover {\n",
              "      background-color: #434B5C;\n",
              "      box-shadow: 0px 1px 3px 1px rgba(0, 0, 0, 0.15);\n",
              "      filter: drop-shadow(0px 1px 2px rgba(0, 0, 0, 0.3));\n",
              "      fill: #FFFFFF;\n",
              "    }\n",
              "  </style>\n",
              "\n",
              "    <script>\n",
              "      const buttonEl =\n",
              "        document.querySelector('#df-e384437c-efa5-45d8-8673-992f002beeae button.colab-df-convert');\n",
              "      buttonEl.style.display =\n",
              "        google.colab.kernel.accessAllowed ? 'block' : 'none';\n",
              "\n",
              "      async function convertToInteractive(key) {\n",
              "        const element = document.querySelector('#df-e384437c-efa5-45d8-8673-992f002beeae');\n",
              "        const dataTable =\n",
              "          await google.colab.kernel.invokeFunction('convertToInteractive',\n",
              "                                                    [key], {});\n",
              "        if (!dataTable) return;\n",
              "\n",
              "        const docLinkHtml = 'Like what you see? Visit the ' +\n",
              "          '<a target=\"_blank\" href=https://colab.research.google.com/notebooks/data_table.ipynb>data table notebook</a>'\n",
              "          + ' to learn more about interactive tables.';\n",
              "        element.innerHTML = '';\n",
              "        dataTable['output_type'] = 'display_data';\n",
              "        await google.colab.output.renderOutput(dataTable, element);\n",
              "        const docLink = document.createElement('div');\n",
              "        docLink.innerHTML = docLinkHtml;\n",
              "        element.appendChild(docLink);\n",
              "      }\n",
              "    </script>\n",
              "  </div>\n",
              "\n",
              "\n",
              "<div id=\"df-85f412d5-d2a6-4817-8ad5-d1460a420fa8\">\n",
              "  <button class=\"colab-df-quickchart\" onclick=\"quickchart('df-85f412d5-d2a6-4817-8ad5-d1460a420fa8')\"\n",
              "            title=\"Suggest charts\"\n",
              "            style=\"display:none;\">\n",
              "\n",
              "<svg xmlns=\"http://www.w3.org/2000/svg\" height=\"24px\"viewBox=\"0 0 24 24\"\n",
              "     width=\"24px\">\n",
              "    <g>\n",
              "        <path d=\"M19 3H5c-1.1 0-2 .9-2 2v14c0 1.1.9 2 2 2h14c1.1 0 2-.9 2-2V5c0-1.1-.9-2-2-2zM9 17H7v-7h2v7zm4 0h-2V7h2v10zm4 0h-2v-4h2v4z\"/>\n",
              "    </g>\n",
              "</svg>\n",
              "  </button>\n",
              "\n",
              "<style>\n",
              "  .colab-df-quickchart {\n",
              "      --bg-color: #E8F0FE;\n",
              "      --fill-color: #1967D2;\n",
              "      --hover-bg-color: #E2EBFA;\n",
              "      --hover-fill-color: #174EA6;\n",
              "      --disabled-fill-color: #AAA;\n",
              "      --disabled-bg-color: #DDD;\n",
              "  }\n",
              "\n",
              "  [theme=dark] .colab-df-quickchart {\n",
              "      --bg-color: #3B4455;\n",
              "      --fill-color: #D2E3FC;\n",
              "      --hover-bg-color: #434B5C;\n",
              "      --hover-fill-color: #FFFFFF;\n",
              "      --disabled-bg-color: #3B4455;\n",
              "      --disabled-fill-color: #666;\n",
              "  }\n",
              "\n",
              "  .colab-df-quickchart {\n",
              "    background-color: var(--bg-color);\n",
              "    border: none;\n",
              "    border-radius: 50%;\n",
              "    cursor: pointer;\n",
              "    display: none;\n",
              "    fill: var(--fill-color);\n",
              "    height: 32px;\n",
              "    padding: 0;\n",
              "    width: 32px;\n",
              "  }\n",
              "\n",
              "  .colab-df-quickchart:hover {\n",
              "    background-color: var(--hover-bg-color);\n",
              "    box-shadow: 0 1px 2px rgba(60, 64, 67, 0.3), 0 1px 3px 1px rgba(60, 64, 67, 0.15);\n",
              "    fill: var(--button-hover-fill-color);\n",
              "  }\n",
              "\n",
              "  .colab-df-quickchart-complete:disabled,\n",
              "  .colab-df-quickchart-complete:disabled:hover {\n",
              "    background-color: var(--disabled-bg-color);\n",
              "    fill: var(--disabled-fill-color);\n",
              "    box-shadow: none;\n",
              "  }\n",
              "\n",
              "  .colab-df-spinner {\n",
              "    border: 2px solid var(--fill-color);\n",
              "    border-color: transparent;\n",
              "    border-bottom-color: var(--fill-color);\n",
              "    animation:\n",
              "      spin 1s steps(1) infinite;\n",
              "  }\n",
              "\n",
              "  @keyframes spin {\n",
              "    0% {\n",
              "      border-color: transparent;\n",
              "      border-bottom-color: var(--fill-color);\n",
              "      border-left-color: var(--fill-color);\n",
              "    }\n",
              "    20% {\n",
              "      border-color: transparent;\n",
              "      border-left-color: var(--fill-color);\n",
              "      border-top-color: var(--fill-color);\n",
              "    }\n",
              "    30% {\n",
              "      border-color: transparent;\n",
              "      border-left-color: var(--fill-color);\n",
              "      border-top-color: var(--fill-color);\n",
              "      border-right-color: var(--fill-color);\n",
              "    }\n",
              "    40% {\n",
              "      border-color: transparent;\n",
              "      border-right-color: var(--fill-color);\n",
              "      border-top-color: var(--fill-color);\n",
              "    }\n",
              "    60% {\n",
              "      border-color: transparent;\n",
              "      border-right-color: var(--fill-color);\n",
              "    }\n",
              "    80% {\n",
              "      border-color: transparent;\n",
              "      border-right-color: var(--fill-color);\n",
              "      border-bottom-color: var(--fill-color);\n",
              "    }\n",
              "    90% {\n",
              "      border-color: transparent;\n",
              "      border-bottom-color: var(--fill-color);\n",
              "    }\n",
              "  }\n",
              "</style>\n",
              "\n",
              "  <script>\n",
              "    async function quickchart(key) {\n",
              "      const quickchartButtonEl =\n",
              "        document.querySelector('#' + key + ' button');\n",
              "      quickchartButtonEl.disabled = true;  // To prevent multiple clicks.\n",
              "      quickchartButtonEl.classList.add('colab-df-spinner');\n",
              "      try {\n",
              "        const charts = await google.colab.kernel.invokeFunction(\n",
              "            'suggestCharts', [key], {});\n",
              "      } catch (error) {\n",
              "        console.error('Error during call to suggestCharts:', error);\n",
              "      }\n",
              "      quickchartButtonEl.classList.remove('colab-df-spinner');\n",
              "      quickchartButtonEl.classList.add('colab-df-quickchart-complete');\n",
              "    }\n",
              "    (() => {\n",
              "      let quickchartButtonEl =\n",
              "        document.querySelector('#df-85f412d5-d2a6-4817-8ad5-d1460a420fa8 button');\n",
              "      quickchartButtonEl.style.display =\n",
              "        google.colab.kernel.accessAllowed ? 'block' : 'none';\n",
              "    })();\n",
              "  </script>\n",
              "</div>\n",
              "\n",
              "    </div>\n",
              "  </div>\n"
            ],
            "application/vnd.google.colaboratory.intrinsic+json": {
              "type": "dataframe",
              "variable_name": "expanded_df",
              "summary": "{\n  \"name\": \"expanded_df\",\n  \"rows\": 7370,\n  \"fields\": [\n    {\n      \"column\": \"category\",\n      \"properties\": {\n        \"dtype\": \"category\",\n        \"num_unique_values\": 11,\n        \"samples\": [\n          \"\\uae30\\ud0c0\\uc544\\uc2dc\\uc544\\uc74c\\uc2dd\",\n          \"\\ud574\\uc0b0\\ubb3c\\uc694\\ub9ac\",\n          \"\\ud328\\uc2a4\\ud2b8\\ud478\\ub4dc\\ubc0f\\ubd84\\uc2dd\"\n        ],\n        \"semantic_type\": \"\",\n        \"description\": \"\"\n      }\n    },\n    {\n      \"column\": \"reviews\",\n      \"properties\": {\n        \"dtype\": \"string\",\n        \"num_unique_values\": 6643,\n        \"samples\": [\n          \"\\uadfc\\ub798 \\uba39\\uc740 \\ubcf4\\ub07c\\uc911\\uc5d0 \\uc824 \\ub9db\\uc787\\uc5c7\\uc5b4\\uc694 \\ub9c9\\ucc3d\\ub4e4\\uc5b4\\uac04 \\ub5a1\\ubcf6\\uc774 \\uc2e0\\uae30\\ud574\\uc11c \\uc2dc\\ucf1c\\ubd24\\ub294\\ub370 \\ub5a1\\ubcf6\\uc774\\ub294 \\ub9db\\uc788\\ub294\\ub370 \\ub9c9\\ucc3d\\uc740 \\uc880 \\uc9dc\\uc694 \\uadfc\\ub370 \\ub9c9\\ucc3d \\ub9db\\uc740 \\ub098\\uc058\\uc9c4 \\uc54a\\uc544\\uc694 \\uad7f \\ub5a1\\uc774 \\uc870\\uae08 \\uc624\\ub798\\ub41c \\uac83\\uac19\\uc544\\uc694 \\uce58\\ud0a8\\uc774\\ub791 \\ud280\\uae40\\uc774\\ub791 \\ucc98\\uc74c \\uc2dc\\ucf1c\\ubd24\\ub294\\ub370 \\uce5c\\uc808\\ud574\\uc694 \\ub9c9\\ucc3d\\ub5a1\\ubcf6\\uc774 \\ucac0\\ub9db\\uc774\\uc5d0\\uc694 \\ub9c9\\ucc3d\\uc744 \\uc544\\uc8fc \\ubc14\\uc0ad\\ubc14\\uc0ad\\ud558\\uace0 \\uc9c4\\uc9dc \\ucd5c\\uace0 \\ub108\\ubb34 \\ub9db\\uc788\\uace0 \\uc790\\uc8fc \\uc2dc\\ucf1c \\uba39\\uace0\\uc788\\uc5b4\\uc694 \\uc0ac\\uc5c5\\ubc88\\ucc3d\\ud558\\uc138\\uc694\",\n          \"\\uc2e0\\ucd0c \\uc220\\uc9d1 \\uc12d\\ub835\\ud55c \\uc0ac\\ub78c\\uc785\\ub2c8\\ub2e4 \\ub9e8\\ub0a0 \\uc0c8\\ub85c\\uc6b4 \\uc220\\uc9d1 \\ub3c4\\uc804\\ud558\\ub294\\ub370 \\uc624\\ub298\\uc740 \\uc57c\\uc0dd\\ub9c8\\ubc29\\ubb38\\ud588\\uc5b4\\uc694 \\uac1c\\uc778\\uc5b4\\ubb35\\uaf2c\\uce58 \\ucd94\\uac00\\uac00\\ub2a5\\ud574\\uc11c \\ub9db\\uc788\\uac8c \\uba39\\uc5c8\\uace0\\uc694 \\uc57c\\ud0a4\\ud1a0\\ub9ac\\ub3c4 \\ub9db\\uc788\\uc5b4\\uc694 \\ucc3d\\uac00\\uc5d0\\uc11c \\uba39\\uc744\\uc218\\uc788\\uc5b4\\uc11c \\uc57c\\uc7a5\\ubd84\\uc704\\uae30\\ub3c4 \\uac00\\ub2a5\\ud55c \\uc220\\ub3c4 \\ud558\\uc774\\ubcfc\\ubd80\\ud130 \\ub9d0\\ub9ac\\ubd80 \\uae30\\ub9b0\\uc0dd\\ub9e5\\uc8fc \\uc0ac\\ucf00 \\ub4f1\\ub4f1 \\uc885\\ub958\\ub9ce\\uc544\\uc694 \\uc2e0\\ucd0c \\ubd84\\uc704\\uae30\\uc88b\\uc740 \\uc220\\uc9d1 \\ucc3e\\uc73c\\uc2e0\\ub2e4\\uba74 \\ucd94\\ucc9c\\ud569\\ub2c8\\ub2f9 \\uc2e0\\ucd0c\\uc5d0\\uc11c \\uc9c0\\ub098\\uac08 \\ubc14 \\ub9c8\\ub2e4 \\uc57c\\uc678\\ub85c \\ub098\\uac00\\uc788\\ub294 \\uc790\\ub9ac \\uc549\\uace0 \\uc2f6\\uc5c8\\ub294\\ub370 \\ub4dc\\ub514\\uc5b4 \\ubc29\\ubb38\\ud574\\ubd05\\ub2c8\\ub2e4 \\ubc24\\uc5d0 \\uc120\\uc120\\ud55c \\ub0a0\\uc528\\uc5d0 \\uc624\\ub385\\ubc14 \\ub531\\uc774\\uc5c8\\uc5b4\\uc694 \\ud558\\uc774\\ubcfc \\uc911 \\ud070 \\uac83\\ub3c4 \\ucd5c\\uace0 \\ub2e8 \\uc9c1\\uc6d0\\ubd84\\ub4e4\\uc774 \\ub108\\ubb34 \\uce5c\\uc808\\ud558\\uc168\\uad6c\\uc694 \\uc624\\ub385\\ub4e4 \\ub2e4 \\ub108\\ubb34 \\ub9db\\uc788\\uc5b4\\uc11c \\uac10\\ub3d9\\ubc1b\\uc558\\uc5b4\\uc6a9 \\uaf2c\\uce58\\ub958\\ub3c4 \\uc22f\\ubd88\\ud5a5\\uc774 \\uc798\\ub098\\uace0 \\ub354 \\uba39\\uace0 \\uc2f6\\uc5c8\\ub294\\ub370 \\ubc30\\ubd88\\ub7ec\\uc11c \\ubabb\\uba39\\uc740\\uac8c \\ud55c\\uc785\\ub2c8\\ub2e4 \\ud558\\uc774\\ubcfc\\uc774\\ub791 \\ud30c\\uc778\\uc560\\ud50c\\uc96c\\uc2a4\\ub3c4 \\ub9db\\uc788\\uc5b4\\uc11c \\ub2f4\\uc5d0 \\ub610 \\uc624\\ub824\\uad6c\\uc694 \\uc9c0\\ub098\\uac00\\ub2e4 \\ub178\\ub780\\uc0c9 \\uac04\\ud310\\uc774 \\ub208\\uc5d0 \\ub4e4\\uc5b4\\uc640 \\ub4e4\\uc5b4\\uc640 \\ubcf8\\uacf3 \\uaf2c\\uce58\\uc640 \\uc624\\ub385 \\uc885\\ub958\\ub3c4 \\ub9ce\\uace0 \\uc220\\ub3c4 \\ub2e4\\uc591\\ud558\\uac8c \\uc788\\uc5b4 \\uace8\\ub77c \\uba39\\ub294 \\uc7ac\\ubbf8\\uac00 \\uc788\\uc5c8\\uc5b4\\uc694 \\uac70\\uae30\\ub2e4 \\uaf2c\\uce58\\uc694\\ub9ac\\uac00 \\uc885\\ub958\\ub3c4 \\ub2e4\\uc591\\ud558\\uace0 \\ub108\\ubb34 \\ub9db\\uc788\\uc5b4\\uc11c \\ub180\\ub7ac\\uc5b4\\uc694 \\uc800\\ud76c\\ub294 \\ucc3d\\uac00 \\uc790\\ub9ac\\uc5d0 \\uc549\\uc558\\uc5c8\\ub294\\ub370 \\ucc3d\\ubb38\\uc774 \\ub2e4 \\uc624\\ud508 \\ub418\\uc5b4 \\uc788\\uc5b4\\uc11c \\uc2dc\\uc6d0\\ud558\\uace0 \\ubd84\\uc704\\uae30\\uac00 \\uc88b\\uc544\\uc11c \\uadf8\\ub7f0\\uc9c0 \\uc220\\ub9db\\uc774 \\ud55c\\uce35 \\ub354 \\uc5c5\\uadf8\\ub808\\uc774\\ub4dc \\ub418\\ub294 \\uae30\\ubd84\\uc774\\uc600\\uc5b4\\uc694 \\uc6b0\\uc5f0\\ud788 \\ubc1c\\uacac\\ud55c \\uc774\\uacf3 \\uc6b0 \\ucd5c\\uc560\\uc9d1 \\ub420\\ub4ef \\uc9c4\\uc2ec \\ubd84\\uc704\\uae30\\ub3c4 \\uc88b\\uace0 \\ud2b9\\ud788 \\ud45c\\uace0 \\uaf2c\\uce58 \\uc874\\ub9db\\ud0f1\\uc785\\ub2c8\\ub2e4 96\\uc778\\uc0dd \\ucc98\\uc74c \\ub9db\\ubcf4\\ub294 \\ud45c\\uace0 \\ub9db\\uc774\\uae34 \\ud574\\uc694 \\uc9c4\\uc2ec \\uac78 \\ucde8\\ud588\\ub0d0\\uace0\\uc694 \\uc7a5\\ub09c\\ud5c8\\uc138\\uc694 \\uc544\\ub2c8 \\ud45c\\uace0 \\ub9db\\uc774 \\ub290\\uaef4\\uc9c4\\ub2e4\\uace0\\uc694 \\uadf8\\ub9ac\\uace0 \\uc0ac \\uc678\\uc5d0\\ub3c4 \\uad6d \\ub5a0\\uba39\\ub294\\uac83\\ub3c4 \\ub808\\uc794\\ub450\\uace0 \\uaf2c\\uce58 \\uc138\\ud2b8 \\uad6c\\uc131\\ub3c4 \\ub108\\ubb34 \\uc54c\\ucc28\\uc694 \\uadfc\\ub370 \\uc2ec\\uc9c0\\uc5b4 \\uc9c1\\uc6d0\\ub4e4 \\uc778\\uc131\\uc774 \\ub108\\uc5b4\\uc5b4\\ubb34 \\uc88b\\uc2b5\\ub2c8\\ub2e4 \\ud0dc\\ud074 \\ubc14 \\uc640\\ubcf4\\ub358\\uac00 \\ubc18\\ubc15\\ubd88\\uac00 \\ud654\\uc774\\ud305 \\uc5ec\\uc790\\uce5c\\uad6c\\ub791 \\uc640\\uc11c \\ub108\\ubb34 \\ub9db\\uc788\\uac8c \\uba39\\uc5c8\\uc2b5\\ub2c8\\ub2e4\\ud2b9\\ud788 \\uc624\\ub385\\ubc14\\ub2f5\\uac8c \\uc624\\ub385\\uc774 \\ud004\\ub9ac\\ud2f0 \\uc88b\\uace0 \\ub9db\\uc788\\uc5b4\\uc694 \\uaf2c\\uce58\\ub294 \\ubd88\\ud5a5 \\ub09c \\uc544\\ub2c8\\uc5d0\\uc694 \\uc2e0\\ucd0c\\uc5d0 \\uc774\\ub7f0 \\uc624\\ub385\\ubc14\\uac00 \\uc788\\uc5b4\\uc11c \\ub108\\ubb34 \\uc88b\\uc2b5\\ub2c8\\ub2e4 \\uba54\\ub860\\uc0ac\\uc774\\ub2e4 \\uc9dc \\uac1c\\uc874\\ub9db \\uaf2c\\uce58\\uc9d1 \\ub9ce\\uc774 \\ub2e4\\ub140\\ubd24\\ub294\\ub370 \\ub9db\\uc774 \\uc5c4\\uccad \\uae54\\ub054\\ud558\\uace0 \\ub2f4\\ubc31\\ud574\\uc11c \\ub9db\\uc788\\uc5b4\\uc694 \\uc624\\ub385\\ub3c4 \\uac1c\\ubcc4\\uc801\\uc73c\\ub85c \\uc2dc\\ud0ac \\uc218 \\uc788\\uace0 \\ub9e5\\uc8fc\\ud558\\uc774\\ubcfc\\uc0ac\\ucf00 \\uc788\\uc5b4\\uc11c \\ub2e4\\uc591\\ud558\\uac8c \\ub9c8\\uc2e4 \\uc218 \\uc788\\uc5b4\\uc11c \\ub118 \\uc870\\uc544\\uc694 \\uc57c\\ud0a4\\ud1a0\\ub9ac\\ub791 \\uc624\\ub385\\uc138\\ud2b8 \\uac00\\uc131\\ube44\\ub108\\ubb34\\uc88b\\uace0 \\ud558\\uc774\\ubcfc\\ub3c4 \\uc800\\ub834\\ud574\\uc11c \\uae30\\ubd84\\uc88b\\uac8c \\ub9c8\\uc2dc\\uace0\\uc654\\uc5b4\\uc694 \\uac1c\\uc778 \\uaf2c\\uce58 \\uc5b4\\ubb35\\uc774\\ub77c \\uc704\\uc0dd\\uc801\\uc774\\uace0 \\uc88b\\uc544\\uc694 \\uba54\\ucd94\\ub9ac\\uaf2c\\uce58\\uac00 \\uc644\\uc804 \\uce58\\ud2b8\\ud0a4 \\ub108\\ubb34 \\ub9db\\uc787\\uc5b4\\uc6a9 \\uc548\\ucabd \\uc790\\ub9ac \\uc5d0\\uc5b4\\ucee8\\uc774 \\uac81\\ub098 \\ube75\\ube75\\ud574\\uc11c \\uc88b\\uc558\\ub294\\ub385 \\ub0a0 \\uc88b\\uc740\\ub0a0 \\uc57c\\uc678\\ub791 \\uc5f0\\uacb0\\ub418\\uc5b4\\uc788\\ub294 \\uc790\\ub9ac\\ub4c0 \\uacbd\\ud5d8\\ud574\\ubcf4\\uace0 \\uc2f6\\uc5b4\\uc735 \\uc774\\ub3d9\\ub124 \\uc5b4\\ubb35\\uc9d1 \\ub9ce\\uc774 \\uac14\\ub294\\ub370 \\uc5ec\\uae30\\ub3c4 \\ub118 \\ub9cc\\uc871\\uc2a4\\ub7fd\\ub124\\uc720 \\uc644\\uc804 \\ub9db\\uc788\\uc5b4\\uc694 \\ub450 \\ubc88\\uc9f8 \\ubc29\\ubb38\\uc778\\ub370 \\uc790 \\uc62c \\uac83 \\uac19\\uc544\\uc694 \\ubc84\\uc12f \\uc2eb\\ub7ec\\ud576\\ub294\\ub370 \\ub108\\ubb34 \\ub9db\\uc788\\ub124\\uc694 \\ub2e8\\uace8\\ub433\\uac83 \\uac19\\uc544\\uc694 \\uc0ac\\uc7a5\\ub2d8 \\ubc88\\ucc3d\\ud558\\uc138\\uc694 \\uc798 \\ub180\\ub2e4\\uac11\\ub2c8\\ub2e4 \\uc544 \\uae00\\uad6c \\uc74c\\uc2dd\\ub4e4 \\ub2e4 \\uc5c4\\uccad \\uc2e0\\uc120\\ud558\\uace0 \\ubd84\\uc704\\uae30\\ub3c4 \\uc88b\\uc558\\uc5b4\\uc694 \\uc54c\\ubc14\\uc0dd\\ubd84\\ub3c4 \\uc9f1\\uc9f1 \\uce5c\\uc808\\ud558\\uad6c \\uc77c\\ub3c4 \\uc798 \\ud558\\uc2dc\\uad6c \\ub4a4\\ub2a6\\uac8c \\uc2dd \\uc0ac\\uc9c4\\ub3c4 \\ucd94\\uac00\\ud588\\uc5b4\\uc694\",\n          \"\\ubc30\\ub2ec\\ub85c \\uc2dc\\ucf1c \\uba39\\uc740 \\uc801\\uc740 \\uc788\\uc5c8\\ub294\\ub370 \\ud640\\uc5d0\\uc11c\\ub294 \\ucc98\\uc74c \\uba39\\uc5b4\\ubd24\\uc2b5\\ub2c8\\ub2e4 \\uae54\\ub054\\ud558\\uace0 \\uc88b\\uc558\\ub124\\uc694 \\ub9c8\\ub77c\\uc0f9\\uad88 \\ub9f5\\uae30\\ub294 1\\ub2e8\\uacc4\\ub85c \\uad70\\ub9cc\\ub450\\ub791 \\ubcf6\\uc74c\\ubc25\\ub3c4 \\uc8fc\\ubb38\\ud588\\uc2b5\\ub2c8\\ub2e4 \\uc5ec\\ub7ec \\uc18c\\uc2a4\\ub098 \\uacf5\\uae30\\ubc25\\uc744 \\ubb34\\ub8cc\\ub85c \\uba39\\uc744 \\uc218 \\uc788\\ub294 \\uc7a5\\uc810\\ub3c4 \\uc788\\uc5c8\\ub124\\uc694 \\ubc30 \\ub9c8\\ub77c\\uc0f9\\uad88 \\ub9db\\ub3c4 \\uc88b\\uc558\\uace0 \\uad70\\ub9cc\\ub450\\ub3c4 \\uc9c4\\uc9dc \\ub9db\\uc788\\uc5c8\\uc5b4\\uc694 \\uc2dd\\uc0ac \\ud6c4\\uc2dd\\uc5d0\\ub294 \\uc544\\uc774\\uc2a4\\ud06c\\ub9bc\\uc744 1\\uac1c\\uc529 \\ubb34\\ub8cc\\ub85c \\uba39\\uc744 \\uc218 \\uc788\\ub294 \\uac83\\ub3c4 \\uc88b\\uc558\\ub124\\uc694 \\uc7ac\\ub8cc\\uac00 \\uc2e0\\uc120\\ud558\\uace0 \\ub9db\\uc788\\uc5b4\\uc694 \\uc815\\ub958\\uc7a5\\uacfc\\ub3c4 \\uac00\\uae4c\\uc6cc\\uc11c \\ubc29\\ubb38\\ud558\\uae30 \\uc26c\\uc6b4\\ub370 \\ub2e4\\uc74c\\uc5d0 \\ub610 \\uac08\\uac8c\\uc694 \\ub538\\uacfc \\ud568\\uaed8 \\ubc29\\ubb38\\ud588\\ub294\\ub370 \\ub9c8\\ub77c\\uc0c1\\uad88\\ub294 \\ucc98\\uc74c \\uba39\\uc5b4\\ubd24\\ub124\\uc694 \\ubc25\\uacfc \\ud568\\uaed8 \\uba39\\uc73c\\ub2c8 \\uac04\\ub3c4 \\uc591 \\ub9de\\uace0 \\uac10\\uce60 \\ub9db\\uc774 \\uc544\\uc8fc \\uc88b\\uc544\\uc694 \\uafd4\\ubc14\\ub85c\\uc6b0\\ub294 \\ucac4\\uae43\\ub2ec\\ub2ec \\uc544\\uc8fc \\ub9db\\uc788\\uc5b4\\uc694 \\uc7ac\\ubc29\\ubb38 \\uc758\\uc0ac 100\\ud37c \\ub9c8\\ub77c\\ud0d5 \\ucc98\\ub3cc\\uc778\\ub370 \\uba39\\uace0 \\ub098\\uba74 \\uaf2d \\ubc30\\uac00 \\uc544\\ud30c\\uc11c \\uc815\\ub9d0 \\uc624\\ub79c\\ub9cc\\uc5d0 \\uba39\\uc5c8\\uc5b4\\uc694 \\uc5ec\\uae30\\uac70\\ub294 1\\ub2e8\\uacc4\\ub85c \\uba39\\ub294\\ub370 \\uc800\\ud55c\\ud14c \\ub531 \\ub9e4\\ucf64\\ud558\\uace0 \\uc54c\\uc2f8\\ud55c\\ub370 \\ubc30\\ub3c4 \\uc548\\uc544\\ud30c\\uc694 \\ubc30 \\uadf8\\ub9ac\\uace0 \\uc7ac\\ub8cc\\uac00 \\ud56d\\uc0c1 \\uae54\\ub054\\ud558\\uac8c \\uc815\\ub9ac\\ub418\\uc5b4 \\uc788\\uc5b4\\uc11c \\ub298 \\ub9cc\\uc871\\uc2a4\\ub7ec\\uc6b4 \\uc2dd\\uc0ac\\ub97c \\ud558\\uac8c \\ubc30 \\ub3fc\\uc694 \\ubc88\\ucc3d\\ud558\\uc138\\uc694 \\ubc30\\ub2ec\\ub9cc \\ubc30 \\uc9d1 \\uc2dc\\ucf1c\\uba39\\ub2e4\\uac00 \\uc9c1\\uc811 \\uc640\\uc11c \\uba39\\uc5c8\\ub294\\ub370 \\ub118 \\ub9db\\uc788\\uc5b4\\uc694 \\uc790\\ub9ac\\ub3c4 \\ub113\\uc5b4\\uc11c \\ud3b8\\ud558\\uac8c \\uba39\\uc5c8\\uc2b5\\ub2c8\\ub2f9 \\ud55c\\uad6d\\uc778 \\uc785\\ub9db\\uc5d0 \\ub531\\ub9db\\ub294 \\ub9c8\\ub77c\\uc0f9\\uad88 \\uc18c \\ub108\\ubb34 \\ub9db\\uc788\\uac8c \\uba39\\uc5c8\\uc5b4\\uc694 \\ub9f5\\uae30\\uc870\\uc808 \\uac00\\ub2a5\\ud558\\uad6c\\uc694 \\ub9e4\\uc7a5\\uc774\\ub791 \\uc57c\\ucc44\\uad00\\ub9ac\\ub3c4 \\uae68\\ub057\\ud574\\uc11c \\uc88b\\uc544\\uc694 3\\ub144\\uc804\\ubd80\\ud130 \\uc9c0\\uae08\\uae4c\\uc9c0 \\uc7ac\\ubc29\\ubb38 \\uba87\\uc2ed\\ubc88\\uc9f8 \\uc4f4\\ub3c8\\ub3c4 \\uba87\\uc2ed\\ub9cc\\uc6d0 \\uc5ec\\uae30\\ub294 \\uc0f9\\uad88\\uac00 \\uc9c4\\uc9dc\\uc778 \\uacf3\\uc774\\uc5d0\\uc694 \\uc77c\\ubd80\\ub7ec \\ucc3e\\uc544\\uc624\\ub294 \\uc9d1\\uc784\\uc774 \\uc9d1\\uc774 \\uc720\\ub3c5 \\uc798\\ud574\\uc694 \\uc5ec\\uae30\\uc5d0\\uc11c \\uc0f9\\uad88 \\uba39\\uace0 \\ubc18\\ud574\\uc11c \\uc774\\uc820 \\ud53c\\uc288\\uc0f9\\uad88\\ub9cc \\ucc3e\\ub294\\uc0ac\\ub78c\\ub410\\uc5b4\\uc694 \\uc7ac\\uc791\\ub144\\uae4c\\uc9c0\\ub294 \\uc5ec\\uae30\\uc11c \\ub9e8\\ub0a0 \\ub9c8\\ub77c\\ud0d5\\ub9cc \\uba39\\uc5c8\\uc5c8\\ub294\\ub370 \\uc791\\ub144\\ubd80\\ud130 \\uc9c0\\uae08\\uae4c\\uc9c0 \\ub9e8\\ub0a0 \\uc0f9\\uad88\\ub9cc \\uba39\\uc2b5\\ub2c8\\ub2e4 \\uc6d0\\ub798 \\ud56d\\uc0c1 \\uce5c\\uad6c\\ub791 \\uc640\\uc11c \\uc0f9\\uad88 \\uc2dc\\ucf1c\\uba39\\uc5c8\\ub294\\ub370 \\uc774\\uc81c\\ub294 \\uadf8\\ub0e5 \\uba39\\uace0\\uc2f6\\uc744\\ub54c \\ud63c\\uc790\\uc640\\uc11c \\ud55c\\uc811\\uc2dc \\ub2e4\\uba39\\uc5b4\\uc694 \\uadf8\\ub9ac\\uace0 \\uc0f9\\uad88\\uac00 \\ub108\\ubb34 \\uc18c\\uc2a4 \\ubc94\\ubc85\\uc774\\uba74 \\uba39\\uae30\\uc5d0 \\ubcc4\\ub85c\\uace0 \\ub118 \\uc801\\uc5b4\\ub3c4 \\ubcc4\\ub860\\ub370 \\uc5ec\\uae30\\ub294 \\uadf8 \\uc815\\ub3c4\\ub97c \\ub531 \\uc54c\\uc544\\uc694 \\uadf8\\ub798\\uc11c \\ub9db\\ub3c4 \\ubbf8\\ucce4\\uc5b4\\uc694 \\ud56d\\uc0c1 \\uc7ac\\ub8cc\\ub3c4 \\ub2e4 \\uc2e0\\uc120\\ud558\\uace0 \\ub9e4\\uc7a5\\uc774 \\uc644\\uc804 \\uae54\\ub054\\uadf8\\uc790\\uccb4 \\uc5b8\\uc81c\\ub098 \\ubbff\\uace0 \\uc624\\ub294 \\uc9d1 \\uc774\\uac74 \\ub2e8\\uace8\\uc758 \\uc9d1 \\ud301\\uc778\\ub370 \\uc9d1 \\ub545\\ucf69\\uc18c\\uc2a4 \\ub2ec\\ub77c\\uace0 \\uc694\\uccad\\ud574\\uc11c \\ucc0d\\uc5b4\\uba39\\uc5b4\\ubcf4\\uc138\\uc694 \\uace0\\uc18c\\ud55c\\ub9db\\uc774 \\ubbf8\\ucce4\\uc5b4\\uc694 \\uc61b\\ub0a0\\uc5d0\\ub294 \\ub9e4\\uc7a5\\uc5d0 \\uc788\\uc5c8\\ub294\\ub370 \\uc5b4\\ub290\\uc21c\\uac04 \\uc0ac\\ub77c\\uc838\\uc11c \\uc694\\uccad\\ud574\\uc57c\\uc918\\uc694 \\ud56d\\uc0c1 \\uc7ac\\ub8cc\\ub3c4 \\uc2e0\\uc120\\ud558\\uac8c \\uc900\\ube44\\ub418\\uc5b4\\uc788\\uace0 \\ub9db\\uc788\\uc5b4\\uc694 1\\ub2e8\\uacc4\\ub85c \\uba39\\uc73c\\uba74 \\ub9f5\\ucc14\\uc774\\ud55c\\ud14c \\ub531 \\uc88b\\uc544\\uc694 \\uc7ac\\ub8cc\\ub3c4 \\uae68\\ub057\\ud558\\uac8c \\uad00\\ub9ac\\ub3fc\\uc11c \\uc790\\uc8fc \\uac00\\uac8c \\ub3fc\\uc694 \\ub9c8\\ub77c\\ud0d5\\uc740 \\uc5ec\\uae30\\uc11c\\ub9cc \\uba39\\uc5b4\\uc694 \\ub9f5\\uae30\\ub3c4 \\uc9d1 \\uc801\\ub2f9\\ud558\\uace0 \\uc591\\ub3c4 \\ub9ce\\uc544\\uc694 \\ub298 \\ub9db\\uc788\\uac8c \\uba39\\uace0\\uc788\\uc2b5\\ub2c8\\ub2e4\"\n        ],\n        \"semantic_type\": \"\",\n        \"description\": \"\"\n      }\n    },\n    {\n      \"column\": \"keyword1\",\n      \"properties\": {\n        \"dtype\": \"number\",\n        \"std\": 2,\n        \"min\": 0,\n        \"max\": 15,\n        \"num_unique_values\": 16,\n        \"samples\": [\n          6,\n          1,\n          12\n        ],\n        \"semantic_type\": \"\",\n        \"description\": \"\"\n      }\n    },\n    {\n      \"column\": \"keyword2\",\n      \"properties\": {\n        \"dtype\": \"number\",\n        \"std\": 7,\n        \"min\": 0,\n        \"max\": 23,\n        \"num_unique_values\": 24,\n        \"samples\": [\n          11,\n          8,\n          19\n        ],\n        \"semantic_type\": \"\",\n        \"description\": \"\"\n      }\n    },\n    {\n      \"column\": \"keyword3\",\n      \"properties\": {\n        \"dtype\": \"number\",\n        \"std\": 10,\n        \"min\": 0,\n        \"max\": 30,\n        \"num_unique_values\": 31,\n        \"samples\": [\n          24,\n          3,\n          10\n        ],\n        \"semantic_type\": \"\",\n        \"description\": \"\"\n      }\n    },\n    {\n      \"column\": \"category_encoded\",\n      \"properties\": {\n        \"dtype\": \"number\",\n        \"std\": 2,\n        \"min\": 0,\n        \"max\": 10,\n        \"num_unique_values\": 11,\n        \"samples\": [\n          1,\n          10,\n          7\n        ],\n        \"semantic_type\": \"\",\n        \"description\": \"\"\n      }\n    },\n    {\n      \"column\": \"processed_review\",\n      \"properties\": {\n        \"dtype\": \"object\",\n        \"semantic_type\": \"\",\n        \"description\": \"\"\n      }\n    },\n    {\n      \"column\": \"review_enc\",\n      \"properties\": {\n        \"dtype\": \"object\",\n        \"semantic_type\": \"\",\n        \"description\": \"\"\n      }\n    }\n  ]\n}"
            }
          },
          "metadata": {},
          "execution_count": 86
        }
      ]
    },
    {
      "cell_type": "code",
      "source": [
        "expanded_df.shape"
      ],
      "metadata": {
        "colab": {
          "base_uri": "https://localhost:8080/"
        },
        "id": "mmoQxdMtUsxK",
        "outputId": "95bf35b3-27a3-417a-adb8-37d8df3291b4"
      },
      "execution_count": 87,
      "outputs": [
        {
          "output_type": "execute_result",
          "data": {
            "text/plain": [
              "(7370, 8)"
            ]
          },
          "metadata": {},
          "execution_count": 87
        }
      ]
    },
    {
      "cell_type": "code",
      "source": [],
      "metadata": {
        "id": "DId0YMvrUvV_"
      },
      "execution_count": null,
      "outputs": []
    },
    {
      "cell_type": "markdown",
      "source": [
        "# TF-IDF 적용"
      ],
      "metadata": {
        "id": "p2oJMwlgWup7"
      }
    },
    {
      "cell_type": "code",
      "source": [
        "# TF-IDF 사용\n",
        "tfidf_vectorizer = TfidfVectorizer(\n",
        "    ngram_range=(1, 2),  #1개짜리랑 bigram\n",
        "    stop_words=new_stopwords,  #불용어 지정\n",
        "    max_df=0.95,  #95% 이상의 문서에 등장하는 단어 무시\n",
        "    min_df=2,  #2개 이상의 문서에 등장하는 단어만 사용\n",
        ")\n",
        "tfidf_matrix = tfidf_vectorizer.fit_transform(expanded_df['reviews'])\n",
        "print(\"TF-IDF Matrix:\\n\", tfidf_matrix.toarray())\n"
      ],
      "metadata": {
        "colab": {
          "base_uri": "https://localhost:8080/"
        },
        "outputId": "65a8872d-14b3-4a7c-a8d0-859d90b3bbd0",
        "id": "l-__VZOlWup8"
      },
      "execution_count": 93,
      "outputs": [
        {
          "output_type": "stream",
          "name": "stdout",
          "text": [
            "TF-IDF Matrix:\n",
            " [[0. 0. 0. ... 0. 0. 0.]\n",
            " [0. 0. 0. ... 0. 0. 0.]\n",
            " [0. 0. 0. ... 0. 0. 0.]\n",
            " ...\n",
            " [0. 0. 0. ... 0. 0. 0.]\n",
            " [0. 0. 0. ... 0. 0. 0.]\n",
            " [0. 0. 0. ... 0. 0. 0.]]\n"
          ]
        }
      ]
    },
    {
      "cell_type": "code",
      "source": [
        "X_train, X_test, y_train, y_test = train_test_split(tfidf_matrix, expanded_df['keyword2'], test_size = 0.2, random_state = 0)"
      ],
      "metadata": {
        "id": "nO9IEMD_Wup9"
      },
      "execution_count": 94,
      "outputs": []
    },
    {
      "cell_type": "code",
      "source": [
        "rf = RandomForestClassifier()\n",
        "rf.fit(X_train, y_train)\n",
        "pred = rf.predict(X_test)\n",
        "print(accuracy_score(y_test, pred))"
      ],
      "metadata": {
        "colab": {
          "base_uri": "https://localhost:8080/"
        },
        "outputId": "3493f2a5-72f9-4cae-a747-cb59685832d5",
        "id": "WpSdp_--Wup9"
      },
      "execution_count": 95,
      "outputs": [
        {
          "output_type": "stream",
          "name": "stdout",
          "text": [
            "1.0\n"
          ]
        }
      ]
    },
    {
      "cell_type": "code",
      "source": [
        "#오차 행렬 시각화\n",
        "cm = confusion_matrix(y_test, pred)\n",
        "cm_matrix = pd.DataFrame(data=cm)\n",
        "\n",
        "\n",
        "sns.heatmap(cm_matrix, annot=True, fmt='d', cmap='YlGn')"
      ],
      "metadata": {
        "colab": {
          "base_uri": "https://localhost:8080/",
          "height": 452
        },
        "outputId": "7e06de4b-b289-4baf-c2e2-79265561b1e1",
        "id": "mCngWAIjWup9"
      },
      "execution_count": 96,
      "outputs": [
        {
          "output_type": "execute_result",
          "data": {
            "text/plain": [
              "<Axes: >"
            ]
          },
          "metadata": {},
          "execution_count": 96
        },
        {
          "output_type": "display_data",
          "data": {
            "text/plain": [
              "<Figure size 640x480 with 2 Axes>"
            ],
            "image/png": "[encoded data removed]"
          },
          "metadata": {}
        }
      ]
    },
    {
      "cell_type": "markdown",
      "source": [
        "이거 뭔가 제가 단단히 잘못한 것 같은데 혹시 뭔가 오류점 발견하시면 꼭 말씀해주세요... 😢😢😢"
      ],
      "metadata": {
        "id": "Saorna2SXdPN"
      }
    },
    {
      "cell_type": "markdown",
      "source": [
        "# Word2Vec 적용"
      ],
      "metadata": {
        "id": "Yw4yNXGnWup-"
      }
    },
    {
      "cell_type": "code",
      "source": [
        "from gensim.models import Word2Vec\n",
        "from nltk.tokenize import word_tokenize\n",
        "\n",
        "#토큰화\n",
        "tokenized_reviews = [word_tokenize(review) for review in expanded_df['reviews']]\n",
        "\n",
        "#Word2Vec\n",
        "model = Word2Vec(tokenized_reviews, vector_size=100, window=5, min_count=1, workers=4)\n",
        "\n",
        "#리뷰 벡터화\n",
        "def get_average_vector(review):\n",
        "    vectors = [model.wv[word] for word in review if word in model.wv]\n",
        "    return np.mean(vectors, axis=0) if vectors else np.zeros(100)\n",
        "\n",
        "X = np.array([get_average_vector(review) for review in tokenized_reviews])\n",
        "X_train, X_test, y_train, y_test = train_test_split(X, expanded_df['keyword2'], test_size=0.2, random_state=42)\n",
        "\n",
        "# RandomForestClassifier 모델 학습\n",
        "clf = RandomForestClassifier()\n",
        "clf.fit(X_train, y_train)\n",
        "y_pred = clf.predict(X_test)\n",
        "print(accuracy_score(y_test, y_pred))"
      ],
      "metadata": {
        "colab": {
          "base_uri": "https://localhost:8080/"
        },
        "outputId": "40bac196-d7fb-4204-f384-a88feee3113a",
        "id": "dBwSzBUkWup-"
      },
      "execution_count": 97,
      "outputs": [
        {
          "output_type": "stream",
          "name": "stdout",
          "text": [
            "0.9993215739484396\n"
          ]
        }
      ]
    },
    {
      "cell_type": "code",
      "source": [
        "#오차 행렬 시각화\n",
        "cm = confusion_matrix(y_test, y_pred)\n",
        "cm_matrix = pd.DataFrame(data=cm)\n",
        "\n",
        "\n",
        "sns.heatmap(cm_matrix, annot=True, fmt='d', cmap='YlGn')"
      ],
      "metadata": {
        "colab": {
          "base_uri": "https://localhost:8080/",
          "height": 452
        },
        "outputId": "ed2695e6-df01-4eb5-a01c-0cf8002ace53",
        "id": "BpMrsYoKWup_"
      },
      "execution_count": 98,
      "outputs": [
        {
          "output_type": "execute_result",
          "data": {
            "text/plain": [
              "<Axes: >"
            ]
          },
          "metadata": {},
          "execution_count": 98
        },
        {
          "output_type": "display_data",
          "data": {
            "text/plain": [
              "<Figure size 640x480 with 2 Axes>"
            ],
            "image/png": "[encoded data removed]"
          },
          "metadata": {}
        }
      ]
    },
    {
      "cell_type": "markdown",
      "source": [
        "# FastText 적용"
      ],
      "metadata": {
        "id": "fO4BSygxWup_"
      }
    },
    {
      "cell_type": "code",
      "source": [
        "from gensim.models import FastText\n",
        "from nltk.tokenize import word_tokenize\n",
        "\n",
        "#토큰화\n",
        "tokenized_reviews = [word_tokenize(review) for review in expanded_df['reviews']]\n",
        "\n",
        "#FastText 모델\n",
        "model = FastText(tokenized_reviews, vector_size=100, window=5, min_count=1, workers=4)\n",
        "\n",
        "#리뷰 벡터화 위의 Word2Vec과 같이 사용\n",
        "def get_average_vector(review):\n",
        "    vectors = [model.wv[word] for word in review if word in model.wv]\n",
        "    return np.mean(vectors, axis=0) if vectors else np.zeros(100)\n",
        "\n",
        "X = np.array([get_average_vector(review) for review in tokenized_reviews])\n",
        "\n",
        "# Train-Test Split\n",
        "X_train, X_test, y_train, y_test = train_test_split(X, expanded_df['keyword2'], test_size=0.2, random_state=42)\n",
        "\n",
        "# RandomForestClassifier 모델 학습 및 평가\n",
        "clf = RandomForestClassifier()\n",
        "clf.fit(X_train, y_train)\n",
        "y_pred = clf.predict(X_test)\n",
        "print('FastText Accuracy:', accuracy_score(y_test, y_pred))\n"
      ],
      "metadata": {
        "colab": {
          "base_uri": "https://localhost:8080/"
        },
        "outputId": "091a9a78-a78c-403f-fc6a-adbb967de82b",
        "id": "1gzK7VrDWup_"
      },
      "execution_count": 100,
      "outputs": [
        {
          "output_type": "stream",
          "name": "stdout",
          "text": [
            "FastText Accuracy: 0.9993215739484396\n"
          ]
        }
      ]
    },
    {
      "cell_type": "code",
      "source": [
        "#오차 행렬 시각화\n",
        "cm = confusion_matrix(y_test, y_pred)\n",
        "cm_matrix = pd.DataFrame(data=cm)\n",
        "\n",
        "\n",
        "sns.heatmap(cm_matrix, annot=True, fmt='d', cmap='YlGn')"
      ],
      "metadata": {
        "colab": {
          "base_uri": "https://localhost:8080/",
          "height": 452
        },
        "outputId": "76745015-6640-41d2-f424-b1e08042cf12",
        "id": "oS9Rvn22WuqA"
      },
      "execution_count": 101,
      "outputs": [
        {
          "output_type": "execute_result",
          "data": {
            "text/plain": [
              "<Axes: >"
            ]
          },
          "metadata": {},
          "execution_count": 101
        },
        {
          "output_type": "display_data",
          "data": {
            "text/plain": [
              "<Figure size 640x480 with 2 Axes>"
            ],
            "image/png": "[encoded data removed]"
          },
          "metadata": {}
        }
      ]
    },
    {
      "cell_type": "code",
      "source": [],
      "metadata": {
        "id": "B-pjxnRhYoTP"
      },
      "execution_count": null,
      "outputs": []
    }
  ]
}