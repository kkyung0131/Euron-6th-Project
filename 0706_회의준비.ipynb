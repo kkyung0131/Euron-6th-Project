{
  "nbformat": 4,
  "nbformat_minor": 0,
  "metadata": {
    "colab": {
      "provenance": [],
      "authorship_tag": "ABX9TyNWBDCn+59vrtCzQ6ChHRDE"
    },
    "kernelspec": {
      "name": "python3",
      "display_name": "Python 3"
    },
    "language_info": {
      "name": "python"
    }
  },
  "cells": [
    {
      "cell_type": "markdown",
      "source": [
        "# 죄송합니다 😭\n",
        "web driver 자체의 문제는 아닌 것 같은데,  \n",
        "(google 링크로 시험해보니까 작동함)  \n",
        "계속 링크 자체가 가져와지질 않네요...  \n",
        "HTML에서 href 있는 부분의 class로 가져와도 안돼서 같은 기능하는 다른 부분으로 고치고 뜯고 하다가 결국 실패했습니다."
      ],
      "metadata": {
        "id": "yRbLV6bvP9yz"
      }
    },
    {
      "cell_type": "code",
      "source": [
        "!pip install selenium"
      ],
      "metadata": {
        "colab": {
          "base_uri": "https://localhost:8080/"
        },
        "id": "sOP8Jv84BZsR",
        "outputId": "9121ca90-35cd-4f3f-a7af-0669b26682fe"
      },
      "execution_count": 2,
      "outputs": [
        {
          "output_type": "stream",
          "name": "stdout",
          "text": [
            "Collecting selenium\n",
            "  Downloading selenium-4.22.0-py3-none-any.whl (9.4 MB)\n",
            "\u001b[2K     \u001b[90m━━━━━━━━━━━━━━━━━━━━━━━━━━━━━━━━━━━━━━━━\u001b[0m \u001b[32m9.4/9.4 MB\u001b[0m \u001b[31m28.8 MB/s\u001b[0m eta \u001b[36m0:00:00\u001b[0m\n",
            "\u001b[?25hRequirement already satisfied: urllib3[socks]<3,>=1.26 in /usr/local/lib/python3.10/dist-packages (from selenium) (2.0.7)\n",
            "Collecting trio~=0.17 (from selenium)\n",
            "  Downloading trio-0.26.0-py3-none-any.whl (475 kB)\n",
            "\u001b[2K     \u001b[90m━━━━━━━━━━━━━━━━━━━━━━━━━━━━━━━━━━━━━━━━\u001b[0m \u001b[32m475.7/475.7 kB\u001b[0m \u001b[31m12.9 MB/s\u001b[0m eta \u001b[36m0:00:00\u001b[0m\n",
            "\u001b[?25hCollecting trio-websocket~=0.9 (from selenium)\n",
            "  Downloading trio_websocket-0.11.1-py3-none-any.whl (17 kB)\n",
            "Requirement already satisfied: certifi>=2021.10.8 in /usr/local/lib/python3.10/dist-packages (from selenium) (2024.6.2)\n",
            "Requirement already satisfied: typing_extensions>=4.9.0 in /usr/local/lib/python3.10/dist-packages (from selenium) (4.12.2)\n",
            "Requirement already satisfied: websocket-client>=1.8.0 in /usr/local/lib/python3.10/dist-packages (from selenium) (1.8.0)\n",
            "Requirement already satisfied: attrs>=23.2.0 in /usr/local/lib/python3.10/dist-packages (from trio~=0.17->selenium) (23.2.0)\n",
            "Requirement already satisfied: sortedcontainers in /usr/local/lib/python3.10/dist-packages (from trio~=0.17->selenium) (2.4.0)\n",
            "Requirement already satisfied: idna in /usr/local/lib/python3.10/dist-packages (from trio~=0.17->selenium) (3.7)\n",
            "Collecting outcome (from trio~=0.17->selenium)\n",
            "  Downloading outcome-1.3.0.post0-py2.py3-none-any.whl (10 kB)\n",
            "Requirement already satisfied: sniffio>=1.3.0 in /usr/local/lib/python3.10/dist-packages (from trio~=0.17->selenium) (1.3.1)\n",
            "Requirement already satisfied: exceptiongroup in /usr/local/lib/python3.10/dist-packages (from trio~=0.17->selenium) (1.2.1)\n",
            "Collecting wsproto>=0.14 (from trio-websocket~=0.9->selenium)\n",
            "  Downloading wsproto-1.2.0-py3-none-any.whl (24 kB)\n",
            "Requirement already satisfied: pysocks!=1.5.7,<2.0,>=1.5.6 in /usr/local/lib/python3.10/dist-packages (from urllib3[socks]<3,>=1.26->selenium) (1.7.1)\n",
            "Collecting h11<1,>=0.9.0 (from wsproto>=0.14->trio-websocket~=0.9->selenium)\n",
            "  Downloading h11-0.14.0-py3-none-any.whl (58 kB)\n",
            "\u001b[2K     \u001b[90m━━━━━━━━━━━━━━━━━━━━━━━━━━━━━━━━━━━━━━━━\u001b[0m \u001b[32m58.3/58.3 kB\u001b[0m \u001b[31m3.8 MB/s\u001b[0m eta \u001b[36m0:00:00\u001b[0m\n",
            "\u001b[?25hInstalling collected packages: outcome, h11, wsproto, trio, trio-websocket, selenium\n",
            "Successfully installed h11-0.14.0 outcome-1.3.0.post0 selenium-4.22.0 trio-0.26.0 trio-websocket-0.11.1 wsproto-1.2.0\n"
          ]
        }
      ]
    },
    {
      "cell_type": "code",
      "source": [
        "#step1.selenium 패키지와 time 모듈 import\n",
        "from selenium import webdriver\n",
        "from selenium.webdriver.common.keys import Keys\n",
        "from selenium.webdriver.common.by import By\n",
        "import time\n",
        "import pandas as pd\n",
        "#step2.검색할 키워드 입력\n",
        "#query = input('검색할 키워드를 입력하세요: ')\n",
        "#애초에 링크를 이대 맛집을 검색한 네이버 플레이스로 지정\n",
        "\n",
        "#step3.크롬드라이버로 원하는 url로 접속\n",
        "from selenium import webdriver\n",
        "from selenium.webdriver.chrome.options import Options\n",
        "\n",
        "options = Options()\n",
        "\n",
        "options.add_argument(\"--headless\")\n",
        "options.add_argument('--no-sandbox')\n",
        "url = 'https://m.place.naver.com/restaurant/list?query=%EC%9D%B4%EB%8C%80%20%EB%A7%9B%EC%A7%91&x=126.9783882&y=37.5666103&level=top&entry=pll'\n",
        "driver = webdriver.Chrome(options = options)\n",
        "driver.get(url)\n",
        "time.sleep(3)\n",
        "\n",
        "#목록 펼치기\n",
        "#driver.find_element(By.XPATH, '//*[@id=\"_place_portal_root\"]/div/a').click()\n",
        "\n",
        "#time.sleep(2)\n",
        "\n",
        "#step4.스크롤 내려서 최대한 리뷰 가져오기\n",
        "#body = driver.find_element(By.CSS_SELECTOR, 'body').click()\n",
        "\n",
        "\n",
        "#body.send_keys(Keys.PAGE_DOWN)\n",
        "#body.send_keys(Keys.PAGE_DOWN)\n",
        "#body.send_keys(Keys.PAGE_DOWN)\n",
        "#body.send_keys(Keys.PAGE_DOWN)\n",
        "#body.send_keys(Keys.PAGE_DOWN)\n",
        "#time.sleep(1)\n",
        "\n",
        "\n",
        "#step6.뉴스 제목 텍스트 추출\n",
        "#_list_scroll_container > div > div > div.place_business_list_wrapper > ul > li:nth-child(3) > div.CHC5F > a.tzwk0 > div > div > span.place_bluelink.TYaxT\n",
        "name_stores = driver.find_elements(By.CLASS_NAME, \"tzwk0\")\n",
        "#<a href=\"/restaurant/1175110536/photo?entry=pll\" role=\"button\" class=\"ryHlJ\"><span class=\"aNsLA\"><svg xmlns=\"http://www.w3.org/2000/svg\" viewBox=\"0 0 13 13\" class=\"Gi6R0\" aria-hidden=\"true\"><path d=\"M7.6 11.9l-1-.9 3.9-3.9H.1V5.8h10.4L6.6 2l1-.9L13 6.6l-5.4 5.3z\"></path></svg></span>더보기</a>\n",
        "df = pd.DataFrame(columns = ('name', 'star', 'top5_keyword', 'reviews'))\n",
        "\n",
        "#step7.뉴스 하이퍼링크 추출\n",
        "link_list = []\n",
        "for i in name_stores:\n",
        "    href = i.get_attribute('href')\n",
        "    link_list.append(href)\n",
        "\n",
        "for i in range(len(link_list)):\n",
        "  driver = webdriver.Chrome()\n",
        "  driver.get(\"https://m.place.naver.com/\" + link_list[i])\n",
        "  time.sleep(3)\n",
        "\n",
        "  name = driver.find_elements(By.CLASS_NAME, \"GHAhO\")\n",
        "  star = driver.find_elements(By.CLASS_NAME, \"PXMot.LXIwF\")\n",
        "\n",
        "  driver.find_element_by_xpath('//*[@id=\"app-root\"]/div/div/div/div[4]/div/div/div/div/a[5]').click()\n",
        "  time.sleep(2)\n",
        "  top5_keyword = driver.find_elements(By.CLASS_NAME, \"t3JSf\")\n",
        "\n",
        "  reviews = driver.find_elements(By.CLASS_NAME, \"zPfVt\")\n",
        "  df.iloc[i] = [name, star, top5_keyword, reviews]"
      ],
      "metadata": {
        "id": "OckB8TfpwDXt"
      },
      "execution_count": 102,
      "outputs": []
    },
    {
      "cell_type": "code",
      "source": [
        "name_stores"
      ],
      "metadata": {
        "colab": {
          "base_uri": "https://localhost:8080/"
        },
        "id": "lCaux275HClE",
        "outputId": "81598e0c-5a01-4054-eefd-b4508fcbf4c9"
      },
      "execution_count": 103,
      "outputs": [
        {
          "output_type": "execute_result",
          "data": {
            "text/plain": [
              "[]"
            ]
          },
          "metadata": {},
          "execution_count": 103
        }
      ]
    },
    {
      "cell_type": "code",
      "source": [
        "df"
      ],
      "metadata": {
        "colab": {
          "base_uri": "https://localhost:8080/",
          "height": 89
        },
        "id": "I62gUa3QBVO1",
        "outputId": "45d62bd0-9461-4ad5-f84f-a43cd6a95d4c"
      },
      "execution_count": 104,
      "outputs": [
        {
          "output_type": "execute_result",
          "data": {
            "text/plain": [
              "Empty DataFrame\n",
              "Columns: [name, star, top5_keyword, reviews]\n",
              "Index: []"
            ],
            "text/html": [
              "\n",
              "  <div id=\"df-6037b79c-c9cc-4c90-891b-95c36ac46ef7\" class=\"colab-df-container\">\n",
              "    <div>\n",
              "<style scoped>\n",
              "    .dataframe tbody tr th:only-of-type {\n",
              "        vertical-align: middle;\n",
              "    }\n",
              "\n",
              "    .dataframe tbody tr th {\n",
              "        vertical-align: top;\n",
              "    }\n",
              "\n",
              "    .dataframe thead th {\n",
              "        text-align: right;\n",
              "    }\n",
              "</style>\n",
              "<table border=\"1\" class=\"dataframe\">\n",
              "  <thead>\n",
              "    <tr style=\"text-align: right;\">\n",
              "      <th></th>\n",
              "      <th>name</th>\n",
              "      <th>star</th>\n",
              "      <th>top5_keyword</th>\n",
              "      <th>reviews</th>\n",
              "    </tr>\n",
              "  </thead>\n",
              "  <tbody>\n",
              "  </tbody>\n",
              "</table>\n",
              "</div>\n",
              "    <div class=\"colab-df-buttons\">\n",
              "\n",
              "  <div class=\"colab-df-container\">\n",
              "    <button class=\"colab-df-convert\" onclick=\"convertToInteractive('df-6037b79c-c9cc-4c90-891b-95c36ac46ef7')\"\n",
              "            title=\"Convert this dataframe to an interactive table.\"\n",
              "            style=\"display:none;\">\n",
              "\n",
              "  <svg xmlns=\"http://www.w3.org/2000/svg\" height=\"24px\" viewBox=\"0 -960 960 960\">\n",
              "    <path d=\"M120-120v-720h720v720H120Zm60-500h600v-160H180v160Zm220 220h160v-160H400v160Zm0 220h160v-160H400v160ZM180-400h160v-160H180v160Zm440 0h160v-160H620v160ZM180-180h160v-160H180v160Zm440 0h160v-160H620v160Z\"/>\n",
              "  </svg>\n",
              "    </button>\n",
              "\n",
              "  <style>\n",
              "    .colab-df-container {\n",
              "      display:flex;\n",
              "      gap: 12px;\n",
              "    }\n",
              "\n",
              "    .colab-df-convert {\n",
              "      background-color: #E8F0FE;\n",
              "      border: none;\n",
              "      border-radius: 50%;\n",
              "      cursor: pointer;\n",
              "      display: none;\n",
              "      fill: #1967D2;\n",
              "      height: 32px;\n",
              "      padding: 0 0 0 0;\n",
              "      width: 32px;\n",
              "    }\n",
              "\n",
              "    .colab-df-convert:hover {\n",
              "      background-color: #E2EBFA;\n",
              "      box-shadow: 0px 1px 2px rgba(60, 64, 67, 0.3), 0px 1px 3px 1px rgba(60, 64, 67, 0.15);\n",
              "      fill: #174EA6;\n",
              "    }\n",
              "\n",
              "    .colab-df-buttons div {\n",
              "      margin-bottom: 4px;\n",
              "    }\n",
              "\n",
              "    [theme=dark] .colab-df-convert {\n",
              "      background-color: #3B4455;\n",
              "      fill: #D2E3FC;\n",
              "    }\n",
              "\n",
              "    [theme=dark] .colab-df-convert:hover {\n",
              "      background-color: #434B5C;\n",
              "      box-shadow: 0px 1px 3px 1px rgba(0, 0, 0, 0.15);\n",
              "      filter: drop-shadow(0px 1px 2px rgba(0, 0, 0, 0.3));\n",
              "      fill: #FFFFFF;\n",
              "    }\n",
              "  </style>\n",
              "\n",
              "    <script>\n",
              "      const buttonEl =\n",
              "        document.querySelector('#df-6037b79c-c9cc-4c90-891b-95c36ac46ef7 button.colab-df-convert');\n",
              "      buttonEl.style.display =\n",
              "        google.colab.kernel.accessAllowed ? 'block' : 'none';\n",
              "\n",
              "      async function convertToInteractive(key) {\n",
              "        const element = document.querySelector('#df-6037b79c-c9cc-4c90-891b-95c36ac46ef7');\n",
              "        const dataTable =\n",
              "          await google.colab.kernel.invokeFunction('convertToInteractive',\n",
              "                                                    [key], {});\n",
              "        if (!dataTable) return;\n",
              "\n",
              "        const docLinkHtml = 'Like what you see? Visit the ' +\n",
              "          '<a target=\"_blank\" href=https://colab.research.google.com/notebooks/data_table.ipynb>data table notebook</a>'\n",
              "          + ' to learn more about interactive tables.';\n",
              "        element.innerHTML = '';\n",
              "        dataTable['output_type'] = 'display_data';\n",
              "        await google.colab.output.renderOutput(dataTable, element);\n",
              "        const docLink = document.createElement('div');\n",
              "        docLink.innerHTML = docLinkHtml;\n",
              "        element.appendChild(docLink);\n",
              "      }\n",
              "    </script>\n",
              "  </div>\n",
              "\n",
              "\n",
              "  <div id=\"id_2d922941-f1c0-4a6f-b3b5-a5fed0f8bd0f\">\n",
              "    <style>\n",
              "      .colab-df-generate {\n",
              "        background-color: #E8F0FE;\n",
              "        border: none;\n",
              "        border-radius: 50%;\n",
              "        cursor: pointer;\n",
              "        display: none;\n",
              "        fill: #1967D2;\n",
              "        height: 32px;\n",
              "        padding: 0 0 0 0;\n",
              "        width: 32px;\n",
              "      }\n",
              "\n",
              "      .colab-df-generate:hover {\n",
              "        background-color: #E2EBFA;\n",
              "        box-shadow: 0px 1px 2px rgba(60, 64, 67, 0.3), 0px 1px 3px 1px rgba(60, 64, 67, 0.15);\n",
              "        fill: #174EA6;\n",
              "      }\n",
              "\n",
              "      [theme=dark] .colab-df-generate {\n",
              "        background-color: #3B4455;\n",
              "        fill: #D2E3FC;\n",
              "      }\n",
              "\n",
              "      [theme=dark] .colab-df-generate:hover {\n",
              "        background-color: #434B5C;\n",
              "        box-shadow: 0px 1px 3px 1px rgba(0, 0, 0, 0.15);\n",
              "        filter: drop-shadow(0px 1px 2px rgba(0, 0, 0, 0.3));\n",
              "        fill: #FFFFFF;\n",
              "      }\n",
              "    </style>\n",
              "    <button class=\"colab-df-generate\" onclick=\"generateWithVariable('df')\"\n",
              "            title=\"Generate code using this dataframe.\"\n",
              "            style=\"display:none;\">\n",
              "\n",
              "  <svg xmlns=\"http://www.w3.org/2000/svg\" height=\"24px\"viewBox=\"0 0 24 24\"\n",
              "       width=\"24px\">\n",
              "    <path d=\"M7,19H8.4L18.45,9,17,7.55,7,17.6ZM5,21V16.75L18.45,3.32a2,2,0,0,1,2.83,0l1.4,1.43a1.91,1.91,0,0,1,.58,1.4,1.91,1.91,0,0,1-.58,1.4L9.25,21ZM18.45,9,17,7.55Zm-12,3A5.31,5.31,0,0,0,4.9,8.1,5.31,5.31,0,0,0,1,6.5,5.31,5.31,0,0,0,4.9,4.9,5.31,5.31,0,0,0,6.5,1,5.31,5.31,0,0,0,8.1,4.9,5.31,5.31,0,0,0,12,6.5,5.46,5.46,0,0,0,6.5,12Z\"/>\n",
              "  </svg>\n",
              "    </button>\n",
              "    <script>\n",
              "      (() => {\n",
              "      const buttonEl =\n",
              "        document.querySelector('#id_2d922941-f1c0-4a6f-b3b5-a5fed0f8bd0f button.colab-df-generate');\n",
              "      buttonEl.style.display =\n",
              "        google.colab.kernel.accessAllowed ? 'block' : 'none';\n",
              "\n",
              "      buttonEl.onclick = () => {\n",
              "        google.colab.notebook.generateWithVariable('df');\n",
              "      }\n",
              "      })();\n",
              "    </script>\n",
              "  </div>\n",
              "\n",
              "    </div>\n",
              "  </div>\n"
            ],
            "application/vnd.google.colaboratory.intrinsic+json": {
              "type": "dataframe",
              "variable_name": "df",
              "repr_error": "Out of range float values are not JSON compliant: nan"
            }
          },
          "metadata": {},
          "execution_count": 104
        }
      ]
    },
    {
      "cell_type": "code",
      "source": [
        "link_list"
      ],
      "metadata": {
        "colab": {
          "base_uri": "https://localhost:8080/"
        },
        "id": "zM4cpgH7GdDH",
        "outputId": "fdad00e4-cfef-45c2-a579-cee0fe3b4978"
      },
      "execution_count": 105,
      "outputs": [
        {
          "output_type": "execute_result",
          "data": {
            "text/plain": [
              "[]"
            ]
          },
          "metadata": {},
          "execution_count": 105
        }
      ]
    },
    {
      "cell_type": "code",
      "source": [
        "options = Options()\n",
        "options.add_argument(\"--headless\")\n",
        "options.add_argument('--no-sandbox')\n",
        "\n",
        "driver = webdriver.Chrome(options=options)\n",
        "driver.get(\"https://www.google.com\")\n",
        "time.sleep(3)\n",
        "\n",
        "print(driver.title)\n",
        "\n",
        "driver.quit()"
      ],
      "metadata": {
        "colab": {
          "base_uri": "https://localhost:8080/"
        },
        "id": "vJKRMJ2xRBUf",
        "outputId": "066d1b17-d15f-456e-a3cf-12f668afdffc"
      },
      "execution_count": 70,
      "outputs": [
        {
          "output_type": "stream",
          "name": "stdout",
          "text": [
            "Google\n"
          ]
        }
      ]
    },
    {
      "cell_type": "code",
      "source": [
        "from selenium import webdriver\n",
        "from selenium.webdriver.common.keys import Keys\n",
        "from selenium.webdriver.common.by import By\n",
        "from selenium.webdriver.chrome.options import Options\n",
        "from selenium.webdriver.support.ui import WebDriverWait\n",
        "from selenium.webdriver.support import expected_conditions as EC\n",
        "import time\n",
        "import pandas as pd\n",
        "\n",
        "# Step 1: selenium 패키지와 time 모듈 import\n",
        "# Step 2: 검색할 키워드 입력\n",
        "# Step 3: 크롬드라이버로 원하는 url로 접속\n",
        "\n",
        "options = Options()\n",
        "options.add_argument(\"--headless\")\n",
        "options.add_argument('--no-sandbox')\n",
        "driver = webdriver.Chrome(options=options)\n",
        "url = 'https://m.place.naver.com/restaurant/list?query=%EC%9D%B4%EB%8C%80%20%EB%A7%9B%EC%A7%91&x=126.9783882&y=37.5666103&level=top&entry=pll'\n",
        "driver.get(url)\n",
        "time.sleep(3)\n",
        "\n",
        "# Step 4: 스크롤 내려서 최대한 리뷰 가져오기\n",
        "body = WebDriverWait(driver, 10).until(\n",
        "    EC.presence_of_element_located((By.CSS_SELECTOR, 'body'))\n",
        ")\n",
        "for _ in range(5):\n",
        "    body.send_keys(Keys.PAGE_DOWN)\n",
        "    time.sleep(1)\n",
        "\n",
        "# Step 6: 식당 이름 요소 추출\n",
        "name_stores = driver.find_elements(By.CLASS_NAME, \"rWLrK\")\n",
        "\n",
        "df = pd.DataFrame(columns=['name', 'star', 'top5_keyword', 'reviews'])\n",
        "\n",
        "# Step 7: 식당 링크 추출\n",
        "link_list = []\n",
        "for i in name_stores:\n",
        "    href = i.get_attribute('href')\n",
        "    link_list.append(href)\n",
        "\n",
        "# 웹드라이버 재사용\n",
        "for i in range(len(link_list)):\n",
        "    driver.get(\"https://m.place.naver.com\" + link_list[i])\n",
        "    time.sleep(3)\n",
        "\n",
        "    # 식당 이름\n",
        "    name = driver.find_element(By.CLASS_NAME, \"Fc1rA\").text\n",
        "\n",
        "    # 별점\n",
        "    star = driver.find_element(By.CLASS_NAME, \"PXMot\").text\n",
        "\n",
        "    # top5 키워드\n",
        "    top5_keyword_element = WebDriverWait(driver, 10).until(\n",
        "        EC.presence_of_all_elements_located((By.CLASS_NAME, \"t3JSf\"))\n",
        "    )\n",
        "    top5_keyword = [el.text for el in top5_keyword_element]\n",
        "\n",
        "    # 리뷰\n",
        "    reviews_element = WebDriverWait(driver, 10).until(\n",
        "        EC.presence_of_all_elements_located((By.CLASS_NAME, \"zPfVt\"))\n",
        "    )\n",
        "    reviews = [el.text for el in reviews_element]\n",
        "\n",
        "    df.loc[i] = [name, star, top5_keyword, reviews]\n",
        "\n",
        "# 브라우저 종료\n",
        "driver.quit()\n",
        "\n",
        "# 결과 출력\n",
        "print(df)\n"
      ],
      "metadata": {
        "colab": {
          "base_uri": "https://localhost:8080/"
        },
        "id": "2NO8UQ_OGhse",
        "outputId": "7b9cbd86-3e61-4c15-f22b-4729b9257eb8"
      },
      "execution_count": 58,
      "outputs": [
        {
          "output_type": "stream",
          "name": "stdout",
          "text": [
            "Empty DataFrame\n",
            "Columns: [name, star, top5_keyword, reviews]\n",
            "Index: []\n"
          ]
        }
      ]
    },
    {
      "cell_type": "code",
      "source": [
        "from selenium import webdriver\n",
        "from selenium.webdriver.common.keys import Keys\n",
        "from selenium.webdriver.common.by import By\n",
        "from selenium.webdriver.chrome.options import Options\n",
        "from selenium.webdriver.support.ui import WebDriverWait\n",
        "from selenium.webdriver.support import expected_conditions as EC\n",
        "import time\n",
        "import pandas as pd\n",
        "\n",
        "# Selenium 옵션 설정 (헤드리스 모드)\n",
        "options = Options()\n",
        "options.add_argument(\"--headless\")\n",
        "options.add_argument('--no-sandbox')\n",
        "\n",
        "# 웹 드라이버 설정 및 URL 접속\n",
        "driver = webdriver.Chrome(options=options)\n",
        "url = 'https://m.place.naver.com/restaurant/list?query=%EC%9D%B4%EB%8C%80%20%EB%A7%9B%EC%A7%91&x=126.9783882&y=37.5666103&level=top&entry=pll'\n",
        "driver.get(url)\n",
        "time.sleep(3)\n",
        "\n",
        "# 스크롤 내려서 더 많은 결과 가져오기\n",
        "body = WebDriverWait(driver, 10).until(EC.presence_of_element_located((By.CSS_SELECTOR, 'body')))\n",
        "for _ in range(5):\n",
        "    body.send_keys(Keys.PAGE_DOWN)\n",
        "    time.sleep(1)\n",
        "\n",
        "# 식당 정보 추출\n",
        "name_stores = driver.find_elements(By.XPATH, '//*[@id=\"_list_scroll_container\"]/div/div/div[2]/ul/li[3]/div[1]/a[1]')\n",
        "\n",
        "df = pd.DataFrame(columns=['name', 'star', 'top5_keyword', 'reviews'])\n",
        "\n",
        "# 식당 링크 추출\n",
        "link_list = [i.get_attribute('href') for i in name_stores]\n",
        "\n",
        "# 각 식당 페이지에서 정보 추출\n",
        "for i in range(len(link_list)):\n",
        "    driver.get(\"https://m.place.naver.com\" + link_list[i])\n",
        "    time.sleep(3)\n",
        "\n",
        "    # 식당 이름\n",
        "    name = driver.find_element(By.CLASS_NAME, \"Fc1rA\").text\n",
        "\n",
        "    # 별점\n",
        "    star = driver.find_element(By.CLASS_NAME, \"PXMot\").text\n",
        "\n",
        "    # top5 키워드\n",
        "    top5_keyword_elements = WebDriverWait(driver, 10).until(EC.presence_of_all_elements_located((By.CLASS_NAME, \"t3JSf\")))\n",
        "    top5_keywords = [el.text for el in top5_keyword_elements]\n",
        "\n",
        "    # 리뷰\n",
        "    review_elements = WebDriverWait(driver, 10).until(EC.presence_of_all_elements_located((By.CLASS_NAME, \"zPfVt\")))\n",
        "    reviews = [el.text for el in review_elements]\n",
        "\n",
        "    # 데이터프레임에 저장\n",
        "    df.loc[i] = [name, star, top5_keywords, reviews]\n",
        "\n",
        "# 브라우저 종료\n",
        "driver.quit()\n",
        "\n",
        "# 결과 출력\n",
        "print(df)\n"
      ],
      "metadata": {
        "colab": {
          "base_uri": "https://localhost:8080/",
          "height": 841
        },
        "id": "cqXhzhAiIUvg",
        "outputId": "003b031b-1d58-49ec-b8ca-0cd49c40663f"
      },
      "execution_count": 59,
      "outputs": [
        {
          "output_type": "error",
          "ename": "WebDriverException",
          "evalue": "Message: unknown error: net::ERR_NAME_NOT_RESOLVED\n  (Session info: chrome-headless-shell=126.0.6478.126)\nStacktrace:\n#0 0x5861de136c7a <unknown>\n#1 0x5861dde19e2c <unknown>\n#2 0x5861dde119c0 <unknown>\n#3 0x5861dde014c2 <unknown>\n#4 0x5861dde02b42 <unknown>\n#5 0x5861dde0177d <unknown>\n#6 0x5861dde00e93 <unknown>\n#7 0x5861dde00d85 <unknown>\n#8 0x5861dddfecc6 <unknown>\n#9 0x5861dddff1ca <unknown>\n#10 0x5861dde1c877 <unknown>\n#11 0x5861ddea8f25 <unknown>\n#12 0x5861dde895c2 <unknown>\n#13 0x5861ddea8303 <unknown>\n#14 0x5861dde89363 <unknown>\n#15 0x5861dde59247 <unknown>\n#16 0x5861dde59b9e <unknown>\n#17 0x5861de0fd24b <unknown>\n#18 0x5861de1012f1 <unknown>\n#19 0x5861de0e8afe <unknown>\n#20 0x5861de101e52 <unknown>\n#21 0x5861de0cd79f <unknown>\n#22 0x5861de126638 <unknown>\n#23 0x5861de126810 <unknown>\n#24 0x5861de135dac <unknown>\n#25 0x7d612c72aac3 <unknown>\n",
          "traceback": [
            "\u001b[0;31m---------------------------------------------------------------------------\u001b[0m",
            "\u001b[0;31mWebDriverException\u001b[0m                        Traceback (most recent call last)",
            "\u001b[0;32m<ipython-input-59-bd3eed1fe290>\u001b[0m in \u001b[0;36m<cell line: 36>\u001b[0;34m()\u001b[0m\n\u001b[1;32m     35\u001b[0m \u001b[0;31m# 각 식당 페이지에서 정보 추출\u001b[0m\u001b[0;34m\u001b[0m\u001b[0;34m\u001b[0m\u001b[0m\n\u001b[1;32m     36\u001b[0m \u001b[0;32mfor\u001b[0m \u001b[0mi\u001b[0m \u001b[0;32min\u001b[0m \u001b[0mrange\u001b[0m\u001b[0;34m(\u001b[0m\u001b[0mlen\u001b[0m\u001b[0;34m(\u001b[0m\u001b[0mlink_list\u001b[0m\u001b[0;34m)\u001b[0m\u001b[0;34m)\u001b[0m\u001b[0;34m:\u001b[0m\u001b[0;34m\u001b[0m\u001b[0;34m\u001b[0m\u001b[0m\n\u001b[0;32m---> 37\u001b[0;31m     \u001b[0mdriver\u001b[0m\u001b[0;34m.\u001b[0m\u001b[0mget\u001b[0m\u001b[0;34m(\u001b[0m\u001b[0;34m\"https://m.place.naver.com\"\u001b[0m \u001b[0;34m+\u001b[0m \u001b[0mlink_list\u001b[0m\u001b[0;34m[\u001b[0m\u001b[0mi\u001b[0m\u001b[0;34m]\u001b[0m\u001b[0;34m)\u001b[0m\u001b[0;34m\u001b[0m\u001b[0;34m\u001b[0m\u001b[0m\n\u001b[0m\u001b[1;32m     38\u001b[0m     \u001b[0mtime\u001b[0m\u001b[0;34m.\u001b[0m\u001b[0msleep\u001b[0m\u001b[0;34m(\u001b[0m\u001b[0;36m3\u001b[0m\u001b[0;34m)\u001b[0m\u001b[0;34m\u001b[0m\u001b[0;34m\u001b[0m\u001b[0m\n\u001b[1;32m     39\u001b[0m \u001b[0;34m\u001b[0m\u001b[0m\n",
            "\u001b[0;32m/usr/local/lib/python3.10/dist-packages/selenium/webdriver/remote/webdriver.py\u001b[0m in \u001b[0;36mget\u001b[0;34m(self, url)\u001b[0m\n\u001b[1;32m    361\u001b[0m     \u001b[0;32mdef\u001b[0m \u001b[0mget\u001b[0m\u001b[0;34m(\u001b[0m\u001b[0mself\u001b[0m\u001b[0;34m,\u001b[0m \u001b[0murl\u001b[0m\u001b[0;34m:\u001b[0m \u001b[0mstr\u001b[0m\u001b[0;34m)\u001b[0m \u001b[0;34m->\u001b[0m \u001b[0;32mNone\u001b[0m\u001b[0;34m:\u001b[0m\u001b[0;34m\u001b[0m\u001b[0;34m\u001b[0m\u001b[0m\n\u001b[1;32m    362\u001b[0m         \u001b[0;34m\"\"\"Loads a web page in the current browser session.\"\"\"\u001b[0m\u001b[0;34m\u001b[0m\u001b[0;34m\u001b[0m\u001b[0m\n\u001b[0;32m--> 363\u001b[0;31m         \u001b[0mself\u001b[0m\u001b[0;34m.\u001b[0m\u001b[0mexecute\u001b[0m\u001b[0;34m(\u001b[0m\u001b[0mCommand\u001b[0m\u001b[0;34m.\u001b[0m\u001b[0mGET\u001b[0m\u001b[0;34m,\u001b[0m \u001b[0;34m{\u001b[0m\u001b[0;34m\"url\"\u001b[0m\u001b[0;34m:\u001b[0m \u001b[0murl\u001b[0m\u001b[0;34m}\u001b[0m\u001b[0;34m)\u001b[0m\u001b[0;34m\u001b[0m\u001b[0;34m\u001b[0m\u001b[0m\n\u001b[0m\u001b[1;32m    364\u001b[0m \u001b[0;34m\u001b[0m\u001b[0m\n\u001b[1;32m    365\u001b[0m     \u001b[0;34m@\u001b[0m\u001b[0mproperty\u001b[0m\u001b[0;34m\u001b[0m\u001b[0;34m\u001b[0m\u001b[0m\n",
            "\u001b[0;32m/usr/local/lib/python3.10/dist-packages/selenium/webdriver/remote/webdriver.py\u001b[0m in \u001b[0;36mexecute\u001b[0;34m(self, driver_command, params)\u001b[0m\n\u001b[1;32m    352\u001b[0m         \u001b[0mresponse\u001b[0m \u001b[0;34m=\u001b[0m \u001b[0mself\u001b[0m\u001b[0;34m.\u001b[0m\u001b[0mcommand_executor\u001b[0m\u001b[0;34m.\u001b[0m\u001b[0mexecute\u001b[0m\u001b[0;34m(\u001b[0m\u001b[0mdriver_command\u001b[0m\u001b[0;34m,\u001b[0m \u001b[0mparams\u001b[0m\u001b[0;34m)\u001b[0m\u001b[0;34m\u001b[0m\u001b[0;34m\u001b[0m\u001b[0m\n\u001b[1;32m    353\u001b[0m         \u001b[0;32mif\u001b[0m \u001b[0mresponse\u001b[0m\u001b[0;34m:\u001b[0m\u001b[0;34m\u001b[0m\u001b[0;34m\u001b[0m\u001b[0m\n\u001b[0;32m--> 354\u001b[0;31m             \u001b[0mself\u001b[0m\u001b[0;34m.\u001b[0m\u001b[0merror_handler\u001b[0m\u001b[0;34m.\u001b[0m\u001b[0mcheck_response\u001b[0m\u001b[0;34m(\u001b[0m\u001b[0mresponse\u001b[0m\u001b[0;34m)\u001b[0m\u001b[0;34m\u001b[0m\u001b[0;34m\u001b[0m\u001b[0m\n\u001b[0m\u001b[1;32m    355\u001b[0m             \u001b[0mresponse\u001b[0m\u001b[0;34m[\u001b[0m\u001b[0;34m\"value\"\u001b[0m\u001b[0;34m]\u001b[0m \u001b[0;34m=\u001b[0m \u001b[0mself\u001b[0m\u001b[0;34m.\u001b[0m\u001b[0m_unwrap_value\u001b[0m\u001b[0;34m(\u001b[0m\u001b[0mresponse\u001b[0m\u001b[0;34m.\u001b[0m\u001b[0mget\u001b[0m\u001b[0;34m(\u001b[0m\u001b[0;34m\"value\"\u001b[0m\u001b[0;34m,\u001b[0m \u001b[0;32mNone\u001b[0m\u001b[0;34m)\u001b[0m\u001b[0;34m)\u001b[0m\u001b[0;34m\u001b[0m\u001b[0;34m\u001b[0m\u001b[0m\n\u001b[1;32m    356\u001b[0m             \u001b[0;32mreturn\u001b[0m \u001b[0mresponse\u001b[0m\u001b[0;34m\u001b[0m\u001b[0;34m\u001b[0m\u001b[0m\n",
            "\u001b[0;32m/usr/local/lib/python3.10/dist-packages/selenium/webdriver/remote/errorhandler.py\u001b[0m in \u001b[0;36mcheck_response\u001b[0;34m(self, response)\u001b[0m\n\u001b[1;32m    227\u001b[0m                 \u001b[0malert_text\u001b[0m \u001b[0;34m=\u001b[0m \u001b[0mvalue\u001b[0m\u001b[0;34m[\u001b[0m\u001b[0;34m\"alert\"\u001b[0m\u001b[0;34m]\u001b[0m\u001b[0;34m.\u001b[0m\u001b[0mget\u001b[0m\u001b[0;34m(\u001b[0m\u001b[0;34m\"text\"\u001b[0m\u001b[0;34m)\u001b[0m\u001b[0;34m\u001b[0m\u001b[0;34m\u001b[0m\u001b[0m\n\u001b[1;32m    228\u001b[0m             \u001b[0;32mraise\u001b[0m \u001b[0mexception_class\u001b[0m\u001b[0;34m(\u001b[0m\u001b[0mmessage\u001b[0m\u001b[0;34m,\u001b[0m \u001b[0mscreen\u001b[0m\u001b[0;34m,\u001b[0m \u001b[0mstacktrace\u001b[0m\u001b[0;34m,\u001b[0m \u001b[0malert_text\u001b[0m\u001b[0;34m)\u001b[0m  \u001b[0;31m# type: ignore[call-arg]  # mypy is not smart enough here\u001b[0m\u001b[0;34m\u001b[0m\u001b[0;34m\u001b[0m\u001b[0m\n\u001b[0;32m--> 229\u001b[0;31m         \u001b[0;32mraise\u001b[0m \u001b[0mexception_class\u001b[0m\u001b[0;34m(\u001b[0m\u001b[0mmessage\u001b[0m\u001b[0;34m,\u001b[0m \u001b[0mscreen\u001b[0m\u001b[0;34m,\u001b[0m \u001b[0mstacktrace\u001b[0m\u001b[0;34m)\u001b[0m\u001b[0;34m\u001b[0m\u001b[0;34m\u001b[0m\u001b[0m\n\u001b[0m",
            "\u001b[0;31mWebDriverException\u001b[0m: Message: unknown error: net::ERR_NAME_NOT_RESOLVED\n  (Session info: chrome-headless-shell=126.0.6478.126)\nStacktrace:\n#0 0x5861de136c7a <unknown>\n#1 0x5861dde19e2c <unknown>\n#2 0x5861dde119c0 <unknown>\n#3 0x5861dde014c2 <unknown>\n#4 0x5861dde02b42 <unknown>\n#5 0x5861dde0177d <unknown>\n#6 0x5861dde00e93 <unknown>\n#7 0x5861dde00d85 <unknown>\n#8 0x5861dddfecc6 <unknown>\n#9 0x5861dddff1ca <unknown>\n#10 0x5861dde1c877 <unknown>\n#11 0x5861ddea8f25 <unknown>\n#12 0x5861dde895c2 <unknown>\n#13 0x5861ddea8303 <unknown>\n#14 0x5861dde89363 <unknown>\n#15 0x5861dde59247 <unknown>\n#16 0x5861dde59b9e <unknown>\n#17 0x5861de0fd24b <unknown>\n#18 0x5861de1012f1 <unknown>\n#19 0x5861de0e8afe <unknown>\n#20 0x5861de101e52 <unknown>\n#21 0x5861de0cd79f <unknown>\n#22 0x5861de126638 <unknown>\n#23 0x5861de126810 <unknown>\n#24 0x5861de135dac <unknown>\n#25 0x7d612c72aac3 <unknown>\n"
          ]
        }
      ]
    },
    {
      "cell_type": "code",
      "source": [
        "from selenium import webdriver\n",
        "from selenium.webdriver.common.keys import Keys\n",
        "from selenium.webdriver.common.by import By\n",
        "from selenium.webdriver.chrome.options import Options\n",
        "from selenium.webdriver.support.ui import WebDriverWait\n",
        "from selenium.webdriver.support import expected_conditions as EC\n",
        "import time\n",
        "import pandas as pd\n",
        "\n",
        "# Selenium 옵션 설정 (헤드리스 모드)\n",
        "options = Options()\n",
        "options.add_argument(\"--headless\")\n",
        "options.add_argument('--no-sandbox')\n",
        "\n",
        "# 웹 드라이버 설정 및 URL 접속\n",
        "driver = webdriver.Chrome(options=options)\n",
        "url = 'https://m.place.naver.com/restaurant/list?query=%EC%9D%B4%EB%8C%80%20%EB%A7%9B%EC%A7%91&x=126.9783882&y=37.5666103&level=top&entry=pll'\n",
        "driver.get(url)\n",
        "time.sleep(3)\n",
        "\n",
        "# 스크롤 내려서 더 많은 결과 가져오기\n",
        "body = WebDriverWait(driver, 10).until(EC.presence_of_element_located((By.CSS_SELECTOR, 'body')))\n",
        "for _ in range(5):\n",
        "    body.send_keys(Keys.PAGE_DOWN)\n",
        "    time.sleep(1)\n",
        "\n",
        "# 식당 정보 추출\n",
        "name_stores = driver.find_elements(By.CSS_SELECTOR, 'a.rWLrK')\n",
        "\n",
        "# 링크가 제대로 추출되는지 확인\n",
        "link_list = [i.get_attribute('href') for i in name_stores]\n",
        "print(\"Extracted links:\", link_list)\n",
        "\n",
        "df = pd.DataFrame(columns=['name', 'star', 'top5_keyword', 'reviews'])\n",
        "\n",
        "# 각 식당 페이지에서 정보 추출\n",
        "for i in range(len(link_list)):\n",
        "    driver.get(\"https://m.place.naver.com\" + link_list[i])\n",
        "    time.sleep(3)\n",
        "\n",
        "    try:\n",
        "        # 식당 이름\n",
        "        name = WebDriverWait(driver, 10).until(\n",
        "            EC.presence_of_element_located((By.CLASS_NAME, \"Fc1rA\"))\n",
        "        ).text\n",
        "\n",
        "        # 별점\n",
        "        star = WebDriverWait(driver, 10).until(\n",
        "            EC.presence_of_element_located((By.CLASS_NAME, \"PXMot\"))\n",
        "        ).text\n",
        "\n",
        "        # top5 키워드\n",
        "        top5_keyword_elements = WebDriverWait(driver, 10).until(\n",
        "            EC.presence_of_all_elements_located((By.CLASS_NAME, \"t3JSf\"))\n",
        "        )\n",
        "        top5_keywords = [el.text for el in top5_keyword_elements]\n",
        "\n",
        "        # 리뷰\n",
        "        review_elements = WebDriverWait(driver, 10).until(\n",
        "            EC.presence_of_all_elements_located((By.CLASS_NAME, \"zPfVt\"))\n",
        "        )\n",
        "        reviews = [el.text for el in review_elements]\n",
        "\n",
        "        # 데이터프레임에 저장\n",
        "        df.loc[i] = [name, star, top5_keywords, reviews]\n",
        "\n",
        "    except Exception as e:\n",
        "        print(f\"Error occurred for link: {link_list[i]}\")\n",
        "        print(e)\n",
        "\n",
        "# 브라우저 종료\n",
        "driver.quit()\n",
        "\n",
        "# 결과 출력\n",
        "print(df)\n"
      ],
      "metadata": {
        "colab": {
          "base_uri": "https://localhost:8080/"
        },
        "id": "B2EhrCayJiQs",
        "outputId": "386fff09-1bd0-4119-a2ee-9105c01ed58e"
      },
      "execution_count": 60,
      "outputs": [
        {
          "output_type": "stream",
          "name": "stdout",
          "text": [
            "Extracted links: []\n",
            "Empty DataFrame\n",
            "Columns: [name, star, top5_keyword, reviews]\n",
            "Index: []\n"
          ]
        }
      ]
    },
    {
      "cell_type": "code",
      "source": [
        "!pip install webdriver_manager"
      ],
      "metadata": {
        "id": "NuPgvsqfNlBl"
      },
      "execution_count": null,
      "outputs": []
    }
  ]
}